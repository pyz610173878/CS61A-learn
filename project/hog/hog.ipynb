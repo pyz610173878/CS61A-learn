{
 "cells": [
  {
   "cell_type": "markdown",
   "id": "5fec186d-5728-4f7e-b6c4-65f265dce30f",
   "metadata": {},
   "source": [
    "# "
   ]
  },
  {
   "cell_type": "markdown",
   "id": "18a32edf",
   "metadata": {},
   "source": [
    "# hog 项目\n",
    "根据 [CS61A第一次大作业要求](https://inst.eecs.berkeley.edu/~cs61a/fa20/proj/hog/#problem-1-hint-video)每个函数按照顺序进行排序。为了照顾英语不好的同学，或者想着用中文阅读起来快一点。我根据gpt和翻译软件。把每个函数的参数与作用都进行了翻译。"
   ]
  },
  {
   "cell_type": "code",
   "execution_count": 5,
   "id": "7929d102",
   "metadata": {},
   "outputs": [
    {
     "name": "stdout",
     "output_type": "stream",
     "text": [
      "5\n"
     ]
    }
   ],
   "source": [
    "\"\"\"CS 61A Presents The Game of Hog.\"\"\"\n",
    "\n",
    "from dice import six_sided, four_sided, make_test_dice\n",
    "from ucb import main, trace, interact\n",
    "\n",
    "GOAL_SCORE = 100  # The goal of Hog is to score 100 points.\n",
    "FIRST_101_DIGITS_OF_PI = 31415926535897932384626433832795028841971693993751058209749445923078164062862089986280348253421170679\n",
    "# 圆周率的值\n",
    "\n",
    "######################\n",
    "# Phase 1: Simulator #\n",
    "######################"
   ]
  },
  {
   "cell_type": "markdown",
   "id": "d80feda4",
   "metadata": {},
   "source": [
    "# roll_dice函数\n",
    "此函数有两个参数, 一个名为 num_rolls 的正整数，表示要掷的骰子数量；另一个是dice函数，用于模拟掷骰子的行为。\n",
    "\n",
    "roll_dice 函数的返回值是根据掷骰子的结果计算出的本回合得分：要么是所有骰子点数之和，要么是1分（如果出现了“Pig Out”情况）。 \n",
    "\n",
    "“Pig Out”是指如果任何一次掷骰的结果是1，那么当前玩家的本回合得分就是1分。\n",
    "\n",
    "例如：\n",
    "1. 当前玩家掷了7次骰子（num_rolls = 7），其中5次的结果是1。由于出现了“Pig Out”，他们本回合的得分是1分。\n",
    "2. 当前玩家掷了4次骰子，结果都是3。因为没有出现“Pig Out”，他们本回合的得分是12分（3+3+3+3）。"
   ]
  },
  {
   "cell_type": "code",
   "execution_count": 6,
   "id": "31372eab",
   "metadata": {},
   "outputs": [
    {
     "name": "stdout",
     "output_type": "stream",
     "text": [
      "1\n",
      "5\n",
      "3\n",
      "2\n",
      "4\n",
      "1\n",
      "4\n",
      "4\n",
      "3\n"
     ]
    },
    {
     "data": {
      "text/plain": [
       "1"
      ]
     },
     "execution_count": 6,
     "metadata": {},
     "output_type": "execute_result"
    }
   ],
   "source": [
    "def roll_dice(num_rolls, dice=six_sided):\n",
    "    \"\"\"模拟将骰子精确滚动 NUM_ROLLS > 0 次。返回结果的总和，除非任何结果为 1。在这种情况下 返回 1.\n",
    "\n",
    "    \n",
    "    num_rolls: 将要进行的掷骰子的次数\n",
    "    dice:      一个模拟单次掷骰子结果的函数 也就是几面\n",
    "    \"\"\"\n",
    "    # 下列 assert语句 表示 num_rolls 必须为正整数.\n",
    "    assert type(num_rolls) == int, 'num_rolls must be an integer.'\n",
    "    assert num_rolls > 0, 'Must roll at least once.'\n",
    "    # BEGIN PROBLEM 1\n",
    "    \"*** YOUR CODE HERE ***\"\n",
    "\n",
    "    Pig_out = False\n",
    "    sum_of_rolls = 0\n",
    "    \n",
    "    for _ in range(num_rolls):\n",
    "        roll = dice()  # 掷骰子\n",
    "        if roll == 1:  # 如果结果为1\n",
    "            Pig_out = True  # 设置“Pig Out”标志为True\n",
    "        sum_of_rolls += roll  # 累加点数\n",
    "        print(roll)\n",
    "    if Pig_out:  # 如果出现了“Pig Out”\n",
    "        return 1  # 返回1分\n",
    "    \n",
    "    else:\n",
    "        return sum_of_rolls  # 返回点数总和\n",
    "\n",
    "\n",
    "\n",
    "roll_dice(5)\n",
    "roll_dice(4, four_sided) # 4面的骰子"
   ]
  },
  {
   "cell_type": "markdown",
   "id": "d26755f9",
   "metadata": {},
   "source": [
    "# free_bacon \n",
    "\n",
    "题目要求实现一个名为free_bacon的函数，该函数接受对手的当前分数作为参数，并返回玩家在掷0个骰子时获得的分数。假设对手的分数小于100。\n",
    "\n",
    "规则如下：\n",
    "圆周率： 31415926535...\n",
    "\n",
    "玩家如果选择不掷骰子，将获得k+3分，其中k是圆周率π小数点后第n位的数字，而n是玩家对手的总分。作为一个特殊情况，如果对手的分数是n=0，那么k=3（圆周率π小数点前的数字）。\n",
    "\n",
    "比如：\n",
    "1. 对手的分数为0：\n",
    "    - 预期结果：`k`是圆周率π小数点前的数字，即3。因此，当前玩家应获得`3+3=6`分。\n",
    "    - 测试调用：`free_bacon(0)`\n",
    "    - 预期输出：6\n",
    "2. 对手的分数为1：\n",
    "    - 预期结果：`k`是圆周率π小数点后的第一位数字，即1。因此，当前玩家应获得`1+3=4`分。\n",
    "    - 测试调用：`free_bacon(1)`\n",
    "    - 预期输出：4\n",
    "3. 对手的分数为2：\n",
    "    - 预期结果：`k`是圆周率π小数点后的第二位数字，即4。因此，当前玩家应获得`4+3=7`分。\n",
    "    - 测试调用：`free_bacon(2)`\n",
    "    - 预期输出：7\n",
    "4. 对手的分数为42：\n",
    "    - 预期结果：`k`是圆周率π小数点后的第四十二位数字，即9。因此，当前玩家应获得`9+3=12`分。\n",
    "    - 测试调用：`free_bacon(42)`\n",
    "    - 预期输出：12\n",
    "\n",
    "提供的代码中包括了FIRST_101_DIGITS_OF_PI作为一个整数，它在本地存储为pi。解决这个问题的一种方法是将pi截断，直到它只有score+1位数字，然后返回pi的最后一位数字加3。\n",
    "\n",
    "提示：如果一个整数n有k+1位数字，那么n小于pow(10, k+1)但大于或等于pow(10, k)。\n",
    "\n",
    "限制条件：不能使用**for循环**或**方括号[ ]**。"
   ]
  },
  {
   "cell_type": "markdown",
   "id": "0f1ea12a",
   "metadata": {},
   "source": []
  },
  {
   "cell_type": "code",
   "execution_count": 16,
   "id": "f50d2404",
   "metadata": {},
   "outputs": [
    {
     "data": {
      "text/plain": [
       "9"
      ]
     },
     "execution_count": 16,
     "metadata": {},
     "output_type": "execute_result"
    }
   ],
   "source": [
    "def free_bacon(score):\n",
    "    \"\"\"Return the points scored from rolling 0 dice (Free Bacon).\n",
    "\n",
    "    score:  The opponent's current score.\n",
    "    \"\"\"\n",
    "    assert score < 100, 'The game should be over.'\n",
    "    # BEGIN PROBLEM 2\n",
    "    \"*** YOUR CODE HERE ***\"\n",
    "    return 10 + score//10%10 - score%10\n",
    "    # END PROBLEM 2\n",
    "\n",
    "\n",
    "\n",
    "\n",
    "# free_bacon(1)\n",
    "\n"
   ]
  },
  {
   "cell_type": "markdown",
   "id": "c95f8904",
   "metadata": {},
   "source": []
  },
  {
   "cell_type": "markdown",
   "id": "b29fb1cf",
   "metadata": {},
   "source": [
    "# take_turn \n",
    "\n",
    "题目要求实现一个名为`take_turn`的函数，该函数通过掷给定的骰子`num_rolls`次来返回本回合获得的分数。\n",
    "在实现`take_turn`函数时，你应该尽可能地调用`roll_dice`和`free_bacon`函数。\n",
    "在你开始编写任何代码之前，应该解锁并运行测试，以验证你对题目的理解。\n",
    "题目还提供了一个名为`extra_turn`的函数，它接受当前玩家和对手的分数作为参数，并返回当前玩家是否因某些规则而获得额外回合的布尔值。这个函数调用`pig_pass`和`swine_align`来判断是否满足额外回合的条件。\n",
    "在实现`take_turn`函数时，你需要考虑以下几点：\n",
    "1. 如果`num_rolls`大于0，你应该调用`roll_dice`函数来模拟掷骰子的行为，并返回掷骰子的结果。\n",
    "2. 如果`num_rolls`等于0，你应该调用`free_bacon`函数来计算“免费培根”的得分。\n",
    "3. 在计算得分后，你应该检查是否满足`extra_turn`函数的条件，如果满足，应该返回一个表示额外回合的值。\n",
    "这个题目需要你综合运用之前学习的知识，包括如何模拟掷骰子的行为、如何计算最大公约数，以及如何根据游戏规则来决定是否获得额外回合。\n"
   ]
  },
  {
   "cell_type": "code",
   "execution_count": 17,
   "id": "951c81fd",
   "metadata": {},
   "outputs": [
    {
     "data": {
      "text/plain": [
       "10"
      ]
     },
     "execution_count": 17,
     "metadata": {},
     "output_type": "execute_result"
    }
   ],
   "source": [
    "def take_turn(num_rolls, opponent_score, dice=six_sided):\n",
    "    \"\"\"Simulate a turn rolling NUM_ROLLS dice, which may be 0 (Free Bacon).\n",
    "    Return the points scored for the turn by the current player.\n",
    "\n",
    "    num_rolls:       一个非负整数，表示玩家本轮要掷的骰子数量。如果为0，则执行“免费培根”规则。.\n",
    "    opponent_score:  对手的当前总分.\n",
    "    dice:            一个函数，默认为six_sided，用于模拟单次掷骰子的结果.\n",
    "    \"\"\"\n",
    "    # Leave these assert statements here; they help check for errors.\n",
    "    assert type(num_rolls) == int, 'num_rolls must be an integer.'\n",
    "    assert num_rolls >= 0, 'Cannot roll a negative number of dice in take_turn.'\n",
    "    assert num_rolls <= 10, 'Cannot roll more than 10 dice.'\n",
    "    assert opponent_score < 100, 'The game should be over.'\n",
    "    # BEGIN PROBLEM 3\n",
    "    \"*** YOUR CODE HERE ***\"\n",
    "    if num_rolls > 0:\n",
    "        return roll_dice(num_rolls, dice)\n",
    "    else:\n",
    "        return free_bacon(opponent_score)\n",
    "    # END PROBLEM 3\n",
    "\n",
    "\n",
    "\n",
    "\n",
    "take_turn(0,66)"
   ]
  },
  {
   "cell_type": "markdown",
   "id": "740d3ce1",
   "metadata": {},
   "source": [
    "# swine_align\n",
    "\n",
    "该函数接受当前**玩家**和**对手的分数**作为参数，并返回当前玩家是否因“猪猪同行”（Swine Align）规则而获得额外回合的布尔值。需要注意的是，如果其中一个分数为0，则返回False。\n",
    "\n",
    "在当前玩家本轮得分加到总分后，如果两个玩家都有正分且当前玩家分数与对手分数的最大公约数（GCD）至少为10，则当前玩家获得额外回合。\n",
    "示例：\n",
    "在第一玩家本轮得分加到总分后，玩家分数分别为8和36。两分数的最大公约数为4，因此第一玩家不会因“猪猪同行”获得额外回合。\n",
    "\n",
    "在第一玩家本轮得分加到总分后，玩家分数分别为20和30。两分数的最大公约数为10，因此第一玩家因“猪猪同行”获得额外回合。\n",
    "\n",
    "在第一玩家本轮得分加到总分后，玩家分数分别为24和36。两分数的最大公约数为12，因此第一玩家因“猪猪同行”获得额外回合。第一玩家掷出一个12，分数变为36和36。两分数的最大公约数为36，因此第一玩家再次因“猪猪同行”获得额外回合。\n",
    "\n",
    "在第一玩家本轮得分加到总分后，玩家分数分别为15和0。由于“猪猪同行”只适用于双方分数均为正数的情况，因此第一玩家不会因“猪猪同行”获得额外回合。\n",
    "\n",
    "提示：表达式n % d == 0只有在n是d的倍数时才为真。\n",
    "\n",
    "在实现swine_align函数时，你需要使用数学中的最大公约数算法，并检查在玩家得分更新后，其与对手分数的最大公约数是否至少为10。如果满足条件，则返回True；否则返回False。\n",
    "\n",
    "\n",
    "## 最大公约数算法\n",
    "\n",
    "可以先学习如何找到单个整数的最大约数。把问题拆分一下嘛。\n",
    "用循环就可以解决。比如15.我们就从15开始。得出一个整数的所有约数这个函数有意义。但得出一个数的最大约数就没有意义。因为就是他本身。\n",
    "\n",
    "\n",
    "我能想到的就是。算出两个整数的所有约数，然后在进行对比。"
   ]
  },
  {
   "cell_type": "code",
   "execution_count": 5,
   "id": "3f5fdda4",
   "metadata": {},
   "outputs": [
    {
     "data": {
      "text/plain": [
       "True"
      ]
     },
     "execution_count": 5,
     "metadata": {},
     "output_type": "execute_result"
    }
   ],
   "source": [
    "def swine_align(player_score, opponent_score):\n",
    "    \"\"\"Return whether the player gets an extra turn due to Swine Align.\n",
    "\n",
    "    player_score:   The total score of the current player.\n",
    "    opponent_score: The total score of the other player.\n",
    "    \"\"\"\n",
    "    # 计算最大公约数\n",
    "    def gcd(a, b):\n",
    "        while b: # 如果余数为零那么循环终止。\n",
    "            a, b = b, a % b\n",
    "        return a\n",
    "\n",
    "    # 计算两个分数的最大公约数\n",
    "    gcd_value = gcd(player_score, opponent_score)\n",
    "    \n",
    "    # 返回最大公约数是否至少为10的布尔值\n",
    "    return gcd_value >= 10\n",
    "\n",
    "\n",
    "\n",
    "swine_align(35, 45)\n",
    "swine_align(100, 50)"
   ]
  },
  {
   "cell_type": "markdown",
   "id": "5ad6b111",
   "metadata": {},
   "source": [
    "在欧几里得算法的迭代版本中，交换`a`和`b`的值是因为算法的设计是为了减少计算量。当`b`等于`0`时，算法结束，因为这意味着`a`是`b`的倍数，所以`b`（现在实际上是`a`的原始值）就是`a`和`b`（现在实际上是`b`的原始值）的最大公约数。\n",
    "然而，在每次迭代中，我们只关心`a`和`b`的差值，而不是它们的具体值。因此，如果`b`不再是`a`的倍数，那么`b`的值对于下一轮迭代来说不再重要。相反，`r`（即`a`除以`b`的余数）是下一轮迭代中`a`的新值，而`b`的新值将是`r`。\n",
    "这样做的好处是，每次迭代都可以减少`b`的大小，从而更快地达到余数为0的情况。这是因为每次迭代都相当于将问题规模减半，这在数学上被称为“减半法”（halving method）。\n",
    "例如，考虑计算`60`和`48`的最大公约数：\n",
    "1. `60`除以`48`得到余数`12`。\n",
    "2. 接下来，我们不关心`48`，而是关心`60`和`12`。\n",
    "3. `60`除以`12`得到余数`0`。\n",
    "4. 此时，`12`是`60`除以`48`的余数，所以它是`60`和`48`的最大公约数。\n",
    "通过这种方式，我们避免了在每次迭代中重复计算`48`和`60`的除法，而是直接将问题规模缩小到余数，这样可以更快地找到最大公约数。\n"
   ]
  }
 ],
 "metadata": {
  "kernelspec": {
   "display_name": "Python 3 (ipykernel)",
   "language": "python",
   "name": "python3"
  },
  "language_info": {
   "codemirror_mode": {
    "name": "ipython",
    "version": 3
   },
   "file_extension": ".py",
   "mimetype": "text/x-python",
   "name": "python",
   "nbconvert_exporter": "python",
   "pygments_lexer": "ipython3",
   "version": "3.12.1"
  }
 },
 "nbformat": 4,
 "nbformat_minor": 5
}
