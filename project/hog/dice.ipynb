{
 "cells": [
  {
   "cell_type": "markdown",
   "id": "844dd327",
   "metadata": {},
   "source": [
    "# make_fair_dice \n",
    " make_fair_dice 函数模拟成一个骰子。 sides 参数为骰子的面数。现在常见的骰子面数都是六面，当然还有四面的。\n",
    "\n",
    "返回值：根据sides 参数随机返回一面。他就像我们在酒吧摇得骰子。"
   ]
  },
  {
   "cell_type": "code",
   "execution_count": 101,
   "id": "2661d408-5b5b-4556-9126-94ec23b1aa13",
   "metadata": {
    "editable": true,
    "slideshow": {
     "slide_type": ""
    },
    "tags": []
   },
   "outputs": [
    {
     "data": {
      "text/plain": [
       "3"
      ]
     },
     "execution_count": 101,
     "metadata": {},
     "output_type": "execute_result"
    }
   ],
   "source": [
    "\"\"\"模拟掷骰子的函数。\n",
    "\n",
    "骰子函数不带参数，返回一个从 1 到 n 的数字\n",
    "（含），其中 n 是骰子上的边数。\n",
    "\n",
    "骰子的种类:\n",
    "\n",
    "- 骰子可以是公平的，这意味着它们会产生相等的每个可能的结果\n",
    "    概率。示例：four_sided、six_sided\n",
    "\n",
    " -  于使用骰子的测试函数，确定性测试骰子始终循环 通过作为参数传递给make_test_dice功能。\n",
    "\"\"\"\n",
    "\n",
    "from random import randint\n",
    "\n",
    "def make_fair_dice(sides):\n",
    "    # 返回骰子面\n",
    "    \"\"\"Return a die that returns 1 to SIDES with equal chance.\"\"\"\n",
    "    assert type(sides) == int and sides >= 1, 'Illegal value for sides'\n",
    "    # 判断此参数是否大于1\n",
    "    def dice():\n",
    "        return randint(1,sides)\n",
    "        # 返回一个随机值\n",
    "    return dice\n",
    "    # 为什么要这样写呢，返回函数。而不是返回值一个值。利于复用吗？\n",
    "    # 如何学习这种学法呢\n",
    "\n",
    "four_sided = make_fair_dice(4) # 四面骰子 每运行一次随机返回一个1 -4 \n",
    "six_sided = make_fair_dice(6)  # 每运行一次随机 1- 6\n",
    "six_sided()\n",
    "four_sided()"
   ]
  },
  {
   "cell_type": "markdown",
   "id": "33a23b06",
   "metadata": {},
   "source": []
  },
  {
   "cell_type": "markdown",
   "id": "3791cf37-9534-410b-bf41-39a9eef7af15",
   "metadata": {},
   "source": [
    "这里使用了闭包的概念，dice 函数可以访问外部函数 make_fair_dice 的参数 sides。这样做的好处是，你可以创建多个不同面数的骰子，并且它们都保函了自己的状态（面数）。"
   ]
  },
  {
   "cell_type": "code",
   "execution_count": 1,
   "id": "47d993a0-8216-42a8-9029-99fedf970dd3",
   "metadata": {},
   "outputs": [
    {
     "name": "stdout",
     "output_type": "stream",
     "text": [
      "4\n",
      "1\n",
      "2\n"
     ]
    },
    {
     "data": {
      "text/plain": [
       "4"
      ]
     },
     "execution_count": 1,
     "metadata": {},
     "output_type": "execute_result"
    }
   ],
   "source": [
    "def make_test_dice(*outcomes):\n",
    "    \"\"\"Return a die that cycles deterministically through OUTCOMES.\n",
    "\n",
    "    >>> dice = make_test_dice(1, 2, 3)\n",
    "    >>> dice()\n",
    "    1\n",
    "    >>> dice()\n",
    "    2\n",
    "    >>> dice()\n",
    "    3\n",
    "    >>> dice()\n",
    "    1\n",
    "    >>> dice()\n",
    "    2\n",
    "\n",
    "    This function uses Python syntax/techniques not yet covered in this course.\n",
    "    The best way to understand it is by reading the documentation and examples.\n",
    "    \"\"\"\n",
    "    assert len(outcomes) > 0, 'You must supply outcomes to make_test_dice'\n",
    "    # 判断参数是否大于0\n",
    "    for o in outcomes:\n",
    "        # 参数迭代\n",
    "        assert type(o) == int and o >= 1, 'Outcome is not a positive integer'\n",
    "        # 确保每一个参数都是正整数\n",
    "    index = len(outcomes) - 1\n",
    "    # 为什么索引值要减去一，因为索引值是从零开始\n",
    "    def dice():\n",
    "        # 又定义一个函数\n",
    "        nonlocal index\n",
    "        index = (index + 1) % len(outcomes)\n",
    "        return outcomes[index]\n",
    "    return dice\n",
    "\n",
    "test_dice = make_test_dice(5, 1, 1,10,35)\n",
    "\n",
    "\n",
    "test_dice = make_test_dice(4, 1, 2)\n",
    "\n",
    "\n",
    "print(test_dice())  # 输出: 4\n",
    "print(test_dice())  # 输出: 1\n",
    "print(test_dice())  # 输出: 2"
   ]
  },
  {
   "cell_type": "code",
   "execution_count": 2,
   "id": "3e3816fa-b214-4d18-a74d-ab7d426e4dc0",
   "metadata": {},
   "outputs": [
    {
     "data": {
      "text/plain": [
       "123"
      ]
     },
     "execution_count": 2,
     "metadata": {},
     "output_type": "execute_result"
    }
   ],
   "source": []
  }
 ],
 "metadata": {
  "kernelspec": {
   "display_name": "Python 3 (ipykernel)",
   "language": "python",
   "name": "python3"
  },
  "language_info": {
   "codemirror_mode": {
    "name": "ipython",
    "version": 3
   },
   "file_extension": ".py",
   "mimetype": "text/x-python",
   "name": "python",
   "nbconvert_exporter": "python",
   "pygments_lexer": "ipython3",
   "version": "3.12.1"
  }
 },
 "nbformat": 4,
 "nbformat_minor": 5
}
