{
 "cells": [
  {
   "cell_type": "code",
   "execution_count": 9,
   "id": "e93bee4f-d5e1-46d3-959d-8e50b6f8dcd0",
   "metadata": {},
   "outputs": [
    {
     "name": "stdout",
     "output_type": "stream",
     "text": [
      "Help on built-in function max in module builtins:\n",
      "\n",
      "max(...)\n",
      "    max(iterable, *[, default=obj, key=func]) -> value\n",
      "    max(arg1, arg2, *args, *[, key=func]) -> value\n",
      "    \n",
      "    With a single iterable argument, return its biggest item. The\n",
      "    default keyword-only argument specifies an object to return if\n",
      "    the provided iterable is empty.\n",
      "    With two or more arguments, return the largest argument.\n",
      "\n"
     ]
    },
    {
     "data": {
      "text/plain": [
       "3"
      ]
     },
     "execution_count": 9,
     "metadata": {},
     "output_type": "execute_result"
    }
   ],
   "source": [
    "\n",
    "# 给定三个正整数。\n",
    "# 返回其中两个最小数的乘积的和。 \n",
    "\n",
    "\n",
    "\n",
    "\n",
    "# 第一步肯定是把三个数进行比较，找出两个最小数\n",
    "# 还有一个方法。找出最大的，其他两个参数的和就是答案了。\n",
    "# 那么下一步呢？ \n",
    "\n",
    "\n",
    "\n",
    "\n",
    "# 没见过类似的题目。\n",
    "# 有可以使用的函数吗，是否写一个辅助函数进行解决？\n",
    "\n",
    "# min函数与reduce函数\n",
    "\n",
    "# 就是我现在脑中只能想到使用 if else的语句。\n",
    "# 其他的想不出来了。\n",
    "\n",
    "\n",
    "# 然后进行相加。"
   ]
  },
  {
   "cell_type": "code",
   "execution_count": 18,
   "id": "71c9074f-c31a-4596-8859-3d2e28f1ddc3",
   "metadata": {},
   "outputs": [
    {
     "data": {
      "text/plain": [
       "8"
      ]
     },
     "execution_count": 18,
     "metadata": {},
     "output_type": "execute_result"
    }
   ],
   "source": [
    "# help(min)\n",
    "# min(1, 2, 3)\n",
    "# from functools import reduce\n",
    "\n",
    "# lst = [1, 2, 4]\n",
    "def two_of_three(x, y, z):\n",
    "    result = min(x,y)\n",
    "    result1 = min(y,z)\n",
    "    sum = pow(result, 2) + pow(result1, 2)\n",
    "    return sum\n",
    "\n",
    "\n",
    "two_of_three(1, 2, 4)\n",
    "# reduce(lambda x, y:min(x, y), lst)\n",
    "\n",
    "two_of_three(5, 3, 1)\n",
    "two_of_three(10, 2, 8)\n",
    "# two_of_three(5, 5, 5)\n",
    "\n",
    "\n"
   ]
  },
  {
   "cell_type": "code",
   "execution_count": 13,
   "id": "0e60c7ad-91c8-4075-8caa-5730d3433a5b",
   "metadata": {},
   "outputs": [
    {
     "data": {
      "text/plain": [
       "30"
      ]
     },
     "execution_count": 13,
     "metadata": {},
     "output_type": "execute_result"
    }
   ],
   "source": [
    "# 返回最大的因数\n",
    "\n",
    "\n",
    "# def largest_factor(n):\n",
    "#     result = []\n",
    "#     for i in range(1, n):\n",
    "#         if n % i == 0:\n",
    "#             result.append(i)\n",
    "            \n",
    "            \n",
    "# largest_factor(15)\n",
    "\n",
    "# 15 % 1\n",
    "# 15 % 2\n",
    "# 15 % 3\n",
    "# 15 % 4\n",
    "\n",
    "\n",
    "\n",
    "# 第二问题，如何输出最大数，我想到了max函数。\n",
    "# 第二个思路，把这些数装到一个列表里面，然后输出里面中最大的数。\n",
    "\n",
    "\n",
    "def largest_factor(x):\n",
    "    for i in range(x//2, 0, -1):\n",
    "        if x % i == 0:\n",
    "            return i\n",
    "        \n",
    "        \n",
    "# largest_factor(15)\n",
    "# largest_factor(20)\n",
    "# largest_factor(60)\n",
    "# largest_factor(40)\n",
    "\n",
    "\n",
    "# 我懂了，确实牛逼。\n",
    "# 首先最大因数肯定不是自身。比如 60不可能是 60.所以他除以个2 30\n",
    "# 2. range函数 经可以倒过来，这是我忘记了的，我当时也没有想到"
   ]
  }
 ],
 "metadata": {
  "kernelspec": {
   "display_name": "Python 3 (ipykernel)",
   "language": "python",
   "name": "python3"
  },
  "language_info": {
   "codemirror_mode": {
    "name": "ipython",
    "version": 3
   },
   "file_extension": ".py",
   "mimetype": "text/x-python",
   "name": "python",
   "nbconvert_exporter": "python",
   "pygments_lexer": "ipython3",
   "version": "3.7.4"
  }
 },
 "nbformat": 4,
 "nbformat_minor": 5
}
