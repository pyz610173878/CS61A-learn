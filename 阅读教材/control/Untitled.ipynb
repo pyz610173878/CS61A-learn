{
 "cells": [
  {
   "cell_type": "code",
   "execution_count": 5,
   "id": "cbacca03-1f49-4007-81b3-4f486575e07b",
   "metadata": {},
   "outputs": [
    {
     "data": {
      "text/plain": [
       "'234.1'"
      ]
     },
     "execution_count": 5,
     "metadata": {},
     "output_type": "execute_result"
    }
   ],
   "source": [
    "def getSum(n):\n",
    "     \n",
    "    strr = str(n)\n",
    "    list_of_number = list(map(int, strr.strip()))\n",
    "    print(list_of_number)\n",
    "    return sum(list_of_number)\n",
    "\n",
    "\n",
    "\n",
    "\n",
    "# getSum(float(235))\n",
    "\n",
    "\n",
    "\n",
    "str = \"234.1\"\n",
    "str.strip()"
   ]
  },
  {
   "cell_type": "code",
   "execution_count": 8,
   "id": "cec3bc35-a754-498e-88f0-911f2ab0ae25",
   "metadata": {},
   "outputs": [
    {
     "data": {
      "text/plain": [
       "325"
      ]
     },
     "execution_count": 8,
     "metadata": {},
     "output_type": "execute_result"
    }
   ],
   "source": [
    "from operator import add, sub, mul\n",
    "def square(x):\n",
    "    return mul(x, x)\n",
    "\n",
    "def sum_squares(x, y):\n",
    "    return add(square(x), square(y))\n",
    "\n",
    "    \n",
    "sum_squares(3, 4)\n",
    "\n",
    "sum_squares(add(7,8), add(9, 1))"
   ]
  },
  {
   "cell_type": "code",
   "execution_count": 9,
   "id": "6a968632-6a63-4697-89e5-1f11b4b460c1",
   "metadata": {},
   "outputs": [
    {
     "ename": "SyntaxError",
     "evalue": "invalid syntax (1667235569.py, line 12)",
     "output_type": "error",
     "traceback": [
      "\u001b[1;36m  File \u001b[1;32m\"C:\\Users\\彭逸钊\\AppData\\Local\\Temp\\ipykernel_74944\\1667235569.py\"\u001b[1;36m, line \u001b[1;32m12\u001b[0m\n\u001b[1;33m    help(assert)\u001b[0m\n\u001b[1;37m              ^\u001b[0m\n\u001b[1;31mSyntaxError\u001b[0m\u001b[1;31m:\u001b[0m invalid syntax\n"
     ]
    }
   ],
   "source": [
    "def percent_difference(x, y):\n",
    "        return 100 * abs(x-y) / x\n",
    "percent_difference(40, 50)\n",
    "\n",
    "\n",
    "\n",
    "\n",
    "assert percent_difference(40, 50) == 25.0\n",
    "\n",
    "\n",
    "# 他会捕获，这个函数返回值是否等于 25.如果等于返回True。如果不等于返回False。\n",
    "# "
   ]
  }
 ],
 "metadata": {
  "kernelspec": {
   "display_name": "Python 3 (ipykernel)",
   "language": "python",
   "name": "python3"
  },
  "language_info": {
   "codemirror_mode": {
    "name": "ipython",
    "version": 3
   },
   "file_extension": ".py",
   "mimetype": "text/x-python",
   "name": "python",
   "nbconvert_exporter": "python",
   "pygments_lexer": "ipython3",
   "version": "3.7.4"
  }
 },
 "nbformat": 4,
 "nbformat_minor": 5
}
