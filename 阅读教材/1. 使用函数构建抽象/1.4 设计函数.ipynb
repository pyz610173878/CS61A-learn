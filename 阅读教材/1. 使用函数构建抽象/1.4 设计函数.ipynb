{
 "cells": [
  {
   "cell_type": "markdown",
   "id": "9466e4ef-98e4-46c5-818e-9d75953493c8",
   "metadata": {},
   "source": [
    "函数是所有程序（无论大小）的基本组成部分，并且是我们使用编程语言来表达计算过程的主要媒介。之前我们已经讨论过了函数的形式及其调用方式，而本节我们将讨论“什么是一个好函数”。从根本上说，好函数共有的品质就是：它们都强化了**函数就是抽象**的理念。\n",
    "\n",
    " * 每个函数应该只负责一个任务，且该任务要用一个简短的名称来识别，并在一行文本中进行描述。按顺序执行多个任务的函数应该分为多个函数。\n",
    " * 不要重复自己（Don't repeat yourself）是软件工程的核心原则。这个所谓的 DRY 原则指出，多个代码片段不应该描述重复的逻辑。相反，逻辑应该只实现一次，为其指定一个名称后多次使用。如果你发现自己正在复制粘贴一段代码，那么你可能已经找到了进行函数抽象的机会。\n",
    " * 定义通用的函数。比如作为 pow 函数的一个特例的平方函数就不在 Python 库中，因为 pow 函数可以将数字计算为任意次方。举一个反例，假设我们现在生活中的插座每个厂商都设计不同的插座型号，比如两孔的，三孔，三角形，各种各样的形式都有。那么就会出现一个插座只能与对应的插座型号进行匹配。我们能否像手机厂商一样，统一接口比如现在的安卓手机全部统一成type-c接口，定义一个通用的协议，所有厂商都在同一个协议下进行开发。\n",
    "\n",
    "这些准则提高了代码的可读性，减少了错误的数量，并且通常最大限度地减少了编写的代码总量。将复杂的任务分解为简洁的功能是一项需要经验才能掌握的技能。幸运的是，Python 提供了多种特性来支持你的工作。"
   ]
  },
  {
   "cell_type": "code",
   "execution_count": null,
   "id": "6cc12aea-049c-4542-a3c2-be2c194c57c0",
   "metadata": {},
   "outputs": [],
   "source": []
  }
 ],
 "metadata": {
  "kernelspec": {
   "display_name": "Python 3 (ipykernel)",
   "language": "python",
   "name": "python3"
  },
  "language_info": {
   "codemirror_mode": {
    "name": "ipython",
    "version": 3
   },
   "file_extension": ".py",
   "mimetype": "text/x-python",
   "name": "python",
   "nbconvert_exporter": "python",
   "pygments_lexer": "ipython3",
   "version": "3.12.1"
  }
 },
 "nbformat": 4,
 "nbformat_minor": 5
}
