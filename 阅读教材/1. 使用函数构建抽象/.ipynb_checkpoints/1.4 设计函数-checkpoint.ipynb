{
 "cells": [
  {
   "cell_type": "markdown",
   "id": "4ea982dd-bfee-4b9b-a17a-df2627af7b47",
   "metadata": {},
   "source": [
    "函数是所有程序的要素，无论规模大小，并且在编程语言中作为我们表达计算过程的主要媒介。目前为止，我们讨论了函数的形式特性，以及它们如何使用。我们现在跳转到如何编写良好的函数这一话题。\r\n",
    "* \r\n",
    "每个函数都应该只做一个任务。这个任务可以使用短小的名称来定义，使用一行文本来标识。顺序执行多个任务的函数应该拆分在多个函数中* 。\r\n",
    "不要重复劳动（DRY）是软件工程的中心法则。所谓的DRY原则规定多个代码段不应该描述重复的逻辑。反之，逻辑应该只实现一次，指定一个名称，并且多次使用。如果你发现自己在复制粘贴一段代码，你可能发现了一个使用函数抽象的机* 会。\r\n",
    "函数应该定义得通常一些，准确来说，平方并不是在 Python 库中，因为它是pow函数的一个特例，这个函数计算任何数的任何次方。\r\n",
    "这些准则提升代码的可读性，减少错误数量，并且通常使编写的代码总数最小。将复杂的任务拆分为简洁的函数是一个技巧，它需要一些经验来掌握。幸运的是，Python 提供了一些特性来支持你的努力。"
   ]
  },
  {
   "cell_type": "markdown",
   "id": "5a127c92-3452-41c1-92bf-01f4527952cf",
   "metadata": {},
   "source": []
  }
 ],
 "metadata": {
  "kernelspec": {
   "display_name": "Python 3 (ipykernel)",
   "language": "python",
   "name": "python3"
  },
  "language_info": {
   "codemirror_mode": {
    "name": "ipython",
    "version": 3
   },
   "file_extension": ".py",
   "mimetype": "text/x-python",
   "name": "python",
   "nbconvert_exporter": "python",
   "pygments_lexer": "ipython3",
   "version": "3.12.1"
  }
 },
 "nbformat": 4,
 "nbformat_minor": 5
}
