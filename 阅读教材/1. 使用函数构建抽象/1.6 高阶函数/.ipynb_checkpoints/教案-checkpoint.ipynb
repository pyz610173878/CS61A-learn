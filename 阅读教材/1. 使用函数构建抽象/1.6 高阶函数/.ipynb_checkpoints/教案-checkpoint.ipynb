{
 "cells": [
  {
   "cell_type": "markdown",
   "id": "867aff9d-57ab-4fb8-b2f5-7de34a00dce7",
   "metadata": {},
   "source": [
    "# 泛化\n",
    "\n",
    "这里就讲了如何进行泛化，什么时候可以进行泛化。这个例子关于的如何画边形形状的图案。这里就举出了三个形状的区域。然后通过观察他们之间的共性，找出通用的常亮和变量。这个例子中，r的平方是通用的。\n",
    "找到共同的结构可以实现共同的实现\n",
    "\n",
    "高阶函数增加了抽象程度。如何通过高阶函数实现画任意边形的图案。"
   ]
  },
  {
   "cell_type": "code",
   "execution_count": 2,
   "id": "ffe90fc5-040f-4e35-bbb8-3d2a12f3c4e1",
   "metadata": {},
   "outputs": [],
   "source": [
    "# Generalizing patterns using arguments\n",
    "\n",
    "from math import pi, sqrt\n",
    "\n",
    "# 一个函数只做一件事情\n",
    "def area_square(r):\n",
    "    \"\"\"返回边长为 R 的正方形的面积.\"\"\"\n",
    "    return r * r\n",
    "\n",
    "def area_circle(r):\n",
    "    \"\"\"返回半径为 R 的圆的面积.\"\"\"\n",
    "    return r * r * pi\n",
    "\n",
    "def area_hexagon(r):\n",
    "    \"\"\"返回边长为 R 的正六边形的面积.\"\"\"\n",
    "    return r * r * 3 * sqrt(3) / 2\n",
    "\n",
    "\n",
    "# 分解他们共同的部分。"
   ]
  },
  {
   "cell_type": "markdown",
   "id": "59d65c6f-be2a-4631-9de4-cb5823c0e4d8",
   "metadata": {},
   "source": [
    "回顾他的思考过程，写完函数之后，就开始测试，然后在测试的过程中发现了一些问题，比如负数的情况下返回值不准确。然后使用Python中的，asset 关键字解决这个问题。在解决这个问题的过程中，就出现一个问题，难道我要在每个函数中都写一遍 assert，很明显这违背了软件工程中的一个原则，dry（不要重复你自己）。他的解决办法就是再写一个函数，进行抽象。"
   ]
  },
  {
   "cell_type": "code",
   "execution_count": null,
   "id": "5746fff7-322b-4781-99b7-0938e9dc278d",
   "metadata": {},
   "outputs": [],
   "source": [
    "def area(r, shape_constant):\n",
    "    \"\"\"Return the area of a shape from length measurement R.\"\"\"\n",
    "    assert r > 0, 'A length must be positive'\n",
    "    return r * r * shape_constant\n",
    "\n",
    "def area_square(r):\n",
    "    return area(r, 1)\n",
    "\n",
    "def area_circle(r):\n",
    "    return area(r, pi)\n",
    "\n",
    "def area_hexagon(r):\n",
    "    return area(r, 3 * sqrt(3) / 2)"
   ]
  },
  {
   "cell_type": "markdown",
   "id": "d8ee9b21-433d-472d-ac95-0a7bef6365a0",
   "metadata": {},
   "source": [
    "## 2. 泛化练习\n",
    "\n"
   ]
  },
  {
   "cell_type": "markdown",
   "id": "6d8edb52-926b-4f03-9afc-7f1d630128e8",
   "metadata": {},
   "source": [
    "# 第二个例子\n",
    "\n",
    "这就是为什么要学习数学的原因。通过数学表达式我们就知道这个函数的定义域和值域是什么。相当于是我们把数学公式用函数进行描述。\n"
   ]
  },
  {
   "cell_type": "code",
   "execution_count": null,
   "id": "896f9e3b-9e25-4754-b902-3e37bd4e895d",
   "metadata": {},
   "outputs": [],
   "source": [
    "\n",
    "def test1(\n",
    "\n",
    "\n",
    "def sum_naturals(n):\n",
    "    \"\"\" 返回参数k的总和\"\"\"\n",
    "    total, k = 0, 1\n",
    "    while k <= n:\n",
    "        total = total + k\n",
    "        k = k + 1\n",
    "    return print(total)\n",
    "\n",
    "sum_naturals(5)\n"
   ]
  },
  {
   "cell_type": "code",
   "execution_count": 2,
   "id": "59ba445c-ee62-4a21-a683-7f82a75f5671",
   "metadata": {},
   "outputs": [
    {
     "name": "stdout",
     "output_type": "stream",
     "text": [
      "225\n"
     ]
    }
   ],
   "source": [
    "def sum_cubes(n):\n",
    "    total, k = 0, 1\n",
    "    while k <= n:\n",
    "        total = total + pow(k, 3)\n",
    "        k = k + 1\n",
    "    return print(total)\n",
    "\n",
    "sum_cubes(5)"
   ]
  },
  {
   "cell_type": "code",
   "execution_count": 11,
   "id": "c7ba8f44-3c28-4350-a689-b285591a63e1",
   "metadata": {},
   "outputs": [
    {
     "data": {
      "text/plain": [
       "15"
      ]
     },
     "execution_count": 11,
     "metadata": {},
     "output_type": "execute_result"
    }
   ],
   "source": [
    "def cube(r):\n",
    "    return pow(r, 3)\n",
    "\n",
    "def identity(x):\n",
    "    return x\n",
    "\n",
    "def summation(n, term):\n",
    "    total, k = 0, 1\n",
    "    while k <= n:\n",
    "        total = total + term(k)\n",
    "        k += 1\n",
    "    return total\n",
    "\n",
    "summation(5, identity)"
   ]
  },
  {
   "cell_type": "markdown",
   "id": "dd065ea1-8b7b-463d-a1ae-8235524f2e2c",
   "metadata": {},
   "source": [
    "这两个函数都有相同的模式，如何通过函数抽象出去？除了total值不一样，其他程序的结构都是一模一样的。\n",
    "\n",
    "\n",
    "你想如何用？给一个自然数，给一个cube他返回。根据一个函数只作一件事情，我们可以编写一个函数，函数就返回结果本身。他不处理，循环过程。"
   ]
  },
  {
   "cell_type": "markdown",
   "id": "f97f6815-c6f1-42ad-9d8c-8b6b7f86eb53",
   "metadata": {},
   "source": [
    "梳理思考过程。首先并不是直接进行抽象。而是先编写普通的函数，然后发现几个函数中，存在共同的模式。这个时候才进行抽象与拆分函数。\n",
    "2. 就是我们需要思考，我们会怎么用这个函数，这个函数怎么用是最顺手的。比如这个例子。\n"
   ]
  },
  {
   "cell_type": "code",
   "execution_count": 12,
   "id": "e5436b25-4ce2-43ad-b0a6-cd3091dd8cf8",
   "metadata": {},
   "outputs": [
    {
     "data": {
      "text/plain": [
       "2020"
      ]
     },
     "execution_count": 12,
     "metadata": {},
     "output_type": "execute_result"
    }
   ],
   "source": [
    "# Local function definitions; returning functions\n",
    "\n",
    "def make_adder(n):\n",
    "    \"\"\"Return a function that takes one argument K and returns K + N.\n",
    "\n",
    "    >>> add_three = make_adder(3)\n",
    "    >>> add_three(4)\n",
    "    7\n",
    "    \"\"\"\n",
    "    def adder(k):\n",
    "        return k + n\n",
    "    return adder\n",
    "\n",
    "make_adder(2000)(20)"
   ]
  },
  {
   "cell_type": "markdown",
   "id": "c88229a9-c005-4e00-bb01-ac9d3765ca66",
   "metadata": {},
   "source": [
    "Lambda 表达式"
   ]
  },
  {
   "cell_type": "code",
   "execution_count": null,
   "id": "1ca26e1d-9993-4655-b577-6e329f266835",
   "metadata": {},
   "outputs": [],
   "source": [
    "# Lambda expressions\n",
    "\n",
    "x = 10\n",
    "square = x * x\n",
    "square = lambda x: x * x\n",
    "square(4)\n",
    "\n",
    "# Return \n",
    "\n",
    "def end(n, d):\n",
    "    \"\"\"Print the final digits of N in reverse order until D is found.    \n",
    "\n",
    "    >>> end(34567, 5)\n",
    "    7\n",
    "    6\n",
    "    5\n",
    "    \"\"\"\n",
    "    while n > 0:\n",
    "        last, n = n % 10, n // 10\n",
    "        print(last)\n",
    "        if d == last:\n",
    "            return None\n",
    "\n",
    "def search(f):\n",
    "    \"\"\"Return the smallest non-negative integer x for which f(x) is a true value.\"\"\"\n",
    "    x = 0\n",
    "    while True:\n",
    "        if f(x):\n",
    "            return x\n",
    "        x += 1\n",
    "\n",
    "def is_three(x):\n",
    "    \"\"\"Return whether x is three.\n",
    "\n",
    "    >>> search(is_three)\n",
    "    3\n",
    "    \"\"\"\n",
    "    return x == 3\n",
    "\n",
    "def square(x):\n",
    "    return x * x\n",
    "\n",
    "def positive(x):\n",
    "    \"\"\"A function that is 0 until square(x)-100 is positive.\n",
    "    \n",
    "    >>> search(positive)\n",
    "    11\n",
    "    \"\"\"\n",
    "    return max(0, square(x) - 100)\n",
    "\n",
    "def inverse(f):\n",
    "    \"\"\"Return a function g(y) that returns x such that f(x) == y.\n",
    "\n",
    "    >>> sqrt = inverse(square)\n",
    "    >>> sqrt(16)\n",
    "    4\n",
    "    \"\"\"\n",
    "    return lambda y: search(lambda x: f(x) == y)"
   ]
  }
 ],
 "metadata": {
  "kernelspec": {
   "display_name": "Python 3 (ipykernel)",
   "language": "python",
   "name": "python3"
  },
  "language_info": {
   "codemirror_mode": {
    "name": "ipython",
    "version": 3
   },
   "file_extension": ".py",
   "mimetype": "text/x-python",
   "name": "python",
   "nbconvert_exporter": "python",
   "pygments_lexer": "ipython3",
   "version": "3.12.1"
  }
 },
 "nbformat": 4,
 "nbformat_minor": 5
}
