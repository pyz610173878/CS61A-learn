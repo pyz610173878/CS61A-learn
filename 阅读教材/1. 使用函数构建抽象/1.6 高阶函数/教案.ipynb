{
 "cells": [
  {
   "cell_type": "markdown",
   "id": "867aff9d-57ab-4fb8-b2f5-7de34a00dce7",
   "metadata": {},
   "source": [
    "# 泛化\n",
    "\n",
    "这里就讲了如何进行泛化，什么时候可以进行泛化。这个例子关于的如何画边形形状的图案。这里就举出了三个形状的区域。然后通过观察他们之间的共性，找出通用的常亮和变量。这个例子中，r的平方是通用的。\n",
    "找到共同的结构可以实现共同的实现\n",
    "\n",
    "高阶函数增加了抽象程度。如何通过高阶函数实现画任意边形的图案。"
   ]
  },
  {
   "cell_type": "code",
   "execution_count": 10,
   "id": "b46450fc-eb51-46d1-b276-199ef1aece4d",
   "metadata": {},
   "outputs": [
    {
     "data": {
      "text/plain": [
       "25"
      ]
     },
     "execution_count": 10,
     "metadata": {},
     "output_type": "execute_result"
    }
   ],
   "source": [
    "# Generalizing patterns using arguments\n",
    "\n",
    "from math import pi, sqrt\n",
    "\n",
    "# 一个函数只做一件事情\n",
    "def area_square(r):\n",
    "    \"\"\"返回边长为 R 的正方形的面积.\"\"\"\n",
    "    return area(5,1)\n",
    "\n",
    "def area_circle(r):\n",
    "    \"\"\"返回半径为 R 的圆的面积.\"\"\"\n",
    "    return r * r * pi\n",
    "\n",
    "def area_hexagon(r):\n",
    "    \"\"\"返回边长为 R 的正六边形的面积.\"\"\"\n",
    "    return r * r * 3 * sqrt(3) / 2\n",
    "\n",
    "\n",
    "# 分解他们共同的部分。\n",
    "\n",
    "def area(r, shape_constant):\n",
    "    assert r > 0, 'A length must be positive'\n",
    "    return r * r * shape_constant\n",
    "\n",
    "\n",
    "area_square(5)"
   ]
  },
  {
   "cell_type": "markdown",
   "id": "2983d01b-86f0-4664-8eaa-064611514f26",
   "metadata": {},
   "source": [
    "这个项目还是有用的，你不用在每个函数中处理异常，你写了一个函数统一了异常处理。这也算是一部分的泛化。\n",
    "那你进一步想，还有那些地方可以泛化呢？你这个函数不好用啊。你的函数应该只需要一个参数，也就是半径。\n",
    "而不是还需要一个函数参数。你要知道为什么他是一个参数，是因为他是一个集合是一个区间，他不是固定的。\n",
    "就比如年龄，工资，他不是一个固定的常量所以我们需要添加一个参数。\n",
    "\n",
    "通用函数不会处理某个具体的逻辑。比如在这个例子中，是正方形的平方。他只会处理通用的部分。比如统一的**异常处理**。\n",
    "\n",
    "这些函数的第一个问题是，接受到负数时会产生错误，这是要解决的第一个问题。\n",
    "你需要思考的是，你会如何去用这个函数，怎么用是顺手的。\n"
   ]
  },
  {
   "cell_type": "markdown",
   "id": "59d65c6f-be2a-4631-9de4-cb5823c0e4d8",
   "metadata": {},
   "source": [
    "回顾他的思考过程，写完函数之后，就开始测试，然后在测试的过程中发现了一些问题，比如负数的情况下返回值不准确。然后使用Python中的，asset 关键字解决这个问题。在解决这个问题的过程中，就出现一个问题，难道我要在每个函数中都写一遍 assert，很明显这违背了软件工程中的一个原则，dry（不要重复你自己）。他的解决办法就是再写一个函数，进行抽象。\n",
    "\n",
    "他的第二个抽象部分。\n",
    "\n",
    "每个函数的共性。\n",
    "1. 都需要判断r的值是否合法，每个函数都写一遍太过于重复。\n",
    "2. 每个函数都存在 r * r 的计算，每个函数都写一遍太过于重复。\n",
    "3. 需要变化的是 r 的值，和 shape_constant 的值。\n",
    "\n",
    "\n",
    "这种思维方式，可以在日常中进行练习。形成一种思维习惯。如何练习呢？通过对比两个类似的事物，寻找他们共同的特点，然后进行抽象。"
   ]
  },
  {
   "cell_type": "code",
   "execution_count": null,
   "id": "5746fff7-322b-4781-99b7-0938e9dc278d",
   "metadata": {},
   "outputs": [],
   "source": [
    "def area(r, shape_constant):\n",
    "    \"\"\"Return the area of a shape from length measurement R.\"\"\"\n",
    "    assert r > 0, 'A length must be positive'\n",
    "    return r * r * shape_constant\n",
    "\n",
    "def area_square(r):\n",
    "    return area(r, 1)\n",
    "\n",
    "def area_circle(r):\n",
    "    return area(r, pi)\n",
    "\n",
    "def area_hexagon(r):\n",
    "    return area(r, 3 * sqrt(3) / 2)"
   ]
  },
  {
   "cell_type": "markdown",
   "id": "d8ee9b21-433d-472d-ac95-0a7bef6365a0",
   "metadata": {},
   "source": [
    "## 2. 泛化练习\n",
    "\n"
   ]
  },
  {
   "cell_type": "markdown",
   "id": "6d8edb52-926b-4f03-9afc-7f1d630128e8",
   "metadata": {},
   "source": [
    "# 第二个例子\n",
    "\n",
    "这就是为什么要学习数学的原因。通过数学表达式我们就知道这个函数的定义域和值域是什么。相当于是我们把数学公式用函数进行描述。\n"
   ]
  },
  {
   "cell_type": "code",
   "execution_count": 3,
   "id": "212b695b-1f43-41bb-b72c-32eb11995261",
   "metadata": {},
   "outputs": [
    {
     "data": {
      "text/plain": [
       "15"
      ]
     },
     "execution_count": 3,
     "metadata": {},
     "output_type": "execute_result"
    }
   ],
   "source": [
    "def test(n, term):\n",
    "    total ,k = 0, 1\n",
    "    while k <= n:\n",
    "        total = total + term(k)\n",
    "        k += 1\n",
    "    return total\n",
    "\n",
    "def sum_naturalss(n):\n",
    "    return n\n",
    "    \n",
    "test(5,sum_naturalss)\n",
    "\n",
    "# 当前\n"
   ]
  },
  {
   "cell_type": "markdown",
   "id": "9075c129-0426-4b1b-b248-58cac33931ad",
   "metadata": {},
   "source": [
    "你不认为你这两个函数，他们都处理了相同的逻辑吗？"
   ]
  },
  {
   "cell_type": "code",
   "execution_count": 4,
   "id": "896f9e3b-9e25-4754-b902-3e37bd4e895d",
   "metadata": {},
   "outputs": [],
   "source": [
    "def sum_naturals(n):\n",
    "    \"\"\" 返回参数k的总和\"\"\"\n",
    "    total, k = 0, 1\n",
    "    while k <= n:\n",
    "        total = total + k\n",
    "        k = k + 1\n",
    "    return total"
   ]
  },
  {
   "cell_type": "code",
   "execution_count": 2,
   "id": "59ba445c-ee62-4a21-a683-7f82a75f5671",
   "metadata": {},
   "outputs": [
    {
     "name": "stdout",
     "output_type": "stream",
     "text": [
      "225\n"
     ]
    }
   ],
   "source": [
    "def sum_cubes(n):\n",
    "    total, k = 0, 1\n",
    "    while k <= n:\n",
    "        total = total + pow(k, 3)\n",
    "        k = k + 1\n",
    "    return print(total)\n",
    "\n",
    "sum_cubes(5)"
   ]
  },
  {
   "cell_type": "code",
   "execution_count": 11,
   "id": "c7ba8f44-3c28-4350-a689-b285591a63e1",
   "metadata": {},
   "outputs": [
    {
     "data": {
      "text/plain": [
       "15"
      ]
     },
     "execution_count": 11,
     "metadata": {},
     "output_type": "execute_result"
    }
   ],
   "source": [
    "def cube(r):\n",
    "    return pow(r, 3)\n",
    "\n",
    "def identity(x):\n",
    "    return x\n",
    "\n",
    "def summation(n, term):\n",
    "    total, k = 0, 1\n",
    "    while k <= n:\n",
    "        total = total + term(k)\n",
    "        k += 1\n",
    "    return total\n",
    "\n",
    "summation(5, identity)"
   ]
  },
  {
   "cell_type": "markdown",
   "id": "dd065ea1-8b7b-463d-a1ae-8235524f2e2c",
   "metadata": {},
   "source": [
    "这两个函数都有相同的模式，如何通过函数抽象出去？除了total值不一样，其他程序的结构都是一模一样的。\n",
    "\n",
    "\n",
    "你想如何用？给一个自然数，给一个cube他返回。根据一个函数只作一件事情，我们可以编写一个函数，函数就返回结果本身。他不处理，循环过程。"
   ]
  },
  {
   "cell_type": "markdown",
   "id": "f97f6815-c6f1-42ad-9d8c-8b6b7f86eb53",
   "metadata": {},
   "source": [
    "梳理思考过程。首先并不是直接进行抽象。而是先编写普通的函数，然后发现几个函数中，存在共同的模式。这个时候才进行抽象与拆分函数。\n",
    "2. 就是我们需要思考，我们会怎么用这个函数，这个函数怎么用是最顺手的。比如这个例子。\n"
   ]
  },
  {
   "cell_type": "code",
   "execution_count": 12,
   "id": "e5436b25-4ce2-43ad-b0a6-cd3091dd8cf8",
   "metadata": {},
   "outputs": [
    {
     "data": {
      "text/plain": [
       "2020"
      ]
     },
     "execution_count": 12,
     "metadata": {},
     "output_type": "execute_result"
    }
   ],
   "source": [
    "# Local function definitions; returning functions\n",
    "\n",
    "def make_adder(n):\n",
    "    \"\"\"Return a function that takes one argument K and returns K + N.\n",
    "\n",
    "    >>> add_three = make_adder(3)\n",
    "    >>> add_three(4)\n",
    "    7\n",
    "    \"\"\"\n",
    "    def adder(k):\n",
    "        return k + n\n",
    "    return adder\n",
    "\n",
    "make_adder(2000)(20)"
   ]
  },
  {
   "cell_type": "markdown",
   "id": "c88229a9-c005-4e00-bb01-ac9d3765ca66",
   "metadata": {},
   "source": [
    "Lambda 表达式"
   ]
  },
  {
   "cell_type": "code",
   "execution_count": 14,
   "id": "1ca26e1d-9993-4655-b577-6e329f266835",
   "metadata": {},
   "outputs": [
    {
     "data": {
      "text/plain": [
       "16"
      ]
     },
     "execution_count": 14,
     "metadata": {},
     "output_type": "execute_result"
    }
   ],
   "source": [
    "x = 10\n",
    "square = x * x\n",
    "square = lambda x: x * x\n",
    "square(4)\n",
    "\n",
    "# Return "
   ]
  },
  {
   "cell_type": "markdown",
   "id": "5bca26d8-6896-4750-b62a-1130664629c5",
   "metadata": {},
   "source": [
    "Lambda 表达式 与 def定义的区别。\n",
    "\n",
    "1. Both create a function with the same domain, range, and behavior\n",
    "2. 只有 def 语句为函数提供了一个内部名称，该名称显示在\n",
    "环境图，但不影响执行（除非打印函数）"
   ]
  },
  {
   "cell_type": "code",
   "execution_count": 11,
   "id": "25dfa87f-5c1c-4d4a-aac0-899a3357e49b",
   "metadata": {},
   "outputs": [
    {
     "name": "stdout",
     "output_type": "stream",
     "text": [
      "7\n",
      "6\n",
      "5\n",
      "4\n",
      "3\n",
      "2\n"
     ]
    },
    {
     "data": {
      "text/plain": [
       "6"
      ]
     },
     "execution_count": 11,
     "metadata": {},
     "output_type": "execute_result"
    }
   ],
   "source": [
    "def end(n, d):\n",
    "    \"\"\"Print the final digits of N in reverse order until D is found.    \n",
    "\n",
    "    >>> end(34567, 5)\n",
    "    7\n",
    "    6\n",
    "    5\n",
    "    \"\"\"\n",
    "    while n > 0:\n",
    "        last, n = n % 10, n // 10\n",
    "        print(last)\n",
    "        if d == last:\n",
    "            return None\n",
    "\n",
    "# end(34567,5)\n",
    "end(1234567,2)\n",
    "12356 % 10"
   ]
  },
  {
   "cell_type": "code",
   "execution_count": null,
   "id": "c45246b1-93ef-46fd-bf69-f709ff4b62a9",
   "metadata": {},
   "outputs": [],
   "source": [
    "def end(n, d):\n",
    "    \"\"\"返回xx集，从参数末尾开始，从d结束\n",
    "\n",
    "    >>> end(34567, 5)\n",
    "    7\n",
    "    6\n",
    "    5\n",
    "    \"\"\"\n",
    "    while n > 0:\n",
    "        last, n = n % 10, n // 10\n",
    "        print(last)\n",
    "        if d == last:\n",
    "            return None\n"
   ]
  },
  {
   "cell_type": "code",
   "execution_count": 2,
   "id": "d37da818-65b3-4e04-b4e5-596908daae65",
   "metadata": {},
   "outputs": [
    {
     "name": "stdout",
     "output_type": "stream",
     "text": [
      "2\n"
     ]
    }
   ],
   "source": [
    "def is_prime(n):\n",
    "    \"\"\"Return True if n is a prime number, False otherwise.\"\"\"\n",
    "    if n < 2:\n",
    "        return False\n",
    "    for i in range(2, int(n**0.5) + 1):\n",
    "        if n % i == 0:\n",
    "            return False\n",
    "    return True\n",
    "\n",
    "\n",
    "def search(f):\n",
    "    \"\"\"Return the smallest non-negative integer x for which f(x) is a true value.\"\"\"\n",
    "    x = 0\n",
    "    while True:\n",
    "        if f(x):\n",
    "            return x\n",
    "        x += 1\n",
    "\n",
    "# 使用 search 函数来找到最小的非负素数\n",
    "result = search(is_prime)\n",
    "print(result)  # 输出应该是 2，因为 2 是最小的素数\n",
    "\n"
   ]
  },
  {
   "cell_type": "markdown",
   "id": "5209d0c8-f835-4599-aeea-dc6450c9c222",
   "metadata": {},
   "source": [
    "## 函数返回值与高阶函数的搭配"
   ]
  },
  {
   "cell_type": "markdown",
   "id": "b65e774c-d99d-4997-8f32-c910f590e135",
   "metadata": {},
   "source": [
    "search是一个高阶函数。他接受一个函数作为参数。初始化变量x=0. 无限循环，只要函数参数的返回值为真，我们就返回参数x。否则就使x + 1. 值得注意的是，这里的判断条件跟以往遇到的不相同，他不是表达式了，而是根据某个函数的返回值对应的布尔值进行判断。所以我们的函数，他的返回值一定是要返回布尔值的。否则函数会一直进行。"
   ]
  },
  {
   "cell_type": "markdown",
   "id": "0ce0f462-fc2c-4b43-bc64-e4040f08a3be",
   "metadata": {},
   "source": [
    "# 使用高阶函数search的具体例子"
   ]
  },
  {
   "cell_type": "code",
   "execution_count": 6,
   "id": "e231e49e-1a95-4867-91be-f09b0e0534ad",
   "metadata": {},
   "outputs": [
    {
     "data": {
      "text/plain": [
       "3"
      ]
     },
     "execution_count": 6,
     "metadata": {},
     "output_type": "execute_result"
    }
   ],
   "source": [
    "def is_three(x):\n",
    "    \"\"\"Return whether x is three.\n",
    "\n",
    "    >>> search(is_three)\n",
    "    3\n",
    "    \"\"\"\n",
    "    return x == 3\n",
    "\n",
    "search(is_three)\n",
    "\n"
   ]
  },
  {
   "cell_type": "markdown",
   "id": "c1446a33-e3cf-448f-9689-fc876e102f2e",
   "metadata": {},
   "source": [
    "### 第二个例子"
   ]
  },
  {
   "cell_type": "code",
   "execution_count": 7,
   "id": "1af5103e-5f83-4411-bef6-f3c87fc00a6b",
   "metadata": {},
   "outputs": [
    {
     "data": {
      "text/plain": [
       "0"
      ]
     },
     "execution_count": 7,
     "metadata": {},
     "output_type": "execute_result"
    }
   ],
   "source": [
    "def square(x):\n",
    "    \"\"\" 返回x的平方\"\"\"\n",
    "    return x * x\n",
    "\n",
    "def positive(x):\n",
    "    \"\"\"A function that is 0 until square(x)-100 is positive.\n",
    "    \n",
    "    >>> search(positive)\n",
    "    11\n",
    "    \"\"\"\n",
    "    return max(0, square(x) - 100)\n",
    "\n",
    "\n",
    "search(positive)\n",
    "\n",
    "\n",
    "max(0, square(2) - 100)"
   ]
  },
  {
   "cell_type": "markdown",
   "id": "27a61535-c5c5-4387-886c-e13341b90466",
   "metadata": {},
   "source": [
    "这里例子，巧妙的应用到了0作为false的特性。"
   ]
  },
  {
   "cell_type": "markdown",
   "id": "c7c56197-2e25-40a5-833a-5d1102cb3225",
   "metadata": {},
   "source": [
    "### inverse 反函数"
   ]
  },
  {
   "cell_type": "code",
   "execution_count": 12,
   "id": "8234c45c-0e7d-4a57-997f-3f37a0826946",
   "metadata": {},
   "outputs": [
    {
     "name": "stdout",
     "output_type": "stream",
     "text": [
      "4\n"
     ]
    }
   ],
   "source": [
    "def inverse(f):\n",
    "    \"\"\"Return a function g(y) that returns x such that f(x) == y.\n",
    "\n",
    "    >>> sqrt = inverse(square)\n",
    "    >>> sqrt(16)\n",
    "    4\n",
    "    \"\"\"\n",
    "    return lambda y: search(lambda x: f(x) == y)\n",
    "# 使用 inverse 函数来找到 square 函数的反函数\n",
    "sqrt = inverse(square)\n",
    "print(sqrt(16))  # 输出应该是 4，因为 4 的平方是 16"
   ]
  },
  {
   "cell_type": "markdown",
   "id": "0d156ac5-57b1-4732-9291-77a9062f4204",
   "metadata": {},
   "source": [
    "  函数 inverse 的用途是创建一个函数的**反函数**。在某些数学和计算问题中，能够找到一个函数的逆是非常有用的，因为这意味着你可以逆转原始函数的效果。\n",
    "\n",
    "  例如，假设你有一个函数 f，它将输入 x 转换为输出 y。如果你想要将输出 y 转换回原始的输入 x，你需要 f 的反函数。这不是总是可能的，因为并非所有函数都有反函数（例如，如果函数不是一一对应的，它可能没有反函数）。但是，当函数是一一对应的时，你可以使用 inverse 函数来创建它的反函数。\n",
    "  \n",
    "  在提供的代码示例中，square 函数是一个简单的例子，它将一个数 x 转换为它的平方 x^2。inverse 函数用于创建 square 的反函数，即给定一个数 y，找到 x 使得 x^2 = y。在这个例子中，如果 y 是一个正数，那么 x 就是 y 的平方根。\n",
    "  \n",
    "  这个概念可以应用于更复杂的函数，只要它们是可逆的。例如，如果你有一个函数 f，它对输入数据进行编码，你可以使用 inverse 函数来创建一个解码函数，将编码后的数据转换回原始数据。\n",
    "\n",
    "\n",
    "在实际应用中，这种技术可以用于各种问题，包括加密和解密、数据转换、数学建模等。通过创建反函数，你可以逆转特定的计算过程，这在解决需要逆向工程的问题时非常有用。"
   ]
  },
  {
   "cell_type": "markdown",
   "id": "a44b0bff-e3e3-44ed-9bfa-2988c5b0c0c9",
   "metadata": {},
   "source": [
    "这个函数理解起来真的有难度，而且我又不知道他有什么用？遇到这种问题我应该怎么办呢？我是先放着嘛？你不觉得你每一个知识点所花费的时间太多了嘛。\n",
    "\n",
    "在什么情况下可以写高阶函数呢？高阶函数有什么用呢？如何把高阶函数应用在实际的项目中呢？这都是我需要解决的问题。先记录着把。先看后面的。"
   ]
  },
  {
   "cell_type": "markdown",
   "id": "c8ddb3a7-1fdf-475c-afae-1859115490ad",
   "metadata": {},
   "source": [
    "## 流程控制\n",
    "\n",
    "此小节，讲授一些流程控制的高阶用法。"
   ]
  },
  {
   "cell_type": "code",
   "execution_count": null,
   "id": "bbff1ef2-ed0a-4e6f-86e8-35da2bb643d3",
   "metadata": {},
   "outputs": [],
   "source": [
    "def if_(c, t, f):\n",
    "    if c:\n",
    "        t\n",
    "    else:\n",
    "        f\n",
    "\n",
    "\n",
    "\n"
   ]
  },
  {
   "cell_type": "markdown",
   "id": "7fb7a9c1-a77a-4520-8396-1591c74f2f1b",
   "metadata": {},
   "source": [
    "函数接受三个参数，ctf。如果c为真，t，否则f。这种形式的函数头一次见，那么这个函数有什么用呢？"
   ]
  },
  {
   "cell_type": "code",
   "execution_count": 15,
   "id": "1069ebe0-79f1-442e-9652-4fc11bc7db6f",
   "metadata": {},
   "outputs": [
    {
     "data": {
      "text/plain": [
       "2.8284271247461903"
      ]
     },
     "execution_count": 15,
     "metadata": {},
     "output_type": "execute_result"
    }
   ],
   "source": [
    "from math import sqrt\n",
    "def real_sqrt(x):\n",
    "    \"\"\"Return the real part of the square root of x.\n",
    "\n",
    "    >>> real_sqrt(4)\n",
    "    2.0\n",
    "    >>> real_sqrt(-4)\n",
    "    0.0\n",
    "    \"\"\"\n",
    "    if x > 0:\n",
    "        return sqrt(x)\n",
    "    else:\n",
    "        return 0.0\n",
    "    # if_(x > 0, sqrt(x), 0.0)\n",
    "\n",
    "# 只要不是负数就返回参数x的平方数。比如16的平方数为4.\n"
   ]
  }
 ],
 "metadata": {
  "kernelspec": {
   "display_name": "Python 3 (ipykernel)",
   "language": "python",
   "name": "python3"
  },
  "language_info": {
   "codemirror_mode": {
    "name": "ipython",
    "version": 3
   },
   "file_extension": ".py",
   "mimetype": "text/x-python",
   "name": "python",
   "nbconvert_exporter": "python",
   "pygments_lexer": "ipython3",
   "version": "3.12.1"
  }
 },
 "nbformat": 4,
 "nbformat_minor": 5
}
