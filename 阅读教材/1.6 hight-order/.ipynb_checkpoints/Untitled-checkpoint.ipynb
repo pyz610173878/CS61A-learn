{
 "cells": [
  {
   "cell_type": "code",
   "execution_count": 6,
   "id": "a6232279-5c93-48b6-a53e-7a6ddb1d5ecf",
   "metadata": {},
   "outputs": [
    {
     "data": {
      "text/plain": [
       "14"
      ]
     },
     "execution_count": 6,
     "metadata": {},
     "output_type": "execute_result"
    }
   ],
   "source": [
    "def summation(n, term):\n",
    "    total, k = 0, 1\n",
    "    while k <= n:\n",
    "        total, k = total + term(k), k + 1\n",
    "    return total\n",
    "\n",
    "# term参数接受的是一个函数\n",
    "# n为数值\n",
    "# total = total + cube(k)\n",
    "# k = k + 1\n",
    "\n",
    "def cube(x):\n",
    "    return x*x\n",
    "\n",
    "def sum_cubes(n):\n",
    "    return summation(n, cube)\n",
    "\n",
    "result = sum_cubes(3)\n",
    "\n",
    "\n",
    "# 他举这个例子的目的是什么呢？\n",
    "# 写循环的目的就是为了使每次函数的返回值进行相加。\n",
    "# \n",
    "\n",
    "\n",
    "# 那你是否可以举更简单的例子呢？\n",
    "# 是否有更多的例子呢？\n",
    "\n",
    "\n",
    "\n",
    "\n",
    "\n"
   ]
  },
  {
   "cell_type": "code",
   "execution_count": 5,
   "id": "0a3a5e2f-6358-4786-bd4d-802eac55ce20",
   "metadata": {},
   "outputs": [
    {
     "data": {
      "text/plain": [
       "36"
      ]
     },
     "execution_count": 5,
     "metadata": {},
     "output_type": "execute_result"
    }
   ],
   "source": [
    "def sum_cubes(n):\n",
    "        total, k = 0, 1\n",
    "        while k <= n:\n",
    "            total, k = total + k*k*k, k + 1\n",
    "        return total\n",
    "    \n",
    "# 我们先看这个例子。\n",
    "# 这个函数的作用就是 接受一个参数。使参数连续相乘2次。\n",
    "# 而上面那个函数，把本身使这个函数的功能抽象了一下。并没有再这里写死，现在这个函数不仅仅可以做连续相乘。可以根据你自己的需求。\n",
    "# 写任何函数,这就是抽象。"
   ]
  },
  {
   "cell_type": "code",
   "execution_count": 1,
   "id": "7f34366f-f0c8-47d0-875b-eb3ba2d81e91",
   "metadata": {},
   "outputs": [
    {
     "data": {
      "text/plain": [
       "6"
      ]
     },
     "execution_count": 1,
     "metadata": {},
     "output_type": "execute_result"
    }
   ],
   "source": [
    "def summation(n, term):\n",
    "    total, k = 0, 1\n",
    "    while k <= n:\n",
    "        total, k = total + term(k), k + 1\n",
    "    return total\n",
    "\n",
    "# term参数接受的是一个函数\n",
    "# n为数值\n",
    "# total = total + cube(k)\n",
    "# k = k + 1\n",
    "\n",
    "def identity(x):\n",
    "    return x\n",
    "\n",
    "def sum_naturals(n):\n",
    "    return summation(n, identity)\n",
    "\n",
    "result = sum_naturals(3)\n",
    "result"
   ]
  },
  {
   "cell_type": "code",
   "execution_count": 3,
   "id": "8cb4cfea-211e-4828-aff9-de2d786936e1",
   "metadata": {},
   "outputs": [
    {
     "name": "stdout",
     "output_type": "stream",
     "text": [
      "55\n"
     ]
    }
   ],
   "source": [
    "def summation(n, term):\n",
    "    total, k = 0, 1\n",
    "    while k <= n:\n",
    "        total, k = total+ term(k), k + 1\n",
    "    return total\n",
    "\n",
    "# term参数接受的是一个函数\n",
    "# n为数值\n",
    "# total = total + cube(k)\n",
    "# k = k + 1\n",
    "\n",
    "def identity(x):\n",
    "    return x\n",
    "\n",
    "def sum_naturals(n):\n",
    "    return summation(n, identity)\n",
    "\n",
    "result = sum_naturals(10)\n",
    "result\n",
    "\n",
    "\n",
    "\n",
    "a = 1 + 2 + 3 + 4 + 5 + 6 + 7 + 8 + 9 + 10\n",
    "# 那行代码的目的只是把函数每次的返回值进行相加。\n",
    "# "
   ]
  },
  {
   "cell_type": "code",
   "execution_count": 5,
   "id": "df5a576b-a4a7-4276-be08-9595d432d4dd",
   "metadata": {},
   "outputs": [
    {
     "data": {
      "text/plain": [
       "3.141592153589902"
      ]
     },
     "execution_count": 5,
     "metadata": {},
     "output_type": "execute_result"
    }
   ],
   "source": [
    "# 例子3\n",
    "def pi_term(x):\n",
    "    return 8 / ((4*x-3) * (4*x-1))\n",
    "def pi_sum(n):\n",
    "    return summation(n, pi_term)\n",
    "\n",
    "pi_sum(1e6)\n",
    "\n",
    "\n",
    "\n"
   ]
  }
 ],
 "metadata": {
  "kernelspec": {
   "display_name": "Python 3 (ipykernel)",
   "language": "python",
   "name": "python3"
  },
  "language_info": {
   "codemirror_mode": {
    "name": "ipython",
    "version": 3
   },
   "file_extension": ".py",
   "mimetype": "text/x-python",
   "name": "python",
   "nbconvert_exporter": "python",
   "pygments_lexer": "ipython3",
   "version": "3.7.4"
  }
 },
 "nbformat": 4,
 "nbformat_minor": 5
}
