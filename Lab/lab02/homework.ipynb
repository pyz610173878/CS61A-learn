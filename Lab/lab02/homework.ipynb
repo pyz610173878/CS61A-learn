{
 "cells": [
  {
   "cell_type": "markdown",
   "id": "a2ab744b-15a8-4650-b5c5-2004980e2b1c",
   "metadata": {},
   "source": [
    "# lambda的调用"
   ]
  },
  {
   "cell_type": "code",
   "execution_count": 6,
   "id": "67032bec-fc36-48b0-8cb1-c3e6562adf56",
   "metadata": {},
   "outputs": [
    {
     "data": {
      "text/plain": [
       "3"
      ]
     },
     "execution_count": 6,
     "metadata": {},
     "output_type": "execute_result"
    }
   ],
   "source": [
    "from random import randint , random\n",
    ">>> a = lambda x: x  # Assigning the lambda function to the name a\n",
    ">>> a(5)\n",
    ">>> (lambda: 3)()\n",
    "\n",
    "# Example\n",
    "\n"
   ]
  },
  {
   "cell_type": "markdown",
   "id": "5104b09b-014d-4a8e-860f-54b15221dfdf",
   "metadata": {},
   "source": [
    "因为lambda没有函数名，所以调用的时候，只需要输入框()即可。"
   ]
  },
  {
   "cell_type": "code",
   "execution_count": 7,
   "id": "c42c8286-b591-4ed8-846a-5142943db7d8",
   "metadata": {},
   "outputs": [
    {
     "name": "stdout",
     "output_type": "stream",
     "text": [
      "<function <lambda>.<locals>.<lambda> at 0x000001958B6AA480>\n"
     ]
    },
    {
     "data": {
      "text/plain": [
       "88"
      ]
     },
     "execution_count": 7,
     "metadata": {},
     "output_type": "execute_result"
    }
   ],
   "source": [
    ">>> b = lambda x: lambda: x  # Lambdas表达式能够返回其他lambdas。\n",
    ">>> c = b(88)\n",
    ">>> print(c)\n",
    "# 88\n",
    "\n",
    ">>> c()\n",
    "# 函数名"
   ]
  },
  {
   "cell_type": "markdown",
   "id": "f147e9ac-7b71-49ef-9c99-cd1ebdb4ec00",
   "metadata": {},
   "source": [
    "# 用lambda编写高阶函数"
   ]
  },
  {
   "cell_type": "code",
   "execution_count": 8,
   "id": "2f5452af-cf60-42fe-bb7a-2df2690209a7",
   "metadata": {},
   "outputs": [
    {
     "data": {
      "text/plain": [
       "64"
      ]
     },
     "execution_count": 8,
     "metadata": {},
     "output_type": "execute_result"
    }
   ],
   "source": [
    ">>> d = lambda f: f(4)  # They can have functions as arguments as well.\n",
    ">>> def square(x):\n",
    "...     return x * x\n",
    ">>> d(square)\n",
    "# 16\n",
    "\n",
    "# Example\n",
    "\n",
    "def c(f):\n",
    "    return f(4)\n",
    "\n",
    "g = lambda x: pow(x,3)\n",
    "\n",
    "c(g)\n"
   ]
  },
  {
   "cell_type": "markdown",
   "id": "50031517-8500-43b3-9224-0d61898d40a4",
   "metadata": {},
   "source": [
    "特征：一个函数返回另外一个函数。"
   ]
  },
  {
   "cell_type": "markdown",
   "id": "0b542fd6-251d-42ed-9437-24c85e3a6418",
   "metadata": {},
   "source": [
    "用lambda编写高阶函数。这个函数接受一个函数参数，返回xx。\n"
   ]
  },
  {
   "cell_type": "code",
   "execution_count": 9,
   "id": "84064de1-b5b1-4630-8810-73535157af32",
   "metadata": {},
   "outputs": [
    {
     "data": {
      "text/plain": [
       "4"
      ]
     },
     "execution_count": 9,
     "metadata": {},
     "output_type": "execute_result"
    }
   ],
   "source": [
    ">>> z = 3\n",
    ">>> e = lambda x: lambda y: lambda: x + y + z\n",
    ">>> e(0)(1)()"
   ]
  },
  {
   "cell_type": "code",
   "execution_count": 10,
   "id": "8959c0c3-fdf9-4691-9859-b8ea85f37356",
   "metadata": {},
   "outputs": [
    {
     "ename": "NameError",
     "evalue": "name 'x' is not defined",
     "output_type": "error",
     "traceback": [
      "\u001b[1;31m---------------------------------------------------------------------------\u001b[0m",
      "\u001b[1;31mNameError\u001b[0m                                 Traceback (most recent call last)",
      "Cell \u001b[1;32mIn[10], line 2\u001b[0m\n\u001b[0;32m      1\u001b[0m f \u001b[38;5;241m=\u001b[39m \u001b[38;5;28;01mlambda\u001b[39;00m z: x \u001b[38;5;241m+\u001b[39m z\n\u001b[1;32m----> 2\u001b[0m \u001b[43mf\u001b[49m\u001b[43m(\u001b[49m\u001b[38;5;241;43m3\u001b[39;49m\u001b[43m)\u001b[49m\n\u001b[0;32m      4\u001b[0m \u001b[38;5;66;03m# 你需要做的是，把两个函数的结果想加起来是这样吗？我也不确定。\u001b[39;00m\n",
      "Cell \u001b[1;32mIn[10], line 1\u001b[0m, in \u001b[0;36m<lambda>\u001b[1;34m(z)\u001b[0m\n\u001b[1;32m----> 1\u001b[0m f \u001b[38;5;241m=\u001b[39m \u001b[38;5;28;01mlambda\u001b[39;00m z: \u001b[43mx\u001b[49m \u001b[38;5;241m+\u001b[39m z\n\u001b[0;32m      2\u001b[0m f(\u001b[38;5;241m3\u001b[39m)\n\u001b[0;32m      4\u001b[0m \u001b[38;5;66;03m# 你需要做的是，把两个函数的结果想加起来是这样吗？我也不确定。\u001b[39;00m\n",
      "\u001b[1;31mNameError\u001b[0m: name 'x' is not defined"
     ]
    }
   ],
   "source": [
    ">>> f = lambda z: x + z\n",
    ">>> f(3)\n",
    "\n",
    "# 你需要做的是，把两个函数的结果想加起来是这样吗？我也不确定。"
   ]
  },
  {
   "cell_type": "markdown",
   "id": "7c25d089-2fe4-4bf7-931f-bfc27917cba1",
   "metadata": {},
   "source": [
    "# 高阶函数（lambda 表达式 ）"
   ]
  },
  {
   "cell_type": "markdown",
   "id": "5bd18e02",
   "metadata": {},
   "source": []
  },
  {
   "cell_type": "code",
   "execution_count": null,
   "id": "c2a55886-a270-4969-b53c-52b00ba4a303",
   "metadata": {},
   "outputs": [],
   "source": [
    ">>> higher_order_lambda = lambda f: lambda x,y: f(x,y)\n",
    "# 参数为f也就是一个函数，返回一个函数。这个函数参数为x。返回父函数，x\n",
    "# 这个函数好就好在，他是一个模式。他没有定义具体的函数。而是要我们自己去编写。\n",
    ">>> higher_order_lambdas = lambda f: lambda x: f(x)\n",
    "# 改写成不用 lambda 表达式\n",
    ">>> g = lambda x: x * x\n",
    "# 为lambda表达式函数取一个名\n",
    "\n",
    "def higher_order(f):\n",
    "    def x1(x):\n",
    "        return higher_order(x)\n",
    "    return x1\n",
    "\n",
    "def add(a, b):\n",
    "    return a * b\n",
    "\n",
    "higher_order_lambda_example1 = lambda f: lambda nums,num,index: f(nums,num,index)\n",
    "\n",
    "\n",
    "\n",
    "\n",
    "\n",
    "def insert(nums: list[int], num: int, index: int):\n",
    "    \"\"\"在数组的索引 index 处插入元素 num\"\"\"\n",
    "    # 把索引 index 以及之后的所有元素向后移动一位\n",
    "    for i in range(len(nums) - 1, index, -1):\n",
    "        nums[i] = nums[i - 1]\n",
    "    # 将 num 赋给 index 处的元素\n",
    "    nums[index] = num\n",
    "    return nums\n",
    "\n",
    "\n",
    "# insert([1,5,5,5,6,6,6],3,2)\n",
    "\n",
    "\n",
    "higher_order_lambda_example1(insert)([1,5,5,5,6,6],3,2)\n"
   ]
  },
  {
   "cell_type": "code",
   "execution_count": null,
   "id": "3d455a2b-3d87-4aaa-8208-6a2f17f69cb3",
   "metadata": {},
   "outputs": [],
   "source": [
    "# >>> higher_order_lambda(g)(2)\n",
    ">>> higher_order_lambda(add)(2,8)"
   ]
  },
  {
   "cell_type": "markdown",
   "id": "8c82083d-8d18-428f-9eb1-edb4304cc005",
   "metadata": {},
   "source": [
    "\n",
    "# 嵌套函数（lambda表达式）"
   ]
  },
  {
   "cell_type": "code",
   "execution_count": null,
   "id": "c4cd0199-da10-48db-8a86-86dcc0682a56",
   "metadata": {},
   "outputs": [],
   "source": [
    ">>> call_thrice = lambda f: lambda x: f(f(f(x)))\n",
    ">>> call_thrice(lambda y: y + 1)(0)\n",
    "\n",
    "# 函数一共重复调用了三次。0 + 1  1 + 1 2 + 1 = 3"
   ]
  },
  {
   "cell_type": "code",
   "execution_count": null,
   "id": "c8889412-2eaf-4ba2-b676-207bfd4785d7",
   "metadata": {},
   "outputs": [],
   "source": [
    ">>> print_lambda = lambda z: print(z)  # When is the return expression of a lambda expression executed?\n",
    ">>> print_lambda\n",
    "\n",
    "one_thousand = print_lambda(1000)\n",
    "\n",
    "one_thousand"
   ]
  },
  {
   "cell_type": "markdown",
   "id": "58dc6f9b-2abe-40b2-b037-63e9f109cbc4",
   "metadata": {},
   "source": [
    "## 高阶函数"
   ]
  },
  {
   "cell_type": "code",
   "execution_count": null,
   "id": "44b090b4-9753-4458-ad87-dd4974b07a14",
   "metadata": {},
   "outputs": [],
   "source": [
    ">>> def even(f):\n",
    "...     def odd(x):\n",
    "...         if x < 0:\n",
    "...             return f(-x)     # steven(4)\n",
    "...         return f(x)\n",
    "...     return odd\n",
    ">>> steven = lambda x: x\n",
    ">>> stewart = even(steven)\n",
    ">>> print(stewart)\n",
    "\n",
    ">>> print(stewart(61))\n",
    "# 返回61然后返回odd的内存地址。\n",
    "\n",
    ">>> stewart(-4)\n",
    "# 4"
   ]
  },
  {
   "cell_type": "markdown",
   "id": "bcfbddcf-ca46-492e-b4a0-88d68a7c56d4",
   "metadata": {},
   "source": [
    "1. 定义了一个函数参数为f\n",
    "2. 在函数体内部又定义了一个函数参数为x\n",
    "3. odd函数的函数体：如果 x 小于 0: 返回 f函数(-x). 参数为odd的参数但是为负值。\n",
    "否则 就返回f(x)。\n",
    "然后在返回 odd函数。 注意这里是返回odd函数，并没有调用odd函数。\n",
    "\n",
    "编写了一个steven函数，就返回参数x。\n"
   ]
  },
  {
   "cell_type": "markdown",
   "id": "1393aced-efd5-4e06-8e27-80a365e5cde2",
   "metadata": {},
   "source": [
    "定义一个cake函数。输出 beats。内部定义pie没有参数，输出 sweats并且 返回 cake。最后cake函数返回 pie函数。\n"
   ]
  },
  {
   "cell_type": "code",
   "execution_count": null,
   "id": "5e0a3019-4d58-4bf8-a14f-6ec9da1ab7f9",
   "metadata": {},
   "outputs": [],
   "source": [
    ">>> def cake():\n",
    "...    print('beets')\n",
    "...    def pie():\n",
    "...        print('sweets')\n",
    "...        return 'cake'\n",
    "...    return pie\n",
    ">>> chocolate = cake()\n",
    "chocolate\n",
    "chocolate()\n",
    "# beets"
   ]
  },
  {
   "cell_type": "markdown",
   "id": "a359db93-045f-4857-b3ec-62e80cb0cb96",
   "metadata": {},
   "source": [
    "cake是一个很神奇的函数。他既可以输出值，也可以当做函数调用。"
   ]
  },
  {
   "cell_type": "code",
   "execution_count": null,
   "id": "c609468d-acfe-401d-8375-29d0764d3e8e",
   "metadata": {},
   "outputs": [],
   "source": [
    ">>> chocolate()\n",
    ">>> more_chocolate, more_cake = chocolate(), cake\n",
    "\n"
   ]
  },
  {
   "cell_type": "code",
   "execution_count": null,
   "id": "d30c6ee2-e857-4e48-a91b-40f77c9d5445",
   "metadata": {},
   "outputs": [],
   "source": [
    "\n"
   ]
  },
  {
   "cell_type": "markdown",
   "id": "ce543a3b-0f55-4e6e-a607-9fff0260ee15",
   "metadata": {},
   "source": [
    "# lambda 柯里化 闭包"
   ]
  },
  {
   "cell_type": "code",
   "execution_count": null,
   "id": "4b2c46a0-7192-4492-ac0c-66b6189655bd",
   "metadata": {},
   "outputs": [],
   "source": [
    ">>> x = None # remember to review the rules of WWPD given above!\n",
    "# 定义了一个全局变量\n",
    "\n",
    ">>> x\n",
    ">>> lambda x: x\n",
    "# 定义lambda表达参数为x，返回x"
   ]
  },
  {
   "cell_type": "code",
   "execution_count": null,
   "id": "69683494",
   "metadata": {},
   "outputs": [],
   "source": [
    ">>> z = 3\n",
    ">>> e = lambda x: lambda y: lambda: x + y + z\n",
    ">>> e(0)(1)()\n",
    "\n",
    "# 函数内部中所有的变量都是共享的。能不能这样理解？\n"
   ]
  },
  {
   "cell_type": "markdown",
   "id": "78b4f33c",
   "metadata": {},
   "source": [
    "1. 子函数访问父函数的变量：如果在一个函数内部定义了另一个函数（子函数），那么子函数可以访问其父函数作用域内的变量。这是因为闭包允许内层函数记住并访问其外部函数的变量。\n",
    "2. 父函数访问子函数的变量：通常，父函数不能直接访问子函数内部定义的变量。这是因为变量的作用域是嵌套的，子函数内部的变量对外部是不可见的。\n",
    "3. 闭包的作用：闭包的关键之处在于，即使父函数已经完成执行，子函数仍然可以记住并访问父函数作用域内的变量。这是因为子函数在定义时就已经捕获了父函数作用域内的变量。"
   ]
  },
  {
   "cell_type": "code",
   "execution_count": null,
   "id": "3f5f9479",
   "metadata": {},
   "outputs": [],
   "source": [
    ">>> f = lambda z: x + z\n",
    ">>> f(3)\n",
    "\n",
    "# 函数内部(作用域问题)无法访问全局变量。"
   ]
  },
  {
   "cell_type": "markdown",
   "id": "e7e948f3",
   "metadata": {},
   "source": [
    "参数为函数。第二个函数有一个参数x。\n",
    "\n",
    "\n",
    "分解思维。\n",
    "\n"
   ]
  },
  {
   "cell_type": "markdown",
   "id": "5fa32c87",
   "metadata": {},
   "source": [
    "## 函数的连续调用"
   ]
  },
  {
   "cell_type": "code",
   "execution_count": null,
   "id": "9c915cfa",
   "metadata": {},
   "outputs": [],
   "source": [
    ">>> call_thrice = lambda f: lambda x: f(f(f(x)))\n",
    ">>> call_thrice(lambda y: y + 1)(0)\n",
    "\n",
    "\n",
    "\n",
    "call_thrices = lambda f: lambda x:f(f(f(x)))\n",
    "\n",
    "# 参数是一个函数，定义了一个x。返回这个带参数的函数。\n",
    "# \n",
    "\n",
    "def test(x):\n",
    "    return x + 2\n",
    "\n",
    "\n",
    "call_thrices(test)(3)\n",
    "\n",
    "# 第一个参数必须是函数。\n",
    "# 第二个表达式，为你想调用的函数的参数个数。\n",
    "# 第三个函数想调用几次。\n",
    "# 调用方法：call_thrices(函数)(参数)\n",
    "\n",
    "\n",
    "# <function __main__.<lambda>.<locals>.<lambda>(x)>\n"
   ]
  },
  {
   "cell_type": "code",
   "execution_count": null,
   "id": "e28b5e74",
   "metadata": {},
   "outputs": [],
   "source": [
    "\n",
    "// call_thrice = lambda f: lambda x: f(f(f(x)))\n",
    "const callThrice = f => x => f(f(f(x)));\n",
    "\n",
    "\n",
    "const addOne = x => x + 1;\n",
    "const result = callThrice(addOne)(0);  // 结果将是3\n",
    "\n"
   ]
  },
  {
   "cell_type": "markdown",
   "id": "85677faa",
   "metadata": {},
   "source": [
    "常规的函数也能做到函数的连续调用。让我们看一个例子"
   ]
  },
  {
   "cell_type": "code",
   "execution_count": null,
   "id": "c8d6220a",
   "metadata": {},
   "outputs": [],
   "source": [
    "def add(x):\n",
    "    return x + 1\n",
    "\n",
    "\n",
    "result_add = add(add(add(2)))\n",
    "\n",
    "result_add\n",
    "# 2 + 1 + 1 + 1"
   ]
  },
  {
   "cell_type": "markdown",
   "id": "1c21f3b9",
   "metadata": {},
   "source": [
    "函数先从 add(2): 返回 2 + 1.返回值的结果被连续两次传递给了add 函数，所以结果等于5."
   ]
  },
  {
   "cell_type": "code",
   "execution_count": null,
   "id": "2832e477",
   "metadata": {},
   "outputs": [],
   "source": [
    "\n",
    ">>> print_lambda = lambda z: print(z)  # When is the return expression of a lambda expression executed?\n",
    "# >>> 给函数取一个名字\n",
    "# 函数名\n",
    "# >>> one_thousand = print_lambda(1000)\n",
    "# 输出结果: 1000，因为函数体里面用 print\n",
    "\n",
    "print_lambda(1000)"
   ]
  },
  {
   "cell_type": "markdown",
   "id": "bd16f771",
   "metadata": {},
   "source": [
    "## 高阶函数\n",
    "\n",
    "用箭头函数编写高阶函数。高阶函数的本质就是，父函数的参数为一个函数，然后子函数参数函数的调用。父函数返回子函数本身"
   ]
  },
  {
   "cell_type": "markdown",
   "id": "f0757eb4",
   "metadata": {},
   "source": [
    "我们用js改写一下上述代码.js中用箭头函数替代了lambda表达式。"
   ]
  },
  {
   "cell_type": "code",
   "execution_count": null,
   "id": "69bab9a8",
   "metadata": {},
   "outputs": [],
   "source": [
    "/**\n",
    " * 高阶函数的简单例子\n",
    " * @param f function\n",
    " * @returns 返回 子函数\n",
    " */\n",
    "const evens = f => {\n",
    "  \n",
    "    const odd = x => {\n",
    "      if (x < 0) {\n",
    "        return f(-x);\n",
    "      }\n",
    "      return f(x);\n",
    "    };\n",
    "    return odd;\n",
    "  };\n",
    "  \n",
    "  const steven = x => x;\n",
    "\n",
    "const stewarts = evens(steven)\n",
    "\n",
    "stewarts(23)\n",
    "stewarts(-11)\n",
    "  \n",
    "// 格式是可以复用的。这样就减少了重复性的工作。\n",
    "  "
   ]
  },
  {
   "cell_type": "code",
   "execution_count": null,
   "id": "e4ffdd61",
   "metadata": {},
   "outputs": [],
   "source": [
    "// \n",
    "const fc = f => {\n",
    "  \n",
    "    const odd = x => {\n",
    "      if (x < 0) {\n",
    "        return fc(-x);\n",
    "      }\n",
    "      return fc(x);\n",
    "    };\n",
    "    return odd;\n",
    "  };"
   ]
  },
  {
   "cell_type": "markdown",
   "id": "d4b2d881",
   "metadata": {},
   "source": [
    "如何总结呢？我感觉我没看几个例子。我不知道这种写法能用在哪里。但以后肯定是有用的。或许我的后台管理系统中，有需求可以这样使用。但泛化的情况，往往都是需要你自己思考的。"
   ]
  },
  {
   "cell_type": "code",
   "execution_count": null,
   "id": "bcc5251c",
   "metadata": {},
   "outputs": [],
   "source": [
    "\n"
   ]
  },
  {
   "cell_type": "code",
   "execution_count": null,
   "id": "de46ad5c",
   "metadata": {},
   "outputs": [],
   "source": [
    ">>> def cake():\n",
    "...    print('beets')\n",
    "...    def pie():\n",
    "...        print('sweets')\n",
    "...        return 'cake'\n",
    "...    return pie\n",
    ">>> chocolate = cake()\n",
    "\n",
    "# 把调用的结果传递给 chocolate\n",
    "# 因为 pie函数没有被返回，所以 pie 函数没有被运行。"
   ]
  },
  {
   "cell_type": "markdown",
   "id": "6c23a88f",
   "metadata": {},
   "source": [
    "## 代码练习"
   ]
  },
  {
   "cell_type": "markdown",
   "id": "e27a6e35",
   "metadata": {},
   "source": [
    "### lambda 与 柯里化\n",
    "\n",
    "lambda有什么用？\n",
    "\n",
    "我们可以将多参数函数转化为一连串的单参数高阶函数。\n",
    "\n",
    "例如，我们可以将函数 f(x, y) 写成不同的函数 g(x)(y)。这就是所谓的 \"柯里化\"。这在处理只接受单参数的函数时非常有用。稍后我们将看到一些这样的例子。\n",
    "\n",
    "编写一个函数 lambda_curry2，使用 lambdas 对任意两个参数函数进行柯里化。有关 \"柯里化 \"的详细信息，请参阅教科书。\n",
    "\n",
    "您对这个问题的解决方案应完全包含在返回行中。您可以尝试先不受此限制地编写，然后在一行中重写。"
   ]
  },
  {
   "cell_type": "code",
   "execution_count": null,
   "id": "425b9b73",
   "metadata": {},
   "outputs": [
    {
     "data": {
      "text/plain": [
       "8"
      ]
     },
     "execution_count": 23,
     "metadata": {},
     "output_type": "execute_result"
    }
   ],
   "source": [
    "from operator import add, mul, mod\n",
    "def lambda_curry2(func):\n",
    "    \"\"\"\n",
    "    Returns a Curried version of a two-argument function FUNC.\n",
    "    >>> from operator import add, mul, mod\n",
    "    >>> curried_add = lambda_curry2(add)\n",
    "    >>> add_three = curried_add(3)\n",
    "    >>> add_three(5)\n",
    "    8\n",
    "    >>> curried_mul = lambda_curry2(mul)\n",
    "    >>> mul_5 = curried_mul(5)\n",
    "    >>> mul_5(42)\n",
    "    210\n",
    "    >>> lambda_curry2(mod)(123)(10)\n",
    "    3\n",
    "    \"\"\"\n",
    "    \"*** YOUR CODE HERE ***\"\n",
    "    def curry_add(x):\n",
    "        def curry_adds(y):\n",
    "            return func(x,y)\n",
    "        return curry_adds\n",
    "    return curry_add\n",
    "\n",
    "\n",
    "\n",
    "curried_add = lambda_curry2(add)\n",
    "\n",
    "add_three = curried_add(3)(5)\n",
    "\n",
    "\n",
    "\n",
    "# 为什么这道题你又知道做呢？就是因为有一道类似的题目。如果没有理解那个辅助题目，这道题其实我也是不会做的。\n"
   ]
  },
  {
   "cell_type": "markdown",
   "id": "7354a6f9",
   "metadata": {},
   "source": [
    "这个版本会比较好，通用性会更强。因为他接受一个函数参数，而不是一个参数。如果是参数那就不灵活。他就只能处理一种情况"
   ]
  },
  {
   "cell_type": "markdown",
   "id": "dcdf11d9",
   "metadata": {},
   "source": [
    "### Count van Count\n",
    "\n"
   ]
  },
  {
   "cell_type": "code",
   "execution_count": null,
   "id": "ed249580",
   "metadata": {},
   "outputs": [],
   "source": [
    "def count_factors(n):\n",
    "    \"\"\"返回 正整数 n 的因子数量.\n",
    "    >>> count_factors(6)\n",
    "    4   # 1, 2, 3, 6\n",
    "    >>> count_factors(4)\n",
    "    3   # 1, 2, 4\n",
    "    \"\"\"\n",
    "    i, count = 1, 0\n",
    "    while i <= n:\n",
    "        if n % i == 0:\n",
    "            count += 1\n",
    "        i += 1\n",
    "    return count\n",
    "\n",
    "def count_primes(n):\n",
    "    \"\"\"Return the number of prime numbers up to and including n.\n",
    "    >>> count_primes(6)\n",
    "    3   # 2, 3, 5\n",
    "    >>> count_primes(13)\n",
    "    6   # 2, 3, 5, 7, 11, 13\n",
    "    \"\"\"\n",
    "    i, count = 1, 0\n",
    "    while i <= n:\n",
    "        if is_prime(i):\n",
    "            count += 1\n",
    "        i += 1\n",
    "    return count\n",
    "\n",
    "def is_prime(n):\n",
    "    return count_factors(n) == 2 # only factors are 1 and n"
   ]
  },
  {
   "cell_type": "markdown",
   "id": "58301da0",
   "metadata": {},
   "source": [
    "设置初始化和0,1.0是因子的个数。\n",
    "\n",
    "\n",
    "count_primes 和 is_prime。根据素数的定义，一个素数只有两个因数：1 和它本身。因此，如果 n 的因数数量等于 2，那么 n 是素数，函数返回 True；否则，返回 False。"
   ]
  },
  {
   "cell_type": "code",
   "execution_count": null,
   "id": "94ef6ee6",
   "metadata": {},
   "outputs": [
    {
     "data": {
      "text/plain": [
       "11"
      ]
     },
     "execution_count": 33,
     "metadata": {},
     "output_type": "execute_result"
    }
   ],
   "source": [
    "def count_cond(condition):\n",
    "    \"\"\"Returns a function with one parameter N that counts all the numbers from\n",
    "    1 to N that satisfy the two-argument predicate function Condition, where\n",
    "    the first argument for Condition is N and the second argument is the\n",
    "    number from 1 to N.\n",
    "\n",
    "    >>> count_factors = count_cond(lambda n, i: n % i == 0)\n",
    "    >>> count_factors(2)   # 1, 2\n",
    "    2\n",
    "    >>> count_factors(4)   # 1, 2, 4\n",
    "    3\n",
    "    >>> count_factors(12)  # 1, 2, 3, 4, 6, 12\n",
    "    6\n",
    "\n",
    "    >>> is_prime = lambda n, i: count_factors(i) == 2\n",
    "    >>> count_primes = count_cond(is_prime)\n",
    "    >>> count_primes(2)    # 2\n",
    "    1\n",
    "    >>> count_primes(3)    # 2, 3\n",
    "    2\n",
    "    >>> count_primes(4)    # 2, 3\n",
    "    2\n",
    "    >>> count_primes(5)    # 2, 3, 5\n",
    "    3\n",
    "    >>> count_primes(20)   # 2, 3, 5, 7, 11, 13, 17, 19\n",
    "    8\n",
    "    \"\"\"\n",
    "    \"*** YOUR CODE HERE ***\"\n",
    "\n",
    "    \n",
    "count_cond(lambda a,b: a + b)\n",
    "\n",
    "\n",
    "test = lambda a,b: a + b\n",
    "\n",
    "test(5,6)\n",
    "\n"
   ]
  },
  {
   "cell_type": "markdown",
   "id": "b6cb75cc",
   "metadata": {},
   "source": [
    "未知量：输入一个表达式：类似于 判断质数 因子。参数接受匿名函数。这个跟柯里化是相似的。\n",
    "\n",
    "\n",
    "参数：\n",
    "处理部分：判断因子（参数从外部接入）\n",
    "返回部分：\n",
    "\n",
    "\n",
    "\n",
    "简化问题：\n",
    "可是不太一样。这个函数他只接受一个参数。不接受两个参数。\n",
    "\n",
    "\n",
    "\n",
    "\n",
    "问题尝试部分：\n",
    "1. 我参考了上一个题目。它们之间的相同之处在哪里呢？都是接受一个函数参数。虽然这个参数是匿名函数。\n",
    "这道题跟上道题不太一样。但肯定有相同的部分，但我还没有找到，所以就看起来没有头绪。五分钟没有头绪就应该去找辅助题目，还有就是简化题目。"
   ]
  },
  {
   "cell_type": "markdown",
   "id": "6040ab69",
   "metadata": {},
   "source": [
    "### 第五题：Make Adder\n",
    "\n",
    "理解题目：\n",
    "\n",
    "返回的也是一个函数，只不过是用lambda写的。\n"
   ]
  },
  {
   "cell_type": "code",
   "execution_count": null,
   "id": "46b1feb2",
   "metadata": {},
   "outputs": [
    {
     "data": {
      "text/plain": [
       "11"
      ]
     },
     "execution_count": 3,
     "metadata": {},
     "output_type": "execute_result"
    }
   ],
   "source": [
    "n = 9 #全局变量\n",
    "def make_adder(n):\n",
    "    return lambda k: k + n\n",
    "add_ten = make_adder(n+1)  \n",
    "result = add_ten(n)\n"
   ]
  },
  {
   "cell_type": "markdown",
   "id": "a30ba3fb",
   "metadata": {},
   "source": [
    "创建了一个全局变量。定义函数接收参数n，返回匿名函数（参数 k），返回 k + n。给匿名函数添加一个名字。并传入 参数\n",
    "n的值。调用 add_ten 函数。这个就相当于我们把函数\n",
    "\n",
    "\n",
    "在全局框架中，名称 add_ten 指向一个函数对象。该函数对象的固有名称是什么？\n",
    "框架 f2 标有什么名称（add_ten 或 λ）？哪个框架是 f2 的父框架？\n",
    "在 Global 框架中，变量 result 绑定的是什么值？"
   ]
  },
  {
   "cell_type": "markdown",
   "id": "7778a83f",
   "metadata": {},
   "source": [
    "### Q6 lambda 环境图\n",
    "\n"
   ]
  },
  {
   "cell_type": "code",
   "execution_count": null,
   "id": "f1598783",
   "metadata": {},
   "outputs": [
    {
     "data": {
      "text/plain": [
       "8"
      ]
     },
     "execution_count": 4,
     "metadata": {},
     "output_type": "execute_result"
    }
   ],
   "source": [
    "a = lambda x: x * 2 + 1\n",
    "# a 是一个函数。参数为x。返回值为：x * 2 + 1.\n",
    "def b(b, x):\n",
    "    return b(x + a(x)) # b(10) b是一个函数.\n",
    "x = 3\n",
    "b(a, x)\n",
    "\n",
    "\n",
    "# 疑问1： 函数b 有两个参数。但是这里只有一个参数，为什么可以运行？\n",
    "\n",
    "\n",
    "def test1(n):\n",
    "    return n + 2\n",
    "\n",
    "c = lambda x: x ** 2\n",
    "def d(func, x):\n",
    "    return func(func(x))\n",
    "\n",
    "x = 4\n",
    "result = d(test1, x)\n",
    "\n",
    "\n",
    "# 这两个例子的共同点就是，定义的普通函数：第一个参数是函数，第二个参数是传入进来的函数参数。"
   ]
  },
  {
   "cell_type": "markdown",
   "id": "f97a3929",
   "metadata": {},
   "source": [
    "验证结果：\n",
    "1. 普通函数也是可以的。只要存在返回值。\n",
    "2. 多参数可以吗？当然可以。\n",
    "3. 这种写法有什么好处？"
   ]
  },
  {
   "cell_type": "markdown",
   "id": "dde696a8",
   "metadata": {},
   "source": [
    "### Q7 复合同一性函数（练习高阶函数）\n",
    "\n",
    "编写一个函数，输入两个单参数函数 f 和 g，并返回另一个单参数 x 的函数。如果 f(g(x)) 等于 g(f(x))，返回的函数应返回 True。您可以假设 g(x) 的输出是 f 的有效输入，反之亦然。请尝试使用下面定义的 compose1 函数进行更多的 HOF 练习。"
   ]
  },
  {
   "cell_type": "code",
   "execution_count": null,
   "id": "3d237691",
   "metadata": {},
   "outputs": [
    {
     "data": {
      "text/plain": [
       "100"
      ]
     },
     "execution_count": 25,
     "metadata": {},
     "output_type": "execute_result"
    }
   ],
   "source": [
    "def compose1(f, g):\n",
    "    \"\"\"Return the composition function which given x, computes f(g(x)).\n",
    "\n",
    "    >>> add_one = lambda x: x + 1        # adds one to x\n",
    "    >>> square = lambda x: x**2\n",
    "    >>> a1 = compose1(square, add_one)   # (x + 1)^2\n",
    "    >>> a1(4)\n",
    "    25\n",
    "    >>> mul_three = lambda x: x * 3      # multiplies 3 to x\n",
    "    >>> a2 = compose1(mul_three, a1)    # ((x + 1)^2) * 3\n",
    "    >>> a2(4)\n",
    "    75\n",
    "    >>> a2(5)\n",
    "    108\n",
    "    \"\"\"\n",
    "    return lambda x,y: f(g(x,y))\n",
    "\n",
    "\n",
    "\n",
    "\n",
    "test1 = lambda x,y: x + y\n",
    "test2 = lambda x: x **2\n",
    "\n",
    "\n",
    "a1 = compose1(test2, test1)\n",
    "\n",
    "a1(7,3)\n"
   ]
  },
  {
   "cell_type": "markdown",
   "id": "e78c4ede",
   "metadata": {},
   "source": [
    "复合函数的返回值也必须是一个函数。捋一捋复合函数的使用流程。\n",
    "1. 前提条件你有两个函数。\n",
    "2. 给函数取一个名字 a1 = compose1(square, add_one)\n",
    "3. 然后就可以使用函数了"
   ]
  },
  {
   "cell_type": "code",
   "execution_count": null,
   "id": "55c26728",
   "metadata": {},
   "outputs": [
    {
     "name": "stdout",
     "output_type": "stream",
     "text": [
      "True\n",
      "True\n",
      "True\n"
     ]
    }
   ],
   "source": [
    "def composite_identity(f, g):\n",
    "    \"\"\"\n",
    "    Return a function with one parameter x that returns True if f(g(x)) is\n",
    "    equal to g(f(x)). You can assume the result of g(x) is a valid input for f\n",
    "    and vice versa. 如果 f(g(x)) 等于 g(f(x))\n",
    "\n",
    "    >>> add_one = lambda x: x + 1        # adds one to x\n",
    "    >>> square = lambda x: x**2\n",
    "    >>> b1 = composite_identity(square, add_one)\n",
    "    >>> b1(0)                            # (0 + 1)^2 == 0^2 + 1\n",
    "    True\n",
    "    >>> b1(4)                            # (4 + 1)^2 != 4^2 + 1\n",
    "    False\n",
    "    \"\"\"\n",
    "    \"*** YOUR CODE HERE ***\"\n",
    "    return lambda x: f(g(x)) == g(f(x))\n",
    "add_one = lambda x: x + 1\n",
    "square = lambda x: x + 1\n",
    "add_two = lambda x: x ** 2\n",
    "add_three = lambda x: x + 3\n",
    "b1 = composite_identity(square, add_one)\n",
    "b2 = composite_identity(add_two, add_three)\n",
    "\n",
    "b1(0)\n",
    "b1(24)\n",
    "\n",
    "\n",
    "#b1应该是接受一个参数。也就是x.\n",
    "\n",
    "def test():\n",
    "    print(b1(0) == True)\n",
    "    print(b1(24) == True)\n",
    "    print(b2(3) == False)  # 12 =! 36\n",
    "\n",
    "test()\n",
    "    "
   ]
  },
  {
   "cell_type": "markdown",
   "id": "d961e9ab",
   "metadata": {},
   "source": [
    "未知量：判断f(g(x)) 是否等于 g(f(x))，如果等于返回 True，否则返回 False。他们之间的区别在于函数执行的顺序。\n",
    "f(g(x)) 是先执行 g(x),再把返回值传递给 f."
   ]
  },
  {
   "cell_type": "markdown",
   "id": "06e8496e",
   "metadata": {},
   "source": [
    "#### 练习1——对一个给定的数字四舍五入求值\n",
    "\n"
   ]
  },
  {
   "cell_type": "code",
   "execution_count": null,
   "id": "ff842284",
   "metadata": {},
   "outputs": [
    {
     "data": {
      "text/plain": [
       "4"
      ]
     },
     "execution_count": 4,
     "metadata": {},
     "output_type": "execute_result"
    }
   ],
   "source": [
    "n = '3.56'\n",
    "data = float(n)\n",
    "result = round(data)\n",
    "\n",
    "\n",
    "\n",
    "\n",
    "def compose_1(f, g):\n",
    "    return lambda x:f(g(x))\n",
    "\n",
    "a2 = compose_1(round,float)\n",
    "\n",
    "a2(n)"
   ]
  },
  {
   "cell_type": "markdown",
   "id": "211aa08c",
   "metadata": {},
   "source": [
    "#### 练习2\n"
   ]
  },
  {
   "cell_type": "markdown",
   "id": "c0b1193f",
   "metadata": {},
   "source": [
    "### Q8 接受三个参数的组合函数（暂时理解不了）\n",
    "\n",
    "函数接受三个函数 f1、f2 和 f3 作为参数。\n",
    "\n",
    "cycle 应返回一个新的函数，这个新函数接受一个整数参数 n 并返回另一个函数。最终返回的这个函数应该接受一个参数 x，并根据 n 的值循环应用 f1、f2 和 f3 到 x 上。\n",
    "\n",
    "具体来说，最终函数对 x 的处理方式取决于 n 的值：\n",
    "\n",
    "当 n = 0 时，直接返回 x。\n",
    "当 n = 1 时，只应用 f1 到 x 上，即返回 f1(x)。\n",
    "当 n = 2 时，先应用 f1 到 x 上，然后再应用 f2 到 f1(x) 的结果上，即返回 f2(f1(x))。\n",
    "当 n = 3 时，依次应用 f1、f2 和 f3 到 x 上，即返回 f3(f2(f1(x)))。\n",
    "当 n = 4 时，应用 f1、f2、f3 后再从 f1 开始循环，即返回 f1(f3(f2(f1(x))))。\n",
    "以此类推。\n",
    "\n",
    "\n",
    "这个问题的关键在于，你需要设计一个能够根据 n 的值循环应用 f1、f2 和 f3 的机制。提示中提到，大部分工作需要在最内层的函数中完成，这意味着你可能需要在这个函数内部进行循环或递归调用，以实现多次应用这些函数的效果。"
   ]
  },
  {
   "cell_type": "code",
   "execution_count": 11,
   "id": "f1535f86",
   "metadata": {},
   "outputs": [
    {
     "data": {
      "text/plain": [
       "20"
      ]
     },
     "execution_count": 11,
     "metadata": {},
     "output_type": "execute_result"
    }
   ],
   "source": [
    "def cycle(f1, f2, f3):\n",
    "    \n",
    "    \"\"\"Returns a function that is itself a higher-order function.\n",
    "     \n",
    "    >>> def add1(x):\n",
    "    ...     return x + 1\n",
    "    >>> def times2(x):\n",
    "    ...     return x * 2\n",
    "    >>> def add3(x):\n",
    "    ...     return x + 3\n",
    "    >>> my_cycle = cycle(add1, times2, add3)\n",
    "    >>> identity = my_cycle(0)\n",
    "    >>> identity(5) \n",
    "    例如，如果我们调用了 my_cycle(0)，它应该返回一个函数，这个函数在执行时相当于 f1。\n",
    "    如果我们调用了 my_cycle(1)，它应该返回一个函数\n",
    "    5\n",
    "    >>> add_one_then_double = my_cycle(2)\n",
    "    >>> add_one_then_double(1)\n",
    "    4\n",
    "    >>> do_all_functions = my_cycle(3)\n",
    "    >>> do_all_functions(2)\n",
    "    9\n",
    "    >>> do_more_than_a_cycle = my_cycle(4)\n",
    "    >>> do_more_than_a_cycle(2)\n",
    "    10\n",
    "    >>> do_two_cycles = my_cycle(6)\n",
    "    >>> do_two_cycles(1)\n",
    "    19\n",
    "    \"\"\"\n",
    "    \"*** YOUR CODE HERE ***\"\n",
    "    def apply_funcs(n,x):\n",
    "         funcs = [f1,f2,f3]\n",
    "         for _ in range(n):\n",
    "          x = funcs[_ % 3](x)\n",
    "          return x\n",
    "    return lambda n : lambda x: apply_funcs(n, x)\n",
    "    #return lambda x:lambda x: f3(f2(f1(x)))   # TypeError: 'int' object is not callable\n",
    "    #return lambda x: lambda x:f3(f2(f1(x))) # 15\n",
    "# 这个组合函数的返回值为函数而不是返回值\n",
    "# 为什么函数的值为 15\n",
    "\n",
    "        \n",
    "def cycle1(f1, f2, f3):\n",
    "    \"\"\"Returns a function that is itself a higher-order function.\"\"\"\n",
    "    def apply_funcs(x, n):\n",
    "        # A helper function to apply f1, f2, and f3 based on the value of n\n",
    "        funcs = [f1, f2, f3]\n",
    "        while n > 0:\n",
    "            x = funcs[(n-1) % 3](x)\n",
    "            \n",
    "            n //= 3  # Integer division to reduce the count of full cycles\n",
    "        return x\n",
    "\n",
    "    return lambda n: lambda x: apply_funcs(x, n)\n",
    "\n",
    "\n",
    "def add1(x):\n",
    "     return x + 1\n",
    "def times2(x):\n",
    "     return x * 2\n",
    "def add3(x):\n",
    "     return x + 3\n",
    "\n",
    "\n",
    "my_cycle = cycle1(add1, times2, add3)\n",
    "identity = my_cycle(0) # 初始化值为0\n",
    "identity(20)"
   ]
  }
 ],
 "metadata": {
  "kernelspec": {
   "display_name": "Python 3",
   "language": "python",
   "name": "python3"
  },
  "language_info": {
   "codemirror_mode": {
    "name": "ipython",
    "version": 3
   },
   "file_extension": ".py",
   "mimetype": "text/x-python",
   "name": "python",
   "nbconvert_exporter": "python",
   "pygments_lexer": "ipython3",
   "version": "3.12.1"
  }
 },
 "nbformat": 4,
 "nbformat_minor": 5
}
