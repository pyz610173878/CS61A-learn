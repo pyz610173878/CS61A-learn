{
 "cells": [
  {
   "cell_type": "code",
   "execution_count": 1,
   "id": "cbf3592c-6f4a-4203-a040-0c6fb1449261",
   "metadata": {},
   "outputs": [],
   "source": []
  },
  {
   "cell_type": "code",
   "execution_count": 4,
   "id": "67032bec-fc36-48b0-8cb1-c3e6562adf56",
   "metadata": {},
   "outputs": [
    {
     "data": {
      "text/plain": [
       "3"
      ]
     },
     "execution_count": 4,
     "metadata": {},
     "output_type": "execute_result"
    }
   ],
   "source": [
    ">>> a = lambda x: x  # Assigning the lambda function to the name a\n",
    ">>> a(5)\n",
    ">>> (lambda: 3)()\n",
    "\n",
    "# Example\n",
    "\n"
   ]
  },
  {
   "cell_type": "markdown",
   "id": "5104b09b-014d-4a8e-860f-54b15221dfdf",
   "metadata": {},
   "source": [
    "因为lambda没有函数名，所以调用的时候，只需要输入框()即可。"
   ]
  },
  {
   "cell_type": "code",
   "execution_count": 7,
   "id": "c42c8286-b591-4ed8-846a-5142943db7d8",
   "metadata": {},
   "outputs": [
    {
     "name": "stdout",
     "output_type": "stream",
     "text": [
      "<function <lambda>.<locals>.<lambda> at 0x000002A2A95F8360>\n"
     ]
    },
    {
     "data": {
      "text/plain": [
       "88"
      ]
     },
     "execution_count": 7,
     "metadata": {},
     "output_type": "execute_result"
    }
   ],
   "source": [
    ">>> b = lambda x: lambda: x  # Lambdas表达式能够返回其他lambdas。\n",
    ">>> c = b(88)\n",
    ">>> print(c)\n",
    "# 88\n",
    "\n",
    ">>> c()\n",
    "# 函数名"
   ]
  },
  {
   "cell_type": "code",
   "execution_count": 13,
   "id": "2f5452af-cf60-42fe-bb7a-2df2690209a7",
   "metadata": {},
   "outputs": [
    {
     "data": {
      "text/plain": [
       "64"
      ]
     },
     "execution_count": 13,
     "metadata": {},
     "output_type": "execute_result"
    }
   ],
   "source": [
    ">>> d = lambda f: f(4)  # They can have functions as arguments as well.\n",
    ">>> def square(x):\n",
    "...     return x * x\n",
    ">>> d(square)\n",
    "# 16\n",
    "\n",
    "# Example\n",
    "\n",
    "def c(f):\n",
    "    return f(4)\n",
    "\n",
    "g = lambda x: pow(x,3)\n",
    "\n",
    "c(g)"
   ]
  },
  {
   "cell_type": "markdown",
   "id": "0b542fd6-251d-42ed-9437-24c85e3a6418",
   "metadata": {},
   "source": [
    "用lambda编写高阶函数。这个函数接受一个函数参数，返回xx。\n"
   ]
  },
  {
   "cell_type": "code",
   "execution_count": 17,
   "id": "84064de1-b5b1-4630-8810-73535157af32",
   "metadata": {},
   "outputs": [
    {
     "data": {
      "text/plain": [
       "4"
      ]
     },
     "execution_count": 17,
     "metadata": {},
     "output_type": "execute_result"
    }
   ],
   "source": [
    ">>> z = 3\n",
    ">>> e = lambda x: lambda y: lambda: x + y + z\n",
    ">>> e(0)(1)()"
   ]
  },
  {
   "cell_type": "code",
   "execution_count": 24,
   "id": "8959c0c3-fdf9-4691-9859-b8ea85f37356",
   "metadata": {},
   "outputs": [
    {
     "ename": "TypeError",
     "evalue": "unsupported operand type(s) for +: 'NoneType' and 'int'",
     "output_type": "error",
     "traceback": [
      "\u001b[1;31m---------------------------------------------------------------------------\u001b[0m",
      "\u001b[1;31mTypeError\u001b[0m                                 Traceback (most recent call last)",
      "Cell \u001b[1;32mIn[24], line 2\u001b[0m\n\u001b[0;32m      1\u001b[0m f \u001b[38;5;241m=\u001b[39m \u001b[38;5;28;01mlambda\u001b[39;00m z: x \u001b[38;5;241m+\u001b[39m z\n\u001b[1;32m----> 2\u001b[0m \u001b[43mf\u001b[49m\u001b[43m(\u001b[49m\u001b[38;5;241;43m3\u001b[39;49m\u001b[43m)\u001b[49m\n\u001b[0;32m      4\u001b[0m \u001b[38;5;66;03m# 你需要做的是，把两个函数的结果想加起来是这样吗？我也不确定。\u001b[39;00m\n",
      "Cell \u001b[1;32mIn[24], line 1\u001b[0m, in \u001b[0;36m<lambda>\u001b[1;34m(z)\u001b[0m\n\u001b[1;32m----> 1\u001b[0m f \u001b[38;5;241m=\u001b[39m \u001b[38;5;28;01mlambda\u001b[39;00m z: \u001b[43mx\u001b[49m\u001b[43m \u001b[49m\u001b[38;5;241;43m+\u001b[39;49m\u001b[43m \u001b[49m\u001b[43mz\u001b[49m\n\u001b[0;32m      2\u001b[0m f(\u001b[38;5;241m3\u001b[39m)\n\u001b[0;32m      4\u001b[0m \u001b[38;5;66;03m# 你需要做的是，把两个函数的结果想加起来是这样吗？我也不确定。\u001b[39;00m\n",
      "\u001b[1;31mTypeError\u001b[0m: unsupported operand type(s) for +: 'NoneType' and 'int'"
     ]
    }
   ],
   "source": [
    ">>> f = lambda z: x + z\n",
    ">>> f(3)\n",
    "\n",
    "# 你需要做的是，把两个函数的结果想加起来是这样吗？我也不确定。"
   ]
  },
  {
   "cell_type": "markdown",
   "id": "7c25d089-2fe4-4bf7-931f-bfc27917cba1",
   "metadata": {},
   "source": [
    "# 用lambda表达式编写高阶函数。"
   ]
  },
  {
   "cell_type": "code",
   "execution_count": 27,
   "id": "c2a55886-a270-4969-b53c-52b00ba4a303",
   "metadata": {},
   "outputs": [
    {
     "ename": "TypeError",
     "evalue": "'int' object is not callable",
     "output_type": "error",
     "traceback": [
      "\u001b[1;31m---------------------------------------------------------------------------\u001b[0m",
      "\u001b[1;31mTypeError\u001b[0m                                 Traceback (most recent call last)",
      "Cell \u001b[1;32mIn[27], line 3\u001b[0m\n\u001b[0;32m      1\u001b[0m higher_order_lambda \u001b[38;5;241m=\u001b[39m \u001b[38;5;28;01mlambda\u001b[39;00m f: \u001b[38;5;28;01mlambda\u001b[39;00m x: f(x)\n\u001b[0;32m      2\u001b[0m g \u001b[38;5;241m=\u001b[39m \u001b[38;5;28;01mlambda\u001b[39;00m x: x \u001b[38;5;241m*\u001b[39m x\n\u001b[1;32m----> 3\u001b[0m \u001b[43mhigher_order_lambda\u001b[49m\u001b[43m(\u001b[49m\u001b[38;5;241;43m2\u001b[39;49m\u001b[43m)\u001b[49m\u001b[43m(\u001b[49m\u001b[43mg\u001b[49m\u001b[43m)\u001b[49m  \u001b[38;5;66;03m# Which argument belongs to which function call?\u001b[39;00m\n\u001b[0;32m      4\u001b[0m higher_order_lambda(g)(\u001b[38;5;241m2\u001b[39m)\n",
      "Cell \u001b[1;32mIn[27], line 1\u001b[0m, in \u001b[0;36m<lambda>\u001b[1;34m(x)\u001b[0m\n\u001b[1;32m----> 1\u001b[0m higher_order_lambda \u001b[38;5;241m=\u001b[39m \u001b[38;5;28;01mlambda\u001b[39;00m f: \u001b[38;5;28;01mlambda\u001b[39;00m x: \u001b[43mf\u001b[49m\u001b[43m(\u001b[49m\u001b[43mx\u001b[49m\u001b[43m)\u001b[49m\n\u001b[0;32m      2\u001b[0m g \u001b[38;5;241m=\u001b[39m \u001b[38;5;28;01mlambda\u001b[39;00m x: x \u001b[38;5;241m*\u001b[39m x\n\u001b[0;32m      3\u001b[0m higher_order_lambda(\u001b[38;5;241m2\u001b[39m)(g)  \u001b[38;5;66;03m# Which argument belongs to which function call?\u001b[39;00m\n",
      "\u001b[1;31mTypeError\u001b[0m: 'int' object is not callable"
     ]
    }
   ],
   "source": [
    ">>> higher_order_lambda = lambda f: lambda x: f(x)\n",
    ">>> g = lambda x: x * x\n",
    ">>> higher_order_lambda(2)(g)  # Which argument belongs to which function call?\n"
   ]
  },
  {
   "cell_type": "code",
   "execution_count": 28,
   "id": "3d455a2b-3d87-4aaa-8208-6a2f17f69cb3",
   "metadata": {},
   "outputs": [
    {
     "data": {
      "text/plain": [
       "4"
      ]
     },
     "execution_count": 28,
     "metadata": {},
     "output_type": "execute_result"
    }
   ],
   "source": [
    ">>> higher_order_lambda(g)(2)"
   ]
  },
  {
   "cell_type": "markdown",
   "id": "8c82083d-8d18-428f-9eb1-edb4304cc005",
   "metadata": {},
   "source": [
    "\n",
    "# 函数的连续调用"
   ]
  },
  {
   "cell_type": "code",
   "execution_count": 29,
   "id": "c4cd0199-da10-48db-8a86-86dcc0682a56",
   "metadata": {},
   "outputs": [
    {
     "data": {
      "text/plain": [
       "3"
      ]
     },
     "execution_count": 29,
     "metadata": {},
     "output_type": "execute_result"
    }
   ],
   "source": [
    ">>> call_thrice = lambda f: lambda x: f(f(f(x)))\n",
    ">>> call_thrice(lambda y: y + 1)(0)\n",
    "\n",
    "# 函数一共重复调用了三次。0 + 1  1 + 1 2 + 1 = 3"
   ]
  },
  {
   "cell_type": "code",
   "execution_count": 31,
   "id": "c8889412-2eaf-4ba2-b676-207bfd4785d7",
   "metadata": {},
   "outputs": [
    {
     "name": "stdout",
     "output_type": "stream",
     "text": [
      "1000\n"
     ]
    }
   ],
   "source": [
    ">>> print_lambda = lambda z: print(z)  # When is the return expression of a lambda expression executed?\n",
    ">>> print_lambda\n",
    "\n",
    "one_thousand = print_lambda(1000)\n",
    "\n",
    "one_thousand"
   ]
  },
  {
   "cell_type": "markdown",
   "id": "58dc6f9b-2abe-40b2-b037-63e9f109cbc4",
   "metadata": {},
   "source": [
    "## 高阶函数"
   ]
  },
  {
   "cell_type": "code",
   "execution_count": 38,
   "id": "44b090b4-9753-4458-ad87-dd4974b07a14",
   "metadata": {},
   "outputs": [
    {
     "name": "stdout",
     "output_type": "stream",
     "text": [
      "<function even.<locals>.odd at 0x000002A2A9D505E0>\n",
      "61\n"
     ]
    },
    {
     "data": {
      "text/plain": [
       "4"
      ]
     },
     "execution_count": 38,
     "metadata": {},
     "output_type": "execute_result"
    }
   ],
   "source": [
    ">>> def even(f):\n",
    "...     def odd(x):\n",
    "...         if x < 0:\n",
    "...             return f(-x)     # steven(4)\n",
    "...         return f(x)\n",
    "...     return odd\n",
    ">>> steven = lambda x: x\n",
    ">>> stewart = even(steven)\n",
    ">>> print(stewart)\n",
    "\n",
    ">>> print(stewart(61))\n",
    "# 返回61然后返回odd的内存地址。\n",
    "\n",
    ">>> stewart(-4)\n",
    "# 4"
   ]
  },
  {
   "cell_type": "markdown",
   "id": "bcfbddcf-ca46-492e-b4a0-88d68a7c56d4",
   "metadata": {},
   "source": [
    "1. 定义了一个函数参数为f\n",
    "2. 在函数体内部又定义了一个函数参数为x\n",
    "3. odd函数的函数体：如果 x 小于 0: 返回 f函数(-x). 参数为odd的参数但是为负值。\n",
    "否则 就返回f(x)。\n",
    "然后在返回 odd函数。 注意这里是返回odd函数，并没有调用odd函数。\n",
    "\n",
    "编写了一个steven函数，就返回参数x。\n"
   ]
  },
  {
   "cell_type": "markdown",
   "id": "1393aced-efd5-4e06-8e27-80a365e5cde2",
   "metadata": {},
   "source": [
    "定义一个cake函数。输出 beats。内部定义pie没有参数，输出 sweats并且 返回 cake。最后cake函数返回 pie函数。\n"
   ]
  },
  {
   "cell_type": "code",
   "execution_count": 43,
   "id": "5e0a3019-4d58-4bf8-a14f-6ec9da1ab7f9",
   "metadata": {},
   "outputs": [
    {
     "name": "stdout",
     "output_type": "stream",
     "text": [
      "beets\n",
      "<function cake.<locals>.pie at 0x000002A2AA45C5E0>\n"
     ]
    }
   ],
   "source": [
    ">>> def cake():\n",
    "...    print('beets')\n",
    "...    def pie():\n",
    "...        print('sweets')\n",
    "...        return 'cake'\n",
    "...    return pie\n",
    ">>> chocolate = cake()\n",
    "chocolate\n",
    "chocolate()\n",
    "# beets"
   ]
  },
  {
   "cell_type": "markdown",
   "id": "a359db93-045f-4857-b3ec-62e80cb0cb96",
   "metadata": {},
   "source": [
    "cake是一个很神奇的函数。他既可以输出值，也可以当做函数调用。"
   ]
  },
  {
   "cell_type": "code",
   "execution_count": 44,
   "id": "c609468d-acfe-401d-8375-29d0764d3e8e",
   "metadata": {},
   "outputs": [
    {
     "ename": "TypeError",
     "evalue": "'NoneType' object is not callable",
     "output_type": "error",
     "traceback": [
      "\u001b[1;31m---------------------------------------------------------------------------\u001b[0m",
      "\u001b[1;31mTypeError\u001b[0m                                 Traceback (most recent call last)",
      "Cell \u001b[1;32mIn[44], line 1\u001b[0m\n\u001b[1;32m----> 1\u001b[0m \u001b[43mchocolate\u001b[49m\u001b[43m(\u001b[49m\u001b[43m)\u001b[49m\n\u001b[0;32m      3\u001b[0m \u001b[38;5;66;03m# sweets cake\u001b[39;00m\n",
      "\u001b[1;31mTypeError\u001b[0m: 'NoneType' object is not callable"
     ]
    }
   ],
   "source": [
    ">>> chocolate()\n",
    ">>> more_chocolate, more_cake = chocolate(), cake\n",
    "\n"
   ]
  },
  {
   "cell_type": "code",
   "execution_count": null,
   "id": "d30c6ee2-e857-4e48-a91b-40f77c9d5445",
   "metadata": {},
   "outputs": [],
   "source": [
    "\n"
   ]
  },
  {
   "cell_type": "code",
   "execution_count": null,
   "id": "29d5a44a-cd43-491d-90b1-20ad040744aa",
   "metadata": {},
   "outputs": [],
   "source": [
    "______\n",
    "\n",
    ">>> more_chocolate"
   ]
  }
 ],
 "metadata": {
  "kernelspec": {
   "display_name": "Python 3 (ipykernel)",
   "language": "python",
   "name": "python3"
  },
  "language_info": {
   "codemirror_mode": {
    "name": "ipython",
    "version": 3
   },
   "file_extension": ".py",
   "mimetype": "text/x-python",
   "name": "python",
   "nbconvert_exporter": "python",
   "pygments_lexer": "ipython3",
   "version": "3.12.1"
  }
 },
 "nbformat": 4,
 "nbformat_minor": 5
}
