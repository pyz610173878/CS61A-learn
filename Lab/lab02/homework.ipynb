{
 "cells": [
  {
   "cell_type": "markdown",
   "id": "a2ab744b-15a8-4650-b5c5-2004980e2b1c",
   "metadata": {},
   "source": [
    "# lambda的调用"
   ]
  },
  {
   "cell_type": "code",
   "execution_count": 1,
   "id": "67032bec-fc36-48b0-8cb1-c3e6562adf56",
   "metadata": {},
   "outputs": [
    {
     "data": {
      "text/plain": [
       "3"
      ]
     },
     "execution_count": 1,
     "metadata": {},
     "output_type": "execute_result"
    }
   ],
   "source": [
    "from random import randint , random\n",
    ">>> a = lambda x: x  # Assigning the lambda function to the name a\n",
    ">>> a(5)\n",
    ">>> (lambda: 3)()\n",
    "\n",
    "# Example\n",
    "\n"
   ]
  },
  {
   "cell_type": "markdown",
   "id": "5104b09b-014d-4a8e-860f-54b15221dfdf",
   "metadata": {},
   "source": [
    "因为lambda没有函数名，所以调用的时候，只需要输入框()即可。"
   ]
  },
  {
   "cell_type": "code",
   "execution_count": 2,
   "id": "c42c8286-b591-4ed8-846a-5142943db7d8",
   "metadata": {},
   "outputs": [
    {
     "name": "stdout",
     "output_type": "stream",
     "text": [
      "<function <lambda>.<locals>.<lambda> at 0x0000023EEA1C0540>\n"
     ]
    },
    {
     "data": {
      "text/plain": [
       "88"
      ]
     },
     "execution_count": 2,
     "metadata": {},
     "output_type": "execute_result"
    }
   ],
   "source": [
    ">>> b = lambda x: lambda: x  # Lambdas表达式能够返回其他lambdas。\n",
    ">>> c = b(88)\n",
    ">>> print(c)\n",
    "# 88\n",
    "\n",
    ">>> c()\n",
    "# 函数名"
   ]
  },
  {
   "cell_type": "markdown",
   "id": "f147e9ac-7b71-49ef-9c99-cd1ebdb4ec00",
   "metadata": {},
   "source": [
    "# 用lambda编写高阶函数"
   ]
  },
  {
   "cell_type": "code",
   "execution_count": 3,
   "id": "2f5452af-cf60-42fe-bb7a-2df2690209a7",
   "metadata": {},
   "outputs": [
    {
     "data": {
      "text/plain": [
       "64"
      ]
     },
     "execution_count": 3,
     "metadata": {},
     "output_type": "execute_result"
    }
   ],
   "source": [
    ">>> d = lambda f: f(4)  # They can have functions as arguments as well.\n",
    ">>> def square(x):\n",
    "...     return x * x\n",
    ">>> d(square)\n",
    "# 16\n",
    "\n",
    "# Example\n",
    "\n",
    "def c(f):\n",
    "    return f(4)\n",
    "\n",
    "g = lambda x: pow(x,3)\n",
    "\n",
    "c(g)\n"
   ]
  },
  {
   "cell_type": "markdown",
   "id": "50031517-8500-43b3-9224-0d61898d40a4",
   "metadata": {},
   "source": [
    "特征：一个函数返回另外一个函数。"
   ]
  },
  {
   "cell_type": "markdown",
   "id": "0b542fd6-251d-42ed-9437-24c85e3a6418",
   "metadata": {},
   "source": [
    "用lambda编写高阶函数。这个函数接受一个函数参数，返回xx。\n"
   ]
  },
  {
   "cell_type": "code",
   "execution_count": 4,
   "id": "84064de1-b5b1-4630-8810-73535157af32",
   "metadata": {},
   "outputs": [
    {
     "data": {
      "text/plain": [
       "4"
      ]
     },
     "execution_count": 4,
     "metadata": {},
     "output_type": "execute_result"
    }
   ],
   "source": [
    ">>> z = 3\n",
    ">>> e = lambda x: lambda y: lambda: x + y + z\n",
    ">>> e(0)(1)()"
   ]
  },
  {
   "cell_type": "code",
   "execution_count": 5,
   "id": "8959c0c3-fdf9-4691-9859-b8ea85f37356",
   "metadata": {},
   "outputs": [
    {
     "ename": "NameError",
     "evalue": "name 'x' is not defined",
     "output_type": "error",
     "traceback": [
      "\u001b[1;31m---------------------------------------------------------------------------\u001b[0m",
      "\u001b[1;31mNameError\u001b[0m                                 Traceback (most recent call last)",
      "Cell \u001b[1;32mIn[5], line 2\u001b[0m\n\u001b[0;32m      1\u001b[0m f \u001b[38;5;241m=\u001b[39m \u001b[38;5;28;01mlambda\u001b[39;00m z: x \u001b[38;5;241m+\u001b[39m z\n\u001b[1;32m----> 2\u001b[0m \u001b[43mf\u001b[49m\u001b[43m(\u001b[49m\u001b[38;5;241;43m3\u001b[39;49m\u001b[43m)\u001b[49m\n\u001b[0;32m      4\u001b[0m \u001b[38;5;66;03m# 你需要做的是，把两个函数的结果想加起来是这样吗？我也不确定。\u001b[39;00m\n",
      "Cell \u001b[1;32mIn[5], line 1\u001b[0m, in \u001b[0;36m<lambda>\u001b[1;34m(z)\u001b[0m\n\u001b[1;32m----> 1\u001b[0m f \u001b[38;5;241m=\u001b[39m \u001b[38;5;28;01mlambda\u001b[39;00m z: \u001b[43mx\u001b[49m \u001b[38;5;241m+\u001b[39m z\n\u001b[0;32m      2\u001b[0m f(\u001b[38;5;241m3\u001b[39m)\n\u001b[0;32m      4\u001b[0m \u001b[38;5;66;03m# 你需要做的是，把两个函数的结果想加起来是这样吗？我也不确定。\u001b[39;00m\n",
      "\u001b[1;31mNameError\u001b[0m: name 'x' is not defined"
     ]
    }
   ],
   "source": [
    ">>> f = lambda z: x + z\n",
    ">>> f(3)\n",
    "\n",
    "# 你需要做的是，把两个函数的结果想加起来是这样吗？我也不确定。"
   ]
  },
  {
   "cell_type": "markdown",
   "id": "7c25d089-2fe4-4bf7-931f-bfc27917cba1",
   "metadata": {},
   "source": [
    "# 高阶函数（lambda 表达式 ）"
   ]
  },
  {
   "cell_type": "markdown",
   "id": "5bd18e02",
   "metadata": {},
   "source": []
  },
  {
   "cell_type": "code",
   "execution_count": null,
   "id": "c2a55886-a270-4969-b53c-52b00ba4a303",
   "metadata": {},
   "outputs": [
    {
     "data": {
      "text/plain": [
       "[1, 5, 3, 5, 5, 6]"
      ]
     },
     "execution_count": 52,
     "metadata": {},
     "output_type": "execute_result"
    }
   ],
   "source": [
    ">>> higher_order_lambda = lambda f: lambda x,y: f(x,y)\n",
    "# 参数为f也就是一个函数，返回一个函数。这个函数参数为x。返回父函数，x\n",
    "# 这个函数好就好在，他是一个模式。他没有定义具体的函数。而是要我们自己去编写。\n",
    ">>> higher_order_lambdas = lambda f: lambda x: f(x)\n",
    "# 改写成不用 lambda 表达式\n",
    ">>> g = lambda x: x * x\n",
    "# 为lambda表达式函数取一个名\n",
    "\n",
    "def higher_order(f):\n",
    "    def x1(x):\n",
    "        return higher_order(x)\n",
    "    return x1\n",
    "\n",
    "def add(a, b):\n",
    "    return a * b\n",
    "\n",
    "higher_order_lambda_example1 = lambda f: lambda nums,num,index: f(nums,num,index)\n",
    "\n",
    "\n",
    "\n",
    "\n",
    "\n",
    "def insert(nums: list[int], num: int, index: int):\n",
    "    \"\"\"在数组的索引 index 处插入元素 num\"\"\"\n",
    "    # 把索引 index 以及之后的所有元素向后移动一位\n",
    "    for i in range(len(nums) - 1, index, -1):\n",
    "        nums[i] = nums[i - 1]\n",
    "    # 将 num 赋给 index 处的元素\n",
    "    nums[index] = num\n",
    "    return nums\n",
    "\n",
    "\n",
    "# insert([1,5,5,5,6,6,6],3,2)\n",
    "\n",
    "\n",
    "higher_order_lambda_example1(insert)([1,5,5,5,6,6],3,2)\n"
   ]
  },
  {
   "cell_type": "code",
   "execution_count": null,
   "id": "3d455a2b-3d87-4aaa-8208-6a2f17f69cb3",
   "metadata": {},
   "outputs": [
    {
     "data": {
      "text/plain": [
       "16"
      ]
     },
     "execution_count": 24,
     "metadata": {},
     "output_type": "execute_result"
    }
   ],
   "source": [
    "# >>> higher_order_lambda(g)(2)\n",
    ">>> higher_order_lambda(add)(2,8)"
   ]
  },
  {
   "cell_type": "markdown",
   "id": "8c82083d-8d18-428f-9eb1-edb4304cc005",
   "metadata": {},
   "source": [
    "\n",
    "# 嵌套函数（lambda表达式）"
   ]
  },
  {
   "cell_type": "code",
   "execution_count": null,
   "id": "c4cd0199-da10-48db-8a86-86dcc0682a56",
   "metadata": {},
   "outputs": [
    {
     "data": {
      "text/plain": [
       "3"
      ]
     },
     "execution_count": 29,
     "metadata": {},
     "output_type": "execute_result"
    }
   ],
   "source": [
    ">>> call_thrice = lambda f: lambda x: f(f(f(x)))\n",
    ">>> call_thrice(lambda y: y + 1)(0)\n",
    "\n",
    "# 函数一共重复调用了三次。0 + 1  1 + 1 2 + 1 = 3"
   ]
  },
  {
   "cell_type": "code",
   "execution_count": null,
   "id": "c8889412-2eaf-4ba2-b676-207bfd4785d7",
   "metadata": {},
   "outputs": [
    {
     "name": "stdout",
     "output_type": "stream",
     "text": [
      "1000\n"
     ]
    }
   ],
   "source": [
    ">>> print_lambda = lambda z: print(z)  # When is the return expression of a lambda expression executed?\n",
    ">>> print_lambda\n",
    "\n",
    "one_thousand = print_lambda(1000)\n",
    "\n",
    "one_thousand"
   ]
  },
  {
   "cell_type": "markdown",
   "id": "58dc6f9b-2abe-40b2-b037-63e9f109cbc4",
   "metadata": {},
   "source": [
    "## 高阶函数"
   ]
  },
  {
   "cell_type": "code",
   "execution_count": null,
   "id": "44b090b4-9753-4458-ad87-dd4974b07a14",
   "metadata": {},
   "outputs": [
    {
     "name": "stdout",
     "output_type": "stream",
     "text": [
      "<function even.<locals>.odd at 0x00000178CEF52B60>\n",
      "61\n"
     ]
    },
    {
     "data": {
      "text/plain": [
       "4"
      ]
     },
     "execution_count": 6,
     "metadata": {},
     "output_type": "execute_result"
    }
   ],
   "source": [
    ">>> def even(f):\n",
    "...     def odd(x):\n",
    "...         if x < 0:\n",
    "...             return f(-x)     # steven(4)\n",
    "...         return f(x)\n",
    "...     return odd\n",
    ">>> steven = lambda x: x\n",
    ">>> stewart = even(steven)\n",
    ">>> print(stewart)\n",
    "\n",
    ">>> print(stewart(61))\n",
    "# 返回61然后返回odd的内存地址。\n",
    "\n",
    ">>> stewart(-4)\n",
    "# 4"
   ]
  },
  {
   "cell_type": "markdown",
   "id": "bcfbddcf-ca46-492e-b4a0-88d68a7c56d4",
   "metadata": {},
   "source": [
    "1. 定义了一个函数参数为f\n",
    "2. 在函数体内部又定义了一个函数参数为x\n",
    "3. odd函数的函数体：如果 x 小于 0: 返回 f函数(-x). 参数为odd的参数但是为负值。\n",
    "否则 就返回f(x)。\n",
    "然后在返回 odd函数。 注意这里是返回odd函数，并没有调用odd函数。\n",
    "\n",
    "编写了一个steven函数，就返回参数x。\n"
   ]
  },
  {
   "cell_type": "markdown",
   "id": "1393aced-efd5-4e06-8e27-80a365e5cde2",
   "metadata": {},
   "source": [
    "定义一个cake函数。输出 beats。内部定义pie没有参数，输出 sweats并且 返回 cake。最后cake函数返回 pie函数。\n"
   ]
  },
  {
   "cell_type": "code",
   "execution_count": null,
   "id": "5e0a3019-4d58-4bf8-a14f-6ec9da1ab7f9",
   "metadata": {},
   "outputs": [
    {
     "name": "stdout",
     "output_type": "stream",
     "text": [
      "beets\n",
      "<function cake.<locals>.pie at 0x000002A2AA45C5E0>\n"
     ]
    }
   ],
   "source": [
    ">>> def cake():\n",
    "...    print('beets')\n",
    "...    def pie():\n",
    "...        print('sweets')\n",
    "...        return 'cake'\n",
    "...    return pie\n",
    ">>> chocolate = cake()\n",
    "chocolate\n",
    "chocolate()\n",
    "# beets"
   ]
  },
  {
   "cell_type": "markdown",
   "id": "a359db93-045f-4857-b3ec-62e80cb0cb96",
   "metadata": {},
   "source": [
    "cake是一个很神奇的函数。他既可以输出值，也可以当做函数调用。"
   ]
  },
  {
   "cell_type": "code",
   "execution_count": null,
   "id": "c609468d-acfe-401d-8375-29d0764d3e8e",
   "metadata": {},
   "outputs": [
    {
     "ename": "TypeError",
     "evalue": "'NoneType' object is not callable",
     "output_type": "error",
     "traceback": [
      "\u001b[1;31m---------------------------------------------------------------------------\u001b[0m",
      "\u001b[1;31mTypeError\u001b[0m                                 Traceback (most recent call last)",
      "Cell \u001b[1;32mIn[44], line 1\u001b[0m\n\u001b[1;32m----> 1\u001b[0m \u001b[43mchocolate\u001b[49m\u001b[43m(\u001b[49m\u001b[43m)\u001b[49m\n\u001b[0;32m      3\u001b[0m \u001b[38;5;66;03m# sweets cake\u001b[39;00m\n",
      "\u001b[1;31mTypeError\u001b[0m: 'NoneType' object is not callable"
     ]
    }
   ],
   "source": [
    ">>> chocolate()\n",
    ">>> more_chocolate, more_cake = chocolate(), cake\n",
    "\n"
   ]
  },
  {
   "cell_type": "code",
   "execution_count": null,
   "id": "d30c6ee2-e857-4e48-a91b-40f77c9d5445",
   "metadata": {},
   "outputs": [],
   "source": [
    "\n"
   ]
  },
  {
   "cell_type": "markdown",
   "id": "ce543a3b-0f55-4e6e-a607-9fff0260ee15",
   "metadata": {},
   "source": [
    "# lambda 柯里化 闭包"
   ]
  },
  {
   "cell_type": "code",
   "execution_count": null,
   "id": "4b2c46a0-7192-4492-ac0c-66b6189655bd",
   "metadata": {},
   "outputs": [
    {
     "data": {
      "text/plain": [
       "<function __main__.<lambda>(x)>"
      ]
     },
     "execution_count": 8,
     "metadata": {},
     "output_type": "execute_result"
    }
   ],
   "source": [
    ">>> x = None # remember to review the rules of WWPD given above!\n",
    "# 定义了一个全局变量\n",
    "\n",
    ">>> x\n",
    ">>> lambda x: x\n",
    "# 定义lambda表达参数为x，返回x"
   ]
  },
  {
   "cell_type": "code",
   "execution_count": null,
   "id": "69683494",
   "metadata": {},
   "outputs": [],
   "source": [
    ">>> z = 3\n",
    ">>> e = lambda x: lambda y: lambda: x + y + z\n",
    ">>> e(0)(1)()\n",
    "\n",
    "# 函数内部中所有的变量都是共享的。能不能这样理解？\n"
   ]
  },
  {
   "cell_type": "markdown",
   "id": "78b4f33c",
   "metadata": {},
   "source": [
    "1. 子函数访问父函数的变量：如果在一个函数内部定义了另一个函数（子函数），那么子函数可以访问其父函数作用域内的变量。这是因为闭包允许内层函数记住并访问其外部函数的变量。\n",
    "2. 父函数访问子函数的变量：通常，父函数不能直接访问子函数内部定义的变量。这是因为变量的作用域是嵌套的，子函数内部的变量对外部是不可见的。\n",
    "3. 闭包的作用：闭包的关键之处在于，即使父函数已经完成执行，子函数仍然可以记住并访问父函数作用域内的变量。这是因为子函数在定义时就已经捕获了父函数作用域内的变量。"
   ]
  },
  {
   "cell_type": "code",
   "execution_count": null,
   "id": "3f5f9479",
   "metadata": {},
   "outputs": [
    {
     "ename": "TypeError",
     "evalue": "unsupported operand type(s) for +: 'NoneType' and 'int'",
     "output_type": "error",
     "traceback": [
      "\u001b[1;31m---------------------------------------------------------------------------\u001b[0m",
      "\u001b[1;31mTypeError\u001b[0m                                 Traceback (most recent call last)",
      "Cell \u001b[1;32mIn[9], line 2\u001b[0m\n\u001b[0;32m      1\u001b[0m f \u001b[38;5;241m=\u001b[39m \u001b[38;5;28;01mlambda\u001b[39;00m z: x \u001b[38;5;241m+\u001b[39m z\n\u001b[1;32m----> 2\u001b[0m \u001b[43mf\u001b[49m\u001b[43m(\u001b[49m\u001b[38;5;241;43m3\u001b[39;49m\u001b[43m)\u001b[49m\n",
      "Cell \u001b[1;32mIn[9], line 1\u001b[0m, in \u001b[0;36m<lambda>\u001b[1;34m(z)\u001b[0m\n\u001b[1;32m----> 1\u001b[0m f \u001b[38;5;241m=\u001b[39m \u001b[38;5;28;01mlambda\u001b[39;00m z: \u001b[43mx\u001b[49m\u001b[43m \u001b[49m\u001b[38;5;241;43m+\u001b[39;49m\u001b[43m \u001b[49m\u001b[43mz\u001b[49m\n\u001b[0;32m      2\u001b[0m f(\u001b[38;5;241m3\u001b[39m)\n",
      "\u001b[1;31mTypeError\u001b[0m: unsupported operand type(s) for +: 'NoneType' and 'int'"
     ]
    }
   ],
   "source": [
    ">>> f = lambda z: x + z\n",
    ">>> f(3)\n",
    "\n",
    "# 函数内部(作用域问题)无法访问全局变量。"
   ]
  },
  {
   "cell_type": "markdown",
   "id": "e7e948f3",
   "metadata": {},
   "source": [
    "参数为函数。第二个函数有一个参数x。\n",
    "\n",
    "\n",
    "分解思维。\n",
    "\n"
   ]
  },
  {
   "cell_type": "markdown",
   "id": "5fa32c87",
   "metadata": {},
   "source": [
    "## 函数的连续调用"
   ]
  },
  {
   "cell_type": "code",
   "execution_count": 18,
   "id": "9c915cfa",
   "metadata": {},
   "outputs": [
    {
     "data": {
      "text/plain": [
       "9"
      ]
     },
     "execution_count": 18,
     "metadata": {},
     "output_type": "execute_result"
    }
   ],
   "source": [
    ">>> call_thrice = lambda f: lambda x: f(f(f(x)))\n",
    ">>> call_thrice(lambda y: y + 1)(0)\n",
    "\n",
    "\n",
    "\n",
    "call_thrices = lambda f: lambda x:f(f(f(x)))\n",
    "\n",
    "# 参数是一个函数，定义了一个x。返回这个带参数的函数。\n",
    "# \n",
    "\n",
    "def test(x):\n",
    "    return x + 2\n",
    "\n",
    "\n",
    "call_thrices(test)(3)\n",
    "\n",
    "# 第一个参数必须是函数。\n",
    "# 第二个表达式，为你想调用的函数的参数个数。\n",
    "# 第三个函数想调用几次。\n",
    "# 调用方法：call_thrices(函数)(参数)\n",
    "\n",
    "\n",
    "# <function __main__.<lambda>.<locals>.<lambda>(x)>\n"
   ]
  },
  {
   "cell_type": "code",
   "execution_count": 1,
   "id": "e28b5e74",
   "metadata": {},
   "outputs": [
    {
     "data": {
      "text/plain": [
       "\u001b[33m3\u001b[39m"
      ]
     },
     "execution_count": 1,
     "metadata": {},
     "output_type": "execute_result"
    }
   ],
   "source": [
    "\n",
    "// call_thrice = lambda f: lambda x: f(f(f(x)))\n",
    "const callThrice = f => x => f(f(f(x)));\n",
    "\n",
    "\n",
    "const addOne = x => x + 1;\n",
    "const result = callThrice(addOne)(0);  // 结果将是3\n",
    "\n"
   ]
  },
  {
   "cell_type": "markdown",
   "id": "85677faa",
   "metadata": {},
   "source": [
    "常规的函数也能做到函数的连续调用。让我们看一个例子"
   ]
  },
  {
   "cell_type": "code",
   "execution_count": 20,
   "id": "c8d6220a",
   "metadata": {},
   "outputs": [
    {
     "data": {
      "text/plain": [
       "5"
      ]
     },
     "execution_count": 20,
     "metadata": {},
     "output_type": "execute_result"
    }
   ],
   "source": [
    "def add(x):\n",
    "    return x + 1\n",
    "\n",
    "\n",
    "result_add = add(add(add(2)))\n",
    "\n",
    "result_add\n",
    "# 2 + 1 + 1 + 1"
   ]
  },
  {
   "cell_type": "markdown",
   "id": "1c21f3b9",
   "metadata": {},
   "source": [
    "函数先从 add(2): 返回 2 + 1.返回值的结果被连续两次传递给了add 函数，所以结果等于5."
   ]
  },
  {
   "cell_type": "code",
   "execution_count": 28,
   "id": "2832e477",
   "metadata": {},
   "outputs": [
    {
     "name": "stdout",
     "output_type": "stream",
     "text": [
      "1000\n"
     ]
    }
   ],
   "source": [
    "\n",
    ">>> print_lambda = lambda z: print(z)  # When is the return expression of a lambda expression executed?\n",
    "# >>> 给函数取一个名字\n",
    "# 函数名\n",
    "# >>> one_thousand = print_lambda(1000)\n",
    "# 输出结果: 1000，因为函数体里面用 print\n",
    "\n",
    "print_lambda(1000)"
   ]
  },
  {
   "cell_type": "markdown",
   "id": "bd16f771",
   "metadata": {},
   "source": [
    "## 高阶函数\n",
    "\n",
    "用箭头函数编写高阶函数。高阶函数的本质就是，父函数的参数为一个函数，然后子函数参数函数的调用。父函数返回子函数本身"
   ]
  },
  {
   "cell_type": "markdown",
   "id": "f0757eb4",
   "metadata": {},
   "source": [
    "我们用js改写一下上述代码.js中用箭头函数替代了lambda表达式。"
   ]
  },
  {
   "cell_type": "code",
   "execution_count": 6,
   "id": "69bab9a8",
   "metadata": {},
   "outputs": [
    {
     "data": {
      "text/plain": [
       "\u001b[33m11\u001b[39m"
      ]
     },
     "execution_count": 6,
     "metadata": {},
     "output_type": "execute_result"
    }
   ],
   "source": [
    "/**\n",
    " * 高阶函数的简单例子\n",
    " * @param f function\n",
    " * @returns 返回 子函数\n",
    " */\n",
    "const evens = f => {\n",
    "  \n",
    "    const odd = x => {\n",
    "      if (x < 0) {\n",
    "        return f(-x);\n",
    "      }\n",
    "      return f(x);\n",
    "    };\n",
    "    return odd;\n",
    "  };\n",
    "  \n",
    "  const steven = x => x;\n",
    "\n",
    "const stewarts = evens(steven)\n",
    "\n",
    "stewarts(23)\n",
    "stewarts(-11)\n",
    "  \n",
    "// 格式是可以复用的。这样就减少了重复性的工作。\n",
    "  "
   ]
  },
  {
   "cell_type": "code",
   "execution_count": null,
   "id": "e4ffdd61",
   "metadata": {},
   "outputs": [],
   "source": [
    "// \n",
    "const fc = f => {\n",
    "  \n",
    "    const odd = x => {\n",
    "      if (x < 0) {\n",
    "        return fc(-x);\n",
    "      }\n",
    "      return fc(x);\n",
    "    };\n",
    "    return odd;\n",
    "  };"
   ]
  },
  {
   "cell_type": "markdown",
   "id": "d4b2d881",
   "metadata": {},
   "source": [
    "如何总结呢？我感觉我没看几个例子。我不知道这种写法能用在哪里。但以后肯定是有用的。或许我的后台管理系统中，有需求可以这样使用。但泛化的情况，往往都是需要你自己思考的。"
   ]
  },
  {
   "cell_type": "code",
   "execution_count": null,
   "id": "bcc5251c",
   "metadata": {},
   "outputs": [],
   "source": [
    "\n"
   ]
  }
 ],
 "metadata": {
  "kernelspec": {
   "display_name": "Deno",
   "language": "typescript",
   "name": "deno"
  },
  "language_info": {
   "file_extension": ".ts",
   "mimetype": "text/x.typescript",
   "name": "typescript",
   "nb_converter": "script",
   "pygments_lexer": "typescript",
   "version": "5.3.3"
  }
 },
 "nbformat": 4,
 "nbformat_minor": 5
}
