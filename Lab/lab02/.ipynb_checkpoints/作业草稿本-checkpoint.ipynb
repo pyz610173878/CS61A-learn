{
 "cells": [
  {
   "cell_type": "code",
   "execution_count": 1,
   "id": "14932a8e-8767-4a68-8012-e63b183b5ae3",
   "metadata": {
    "tags": []
   },
   "outputs": [
    {
     "data": {
      "text/plain": [
       "<function __main__.<lambda>()>"
      ]
     },
     "execution_count": 1,
     "metadata": {},
     "output_type": "execute_result"
    }
   ],
   "source": [
    "(lambda: 3)()\n",
    "\n",
    "\n",
    "# 相当于 \n",
    "\n",
    "def abb():\n",
    "    return 3\n",
    "\n",
    "\n",
    "lambda: 3 + 2()\n",
    "\n",
    "\n",
    "\n",
    "\n",
    "# 没有表达式"
   ]
  },
  {
   "cell_type": "code",
   "execution_count": 3,
   "id": "4f5b6ef5-076c-4349-80f6-47de58a729c6",
   "metadata": {},
   "outputs": [
    {
     "data": {
      "text/plain": [
       "<function __main__.add()>"
      ]
     },
     "execution_count": 3,
     "metadata": {},
     "output_type": "execute_result"
    }
   ],
   "source": [
    "def add():\n",
    "    return 123\n",
    "\n",
    "\n",
    "add"
   ]
  },
  {
   "cell_type": "raw",
   "id": "7cfa21bd-60b9-44e8-90d9-ec8e8846e55a",
   "metadata": {
    "tags": []
   },
   "source": [
    ">>> lambda x: x  # A lambda expression with one parameter x\n",
    "\n",
    ">>> a = lambda x: x  # Assigning the lambda function to the name a\n",
    "\n",
    ">>> a(5)\n",
    "\n",
    ">>> (lambda: 3)()  # Using a lambda expression as an operator in a call exp.\n",
    "\n",
    ">>> b = lambda x: lambda: x  # Lambdas can return other lambdas!\n",
    "\n",
    ">>> c = b(88)\n",
    "\n",
    "c()\n",
    "\n",
    "# >>> c()\n",
    "\n",
    "# >>> d = lambda f: f(4)  # They can have functions as arguments as well.\n",
    "d = lambda f: f(4)\n",
    "\n",
    "\n",
    "\n",
    "def square(x):\n",
    "    return x * x\n",
    "\n",
    "d(square)"
   ]
  },
  {
   "cell_type": "code",
   "execution_count": 7,
   "id": "6a676501-14c6-4655-a1bf-be4e42059690",
   "metadata": {},
   "outputs": [
    {
     "ename": "TypeError",
     "evalue": "abs() takes exactly one argument (0 given)",
     "output_type": "error",
     "traceback": [
      "\u001b[1;31m---------------------------------------------------------------------------\u001b[0m",
      "\u001b[1;31mTypeError\u001b[0m                                 Traceback (most recent call last)",
      "\u001b[1;32m~\\AppData\\Local\\Temp\\ipykernel_94020\\1163495901.py\u001b[0m in \u001b[0;36m<module>\u001b[1;34m\u001b[0m\n\u001b[0;32m      4\u001b[0m     \u001b[1;32mreturn\u001b[0m \u001b[0mx\u001b[0m \u001b[1;33m+\u001b[0m \u001b[0mx\u001b[0m\u001b[1;33m\u001b[0m\u001b[1;33m\u001b[0m\u001b[0m\n\u001b[0;32m      5\u001b[0m \u001b[1;33m\u001b[0m\u001b[0m\n\u001b[1;32m----> 6\u001b[1;33m \u001b[0mfuc\u001b[0m\u001b[1;33m(\u001b[0m\u001b[0msquare\u001b[0m\u001b[1;33m(\u001b[0m\u001b[0mabs\u001b[0m\u001b[1;33m(\u001b[0m\u001b[1;33m)\u001b[0m\u001b[1;33m)\u001b[0m\u001b[1;33m)\u001b[0m\u001b[1;33m\u001b[0m\u001b[1;33m\u001b[0m\u001b[0m\n\u001b[0m\u001b[0;32m      7\u001b[0m \u001b[1;33m\u001b[0m\u001b[0m\n",
      "\u001b[1;31mTypeError\u001b[0m: abs() takes exactly one argument (0 given)"
     ]
    }
   ],
   "source": [
    "\n",
    "\n",
    "fuc = lambda f:f(g(5))\n",
    "\n",
    "def square(x):\n",
    "    return x + x\n",
    "\n",
    "fuc(square(abs()))\n",
    "\n"
   ]
  },
  {
   "cell_type": "code",
   "execution_count": 22,
   "id": "780fccef-823d-4e69-920b-e2d96d840787",
   "metadata": {},
   "outputs": [
    {
     "ename": "TypeError",
     "evalue": "<lambda>() argument after * must be an iterable, not int",
     "output_type": "error",
     "traceback": [
      "\u001b[1;31m---------------------------------------------------------------------------\u001b[0m",
      "\u001b[1;31mTypeError\u001b[0m                                 Traceback (most recent call last)",
      "\u001b[1;32m~\\AppData\\Local\\Temp\\ipykernel_94020\\1069421276.py\u001b[0m in \u001b[0;36m<module>\u001b[1;34m\u001b[0m\n\u001b[0;32m     15\u001b[0m \u001b[1;33m\u001b[0m\u001b[0m\n\u001b[0;32m     16\u001b[0m \u001b[1;31m# g函数相乘\u001b[0m\u001b[1;33m\u001b[0m\u001b[1;33m\u001b[0m\u001b[1;33m\u001b[0m\u001b[0m\n\u001b[1;32m---> 17\u001b[1;33m \u001b[0mhigher_order_lambda\u001b[0m\u001b[1;33m(\u001b[0m\u001b[0mg\u001b[0m\u001b[1;33m)\u001b[0m\u001b[1;33m(\u001b[0m\u001b[1;36m4\u001b[0m\u001b[1;33m)\u001b[0m\u001b[1;33m(\u001b[0m\u001b[1;36m5\u001b[0m\u001b[1;33m)\u001b[0m\u001b[1;33m(\u001b[0m\u001b[1;36m7\u001b[0m\u001b[1;33m)\u001b[0m\u001b[1;33m\u001b[0m\u001b[1;33m\u001b[0m\u001b[0m\n\u001b[0m\u001b[0;32m     18\u001b[0m \u001b[1;33m\u001b[0m\u001b[0m\n\u001b[0;32m     19\u001b[0m \u001b[1;33m\u001b[0m\u001b[0m\n",
      "\u001b[1;32m~\\AppData\\Local\\Temp\\ipykernel_94020\\1069421276.py\u001b[0m in \u001b[0;36m<lambda>\u001b[1;34m(x)\u001b[0m\n\u001b[0;32m     11\u001b[0m \u001b[1;31m# f(3)\u001b[0m\u001b[1;33m\u001b[0m\u001b[1;33m\u001b[0m\u001b[1;33m\u001b[0m\u001b[0m\n\u001b[0;32m     12\u001b[0m \u001b[1;33m\u001b[0m\u001b[0m\n\u001b[1;32m---> 13\u001b[1;33m \u001b[0mhigher_order_lambda\u001b[0m \u001b[1;33m=\u001b[0m \u001b[1;32mlambda\u001b[0m \u001b[0mf\u001b[0m\u001b[1;33m:\u001b[0m \u001b[1;32mlambda\u001b[0m \u001b[0mx\u001b[0m\u001b[1;33m:\u001b[0m \u001b[0mf\u001b[0m\u001b[1;33m(\u001b[0m\u001b[1;33m*\u001b[0m\u001b[0mx\u001b[0m\u001b[1;33m)\u001b[0m\u001b[1;33m\u001b[0m\u001b[1;33m\u001b[0m\u001b[0m\n\u001b[0m\u001b[0;32m     14\u001b[0m \u001b[0mg\u001b[0m \u001b[1;33m=\u001b[0m \u001b[1;32mlambda\u001b[0m \u001b[0mx\u001b[0m\u001b[1;33m:\u001b[0m \u001b[0mx\u001b[0m \u001b[1;33m*\u001b[0m \u001b[0mx\u001b[0m\u001b[1;33m\u001b[0m\u001b[1;33m\u001b[0m\u001b[0m\n\u001b[0;32m     15\u001b[0m \u001b[1;33m\u001b[0m\u001b[0m\n",
      "\u001b[1;31mTypeError\u001b[0m: <lambda>() argument after * must be an iterable, not int"
     ]
    }
   ],
   "source": [
    "z = 3\n",
    "e = lambda x: lambda y: lambda: x + y + z\n",
    "e(0)(1)()\n",
    "\n",
    "\n",
    "# 翻译一下。\n",
    "# 我能看懂，也知道运行结果。但我无法泛化出知识。因为例子实在是太少了。\n",
    "# 所以\n",
    "\n",
    "# f = lambda z: x + z\n",
    "# f(3)\n",
    "\n",
    "higher_order_lambda = lambda f: lambda x: f(x)\n",
    "g = lambda x: x * x\n",
    "\n",
    "# g函数相乘\n",
    "higher_order_lambda(g)(4)(5)(7)\n",
    "# 高阶函数，参数能够接受函数，就叫高阶函数。"
   ]
  },
  {
   "cell_type": "code",
   "execution_count": 12,
   "id": "028b5d76-786b-4698-a18e-66640833fc61",
   "metadata": {},
   "outputs": [
    {
     "ename": "TypeError",
     "evalue": "<lambda>() missing 2 required positional arguments: 'x' and 'y'",
     "output_type": "error",
     "traceback": [
      "\u001b[1;31m---------------------------------------------------------------------------\u001b[0m",
      "\u001b[1;31mTypeError\u001b[0m                                 Traceback (most recent call last)",
      "\u001b[1;32m~\\AppData\\Local\\Temp\\ipykernel_18292\\321453908.py\u001b[0m in \u001b[0;36m<module>\u001b[1;34m\u001b[0m\n\u001b[0;32m     11\u001b[0m \u001b[1;33m\u001b[0m\u001b[0m\n\u001b[0;32m     12\u001b[0m \u001b[1;33m\u001b[0m\u001b[0m\n\u001b[1;32m---> 13\u001b[1;33m \u001b[0madd\u001b[0m\u001b[1;33m(\u001b[0m\u001b[1;36m3\u001b[0m\u001b[1;33m,\u001b[0m \u001b[1;36m5\u001b[0m\u001b[1;33m)\u001b[0m\u001b[1;33m\u001b[0m\u001b[1;33m\u001b[0m\u001b[0m\n\u001b[0m",
      "\u001b[1;32m~\\AppData\\Local\\Temp\\ipykernel_18292\\321453908.py\u001b[0m in \u001b[0;36madd\u001b[1;34m(x, y)\u001b[0m\n\u001b[0;32m      8\u001b[0m \u001b[1;33m\u001b[0m\u001b[0m\n\u001b[0;32m      9\u001b[0m \u001b[1;32mdef\u001b[0m \u001b[0madd\u001b[0m\u001b[1;33m(\u001b[0m\u001b[0mx\u001b[0m\u001b[1;33m,\u001b[0m \u001b[0my\u001b[0m\u001b[1;33m)\u001b[0m\u001b[1;33m:\u001b[0m\u001b[1;33m\u001b[0m\u001b[1;33m\u001b[0m\u001b[0m\n\u001b[1;32m---> 10\u001b[1;33m     \u001b[1;32mreturn\u001b[0m \u001b[1;33m(\u001b[0m\u001b[1;32mlambda\u001b[0m \u001b[0mx\u001b[0m\u001b[1;33m,\u001b[0m\u001b[0my\u001b[0m\u001b[1;33m:\u001b[0m \u001b[0mx\u001b[0m \u001b[1;33m+\u001b[0m \u001b[0my\u001b[0m\u001b[1;33m)\u001b[0m\u001b[1;33m(\u001b[0m\u001b[1;33m)\u001b[0m\u001b[1;33m\u001b[0m\u001b[1;33m\u001b[0m\u001b[0m\n\u001b[0m\u001b[0;32m     11\u001b[0m \u001b[1;33m\u001b[0m\u001b[0m\n\u001b[0;32m     12\u001b[0m \u001b[1;33m\u001b[0m\u001b[0m\n",
      "\u001b[1;31mTypeError\u001b[0m: <lambda>() missing 2 required positional arguments: 'x' and 'y'"
     ]
    }
   ],
   "source": [
    "(lambda x, y: x + y)(4,5)\n",
    "# 括号相当于 包裹函数体。\n",
    "\n",
    "# 这种方式是否可以作为函数的返回值使用呢？\n",
    "# 我们来验证一下。\n",
    "\n",
    "\n",
    "\n",
    "def add(x, y):\n",
    "    return (lambda x,y: x + y)()\n",
    "\n",
    "\n",
    "add(3, 5)\n",
    "\n",
    "\n",
    "# 他们存在于两个不同的函数体中，所以这两个参数不是同一个参数。\n",
    "# 那么我如何把add函数的参数传递给 lambda表达式中呢？\n",
    "# 问题先记录下来把。\n",
    "\n",
    "\n",
    "\n",
    "\n",
    "\n",
    "\n"
   ]
  },
  {
   "cell_type": "code",
   "execution_count": 59,
   "id": "7c8d3c0e-5b03-4f42-bca6-2ff47d8b4c11",
   "metadata": {
    "tags": []
   },
   "outputs": [
    {
     "data": {
      "text/plain": [
       "7"
      ]
     },
     "execution_count": 59,
     "metadata": {},
     "output_type": "execute_result"
    }
   ],
   "source": [
    "##### (lambda:lambda:5)()\n",
    "# <function __main__.<lambda>.<locals>.<lambda>()> 调用一次返回的是函数的信息\n",
    "# 调用两次函数 才返回第二个表达式的结果。 5\n",
    "\n",
    "\n",
    "\n",
    "\n",
    "result = lambda x :lambda : pow(x, 3)\n",
    "# result()(5)\n",
    "# 这种问题目前也解决不了了。算了。\n",
    "\n",
    "\n",
    "result(2)\n",
    "\n",
    "result1 = result(2)\n",
    "\n",
    "\n",
    "# b = lambda x: lambda: x\n",
    "\n",
    "# c = b(88)\n",
    "# c()\n",
    "\n",
    "\n",
    "result1()\n",
    "\n",
    "\n",
    "\n",
    "# 你看看你你以为你掌握了，但其实呢，你连一个完整的例子都无法独立的举出来。不看教材，\n",
    "# 自己独立打出来真的非常重要，进一步尝试写出不一样的代码，更重要。\n",
    "# 在这个过程中遇到的问题，疑惑。如果暂时解决不了，先记录下来。千万不要放过。\n",
    "\n",
    "\n",
    "\n",
    "\n",
    "# 自己尝试举出例子。\n",
    "\n",
    "\n",
    "\n",
    "\n",
    "def cmp2():\n",
    "    return lambda x: lambda: x + 2\n",
    "\n",
    "\n",
    "# def add1(n):\n",
    "#     return n + 2\n",
    "\n",
    "# result = cmp2(abs, add1)\n",
    "\n",
    "\n",
    "result = cmp2\n",
    "\n",
    "result()(5)()\n",
    "\n",
    "\n",
    "# 这种方式有什么好处呢？\n",
    "# 不太清楚，先记录下来把。"
   ]
  },
  {
   "cell_type": "code",
   "execution_count": 75,
   "id": "35fa87e1-5150-4a64-9957-8307b79913b6",
   "metadata": {},
   "outputs": [
    {
     "data": {
      "text/plain": [
       "[1, 5, 6, 6, 4]"
      ]
     },
     "execution_count": 75,
     "metadata": {},
     "output_type": "execute_result"
    }
   ],
   "source": [
    "fc = lambda f:f(8,3)\n",
    "\n",
    "fc(pow)\n",
    "\n",
    "# 相当于提前给某个函数传递了参数。然后再调用它。\n",
    "\n",
    "\n",
    "# 如果里面不是固定的值呢？是否可以是函数呢？\n",
    "\n",
    "ls = [1,5,6,6,4]\n",
    "\n",
    "fc = lambda f:f(abs,ls)\n",
    "\n",
    "fc1 = list(fc(map))\n",
    "\n",
    "fc1\n",
    "# [1, 5, 6, 6, 4]\n",
    "\n",
    "\n",
    "\n",
    "# 结论lambda表达式的返回值中可以写函数。\n",
    "\n",
    "\n",
    "\n",
    "\n"
   ]
  },
  {
   "cell_type": "code",
   "execution_count": 77,
   "id": "1dda262c-3f3c-40fe-bd83-9d8291b808ab",
   "metadata": {},
   "outputs": [
    {
     "ename": "TypeError",
     "evalue": "<lambda>() takes 1 positional argument but 2 were given",
     "output_type": "error",
     "traceback": [
      "\u001b[1;31m---------------------------------------------------------------------------\u001b[0m",
      "\u001b[1;31mTypeError\u001b[0m                                 Traceback (most recent call last)",
      "\u001b[1;32m~\\AppData\\Local\\Temp\\ipykernel_18292\\4024971312.py\u001b[0m in \u001b[0;36m<module>\u001b[1;34m\u001b[0m\n\u001b[0;32m      1\u001b[0m \u001b[0mfc\u001b[0m \u001b[1;33m=\u001b[0m \u001b[1;32mlambda\u001b[0m \u001b[0mf\u001b[0m\u001b[1;33m:\u001b[0m\u001b[0mf\u001b[0m\u001b[1;33m(\u001b[0m\u001b[0mabs\u001b[0m\u001b[1;33m(\u001b[0m\u001b[1;36m5\u001b[0m\u001b[1;33m)\u001b[0m\u001b[1;33m)\u001b[0m\u001b[1;33m\u001b[0m\u001b[1;33m\u001b[0m\u001b[0m\n\u001b[0;32m      2\u001b[0m \u001b[1;33m\u001b[0m\u001b[0m\n\u001b[1;32m----> 3\u001b[1;33m \u001b[0mfc\u001b[0m\u001b[1;33m(\u001b[0m\u001b[0mpow\u001b[0m\u001b[1;33m,\u001b[0m\u001b[1;36m5\u001b[0m\u001b[1;33m)\u001b[0m\u001b[1;33m\u001b[0m\u001b[1;33m\u001b[0m\u001b[0m\n\u001b[0m\u001b[0;32m      4\u001b[0m \u001b[0mfc\u001b[0m\u001b[1;33m\u001b[0m\u001b[1;33m\u001b[0m\u001b[0m\n",
      "\u001b[1;31mTypeError\u001b[0m: <lambda>() takes 1 positional argument but 2 were given"
     ]
    }
   ],
   "source": [
    "# fc = lambda f:f(abs(5))\n",
    "\n",
    "# fc(pow)\n",
    "# fc\n",
    "\n",
    "\n",
    "\n",
    "# # 我泛化出了一条，定理.\n"
   ]
  },
  {
   "cell_type": "code",
   "execution_count": 79,
   "id": "8a1caa59-a57a-4834-ba34-6068f8ed5aa2",
   "metadata": {},
   "outputs": [
    {
     "data": {
      "text/plain": [
       "3"
      ]
     },
     "execution_count": 79,
     "metadata": {},
     "output_type": "execute_result"
    }
   ],
   "source": [
    "fc2 = lambda f :f(3.14)\n",
    "\n",
    "fc2(int)\n",
    "\n"
   ]
  },
  {
   "cell_type": "code",
   "execution_count": 10,
   "id": "fa5ba567-c3fe-473c-bf07-dce191053941",
   "metadata": {},
   "outputs": [
    {
     "data": {
      "text/plain": [
       "256"
      ]
     },
     "execution_count": 10,
     "metadata": {},
     "output_type": "execute_result"
    }
   ],
   "source": [
    "call_thrice = lambda f: lambda x: f(f(f(x)))\n",
    "\n",
    "\n",
    "\n",
    "call_thrice(lambda y: y **2)(2)\n",
    "\n",
    "# 一个函数调用多次。且值会持续相加。\n",
    "# 这个跟reduce非常相似。\n"
   ]
  },
  {
   "cell_type": "code",
   "execution_count": 13,
   "id": "4df10b02-d62e-4606-a5aa-a392400a619f",
   "metadata": {},
   "outputs": [
    {
     "name": "stdout",
     "output_type": "stream",
     "text": [
      "3\n",
      "1000\n"
     ]
    }
   ],
   "source": [
    "print_lambda = lambda z: print(z)\n",
    "print_lambda(3)\n",
    "one_thousand = print_lambda(1000)\n",
    "\n",
    "one_thousand"
   ]
  },
  {
   "cell_type": "code",
   "execution_count": 15,
   "id": "9446462c-3e93-455b-af3e-e1d29c27a49e",
   "metadata": {},
   "outputs": [
    {
     "data": {
      "text/plain": [
       "61"
      ]
     },
     "execution_count": 15,
     "metadata": {},
     "output_type": "execute_result"
    }
   ],
   "source": [
    "def even(f):\n",
    "    def odd(x):\n",
    "        if x < 0:\n",
    "            return f(-x)\n",
    "        return f(x)\n",
    "    return odd\n",
    "\n",
    "\n",
    "# 首先这是什么写法，函数的柯里化吗？\n",
    "# 首先需要知道，他们之间的嵌套关系。\n",
    "# 返回 odd 是even函数的作用，他的参数应该是一个函数。 \n",
    "\n",
    "\n",
    "\n",
    "steven = lambda x: x\n",
    "stewart = even(steven)\n",
    "stewart\n",
    "\n",
    "stewart(61)\n",
    "# stewart(-4)\n",
    "\n",
    "# 这样写，有什么用吗？"
   ]
  },
  {
   "cell_type": "code",
   "execution_count": 17,
   "id": "2121b73e-8f99-4c2f-82c2-72228acb479d",
   "metadata": {},
   "outputs": [
    {
     "name": "stdout",
     "output_type": "stream",
     "text": [
      "beets\n",
      "sweets\n"
     ]
    },
    {
     "data": {
      "text/plain": [
       "<function __main__.cake.<locals>.pie()>"
      ]
     },
     "execution_count": 17,
     "metadata": {},
     "output_type": "execute_result"
    }
   ],
   "source": [
    "def cake():\n",
    "   print('beets')\n",
    "   def pie():\n",
    "       print('sweets')\n",
    "       return 'cake'\n",
    "   return pie\n",
    "\n",
    "\n",
    "# cake()\n",
    "\n",
    "chocolate = cake()\n",
    "# \n",
    "\n",
    "\n",
    "\n",
    "# chocolate()\n",
    "\n",
    "more_chocolate, more_cake = chocolate(), cake\n",
    "# 1. 调用结果传递给more\n",
    "# 2. 函数的名字传递给more_cake\n",
    "\n",
    "\n",
    "# more_chocolate\n",
    "\n",
    "def snake(x, y):\n",
    "   if cake == more_cake:\n",
    "       return chocolate\n",
    "   else:\n",
    "       return x + y\n",
    "    \n",
    "# snake(10, 20)\n",
    "\n",
    "snake(10, 20)()\n",
    "# 后面的括号相当于这个函数又调用了一遍。\n",
    "\n",
    "cake = 'cake'\n",
    "snake(10, 20)"
   ]
  },
  {
   "cell_type": "code",
   "execution_count": 7,
   "id": "758d2703-498c-43ed-9595-14f08bfd1ce7",
   "metadata": {},
   "outputs": [
    {
     "ename": "TypeError",
     "evalue": "'tuple' object is not callable",
     "output_type": "error",
     "traceback": [
      "\u001b[1;31m---------------------------------------------------------------------------\u001b[0m",
      "\u001b[1;31mTypeError\u001b[0m                                 Traceback (most recent call last)",
      "\u001b[1;32m~\\AppData\\Local\\Temp\\ipykernel_14092\\4098324372.py\u001b[0m in \u001b[0;36m<module>\u001b[1;34m\u001b[0m\n\u001b[0;32m      4\u001b[0m \u001b[0mtest\u001b[0m \u001b[1;33m=\u001b[0m \u001b[0msnake\u001b[0m\u001b[1;33m(\u001b[0m\u001b[1;36m5\u001b[0m\u001b[1;33m,\u001b[0m\u001b[1;36m7\u001b[0m\u001b[1;33m)\u001b[0m\u001b[1;33m\u001b[0m\u001b[1;33m\u001b[0m\u001b[0m\n\u001b[0;32m      5\u001b[0m \u001b[1;33m\u001b[0m\u001b[0m\n\u001b[1;32m----> 6\u001b[1;33m \u001b[0mtest\u001b[0m\u001b[1;33m(\u001b[0m\u001b[1;33m)\u001b[0m\u001b[1;33m\u001b[0m\u001b[1;33m\u001b[0m\u001b[0m\n\u001b[0m",
      "\u001b[1;31mTypeError\u001b[0m: 'tuple' object is not callable"
     ]
    }
   ],
   "source": [
    "def snake(x, y):\n",
    "    return x, y\n",
    "\n",
    "test = snake(5,7)\n",
    "\n",
    "test()"
   ]
  },
  {
   "cell_type": "code",
   "execution_count": 12,
   "id": "b249a538-ba36-484d-81d6-a980e1a9e53d",
   "metadata": {},
   "outputs": [
    {
     "name": "stdout",
     "output_type": "stream",
     "text": [
      "sweets\n"
     ]
    },
    {
     "data": {
      "text/plain": [
       "30"
      ]
     },
     "execution_count": 12,
     "metadata": {},
     "output_type": "execute_result"
    }
   ],
   "source": [
    "def snake(x, y):\n",
    "   if cake == more_cake:\n",
    "       return chocolate\n",
    "   else:\n",
    "       return x + y\n",
    "    \n",
    "    \n",
    "    \n",
    "    \n",
    "\n",
    "snake(10, 20)\n",
    "# 是30，还是 返回函数呢？\n",
    "\n",
    "\n",
    "\n",
    "snake(10, 20)()\n",
    "cake = 'cake'\n",
    "snake(10, 20)"
   ]
  }
 ],
 "metadata": {
  "kernelspec": {
   "display_name": "Python 3 (ipykernel)",
   "language": "python",
   "name": "python3"
  },
  "language_info": {
   "codemirror_mode": {
    "name": "ipython",
    "version": 3
   },
   "file_extension": ".py",
   "mimetype": "text/x-python",
   "name": "python",
   "nbconvert_exporter": "python",
   "pygments_lexer": "ipython3",
   "version": "3.7.4"
  }
 },
 "nbformat": 4,
 "nbformat_minor": 5
}
