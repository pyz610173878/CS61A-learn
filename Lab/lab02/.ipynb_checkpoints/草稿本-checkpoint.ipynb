{
 "cells": [
  {
   "cell_type": "code",
   "execution_count": 2,
   "id": "cbf3592c-6f4a-4203-a040-0c6fb1449261",
   "metadata": {},
   "outputs": [
    {
     "name": "stdout",
     "output_type": "stream",
     "text": [
      "None\n"
     ]
    }
   ],
   "source": [
    "x = None\n",
    "print(x)"
   ]
  },
  {
   "cell_type": "code",
   "execution_count": null,
   "id": "67032bec-fc36-48b0-8cb1-c3e6562adf56",
   "metadata": {},
   "outputs": [],
   "source": [
    "(lambda: 3)()"
   ]
  },
  {
   "cell_type": "code",
   "execution_count": 23,
   "id": "c42c8286-b591-4ed8-846a-5142943db7d8",
   "metadata": {},
   "outputs": [],
   "source": [
    "def sum_naturals(n):\n",
    "        total, k = 0, 1\n",
    "        while k <= n:\n",
    "            total, k = total + k, k + 1\n",
    "        return total\n",
    "    \n",
    "    \n",
    "sum_naturals(9)\n",
    "\n",
    "\n",
    " \n",
    "    \n",
    "\n",
    "    \n",
    "# 立方\n",
    "\n",
    "    \n",
    "    \n",
    "\n",
    "\n",
    "def sum_pow(n):\n",
    "        total, k = 0, 1\n",
    "        while k <= n:\n",
    "            total, k = total + k * k * k, k + 1\n",
    "        return totalp\n",
    "    \n",
    "    \n",
    "def sum_pow(n):\n",
    "        total, k = 0, 1\n",
    "        while k <= n:\n",
    "            total, k = total + pow(k, 3), k + 1\n",
    "        return total\n",
    "    \n",
    "sum_naturals(5)\n",
    "\n",
    "\n",
    "\n",
    "# 在进一步抽象。\n",
    "\n",
    "\n",
    "def pow1(n):\n",
    "    return n * n * n\n",
    "\n",
    "\n",
    "def sum_pow(n, moshi):\n",
    "        total, k = 0, 1\n",
    "        while k <= n:\n",
    "            total, k = total + moshi(k), k + 1\n",
    "        return total\n",
    "    \n",
    "    \n",
    "# sum_pow(5, pow1)\n",
    "\n",
    "\n",
    "# 现在面临一个问题，函数无法相加.所以这里需要的是一个函数的返回值。而不是函数."
   ]
  },
  {
   "cell_type": "code",
   "execution_count": 36,
   "id": "2f5452af-cf60-42fe-bb7a-2df2690209a7",
   "metadata": {},
   "outputs": [
    {
     "data": {
      "text/plain": [
       "8"
      ]
     },
     "execution_count": 36,
     "metadata": {},
     "output_type": "execute_result"
    }
   ],
   "source": [
    "# 函数柯里化\n",
    "\n",
    "\n",
    "# 函数柯里化，就是把本身多参数的函数，调整为只有单个参数的函数。\n",
    "\n",
    "# 比如\n",
    "\n",
    "def curried_pow(x):\n",
    "    def h(y):\n",
    "        return pow(x, y)\n",
    "    return h\n",
    "\n",
    "\n",
    "curried_pow(2)(3)\n",
    "\n",
    "\n",
    "\n",
    "\n",
    "# "
   ]
  }
 ],
 "metadata": {
  "kernelspec": {
   "display_name": "Python 3 (ipykernel)",
   "language": "python",
   "name": "python3"
  },
  "language_info": {
   "codemirror_mode": {
    "name": "ipython",
    "version": 3
   },
   "file_extension": ".py",
   "mimetype": "text/x-python",
   "name": "python",
   "nbconvert_exporter": "python",
   "pygments_lexer": "ipython3",
   "version": "3.7.4"
  }
 },
 "nbformat": 4,
 "nbformat_minor": 5
}
