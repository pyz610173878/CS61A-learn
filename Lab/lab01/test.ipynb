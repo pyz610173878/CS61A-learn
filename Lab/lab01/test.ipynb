{
 "cells": [
  {
   "cell_type": "code",
   "execution_count": 1,
   "id": "e260590d-5226-45d0-b126-ac3cd3991af2",
   "metadata": {},
   "outputs": [
    {
     "ename": "SyntaxError",
     "evalue": "invalid syntax (2762354119.py, line 4)",
     "output_type": "error",
     "traceback": [
      "\u001b[1;36m  File \u001b[1;32m\"C:\\Users\\彭逸钊\\AppData\\Local\\Temp\\ipykernel_59656\\2762354119.py\"\u001b[1;36m, line \u001b[1;32m4\u001b[0m\n\u001b[1;33m    elif d = 4:\u001b[0m\n\u001b[1;37m           ^\u001b[0m\n\u001b[1;31mSyntaxError\u001b[0m\u001b[1;31m:\u001b[0m invalid syntax\n"
     ]
    }
   ],
   "source": [
    " def xk(c, d):\n",
    "     if c == 4:\n",
    "         return 6\n",
    "     elif d = 4:\n",
    "         return 6 + 7 + c\n",
    "     else:\n",
    "         return 25\n",
    "        \n",
    " xk(10, 10)\n",
    "\n",
    "\n",
    " xk(10, 6)\n",
    "\n",
    "\n",
    " xk(4, 6)\n",
    "\n",
    "\n",
    " xk(0, 0)\n",
    "\n",
    "\n",
    "\n",
    "\n",
    " def how_big(x):\n",
    "     if x  10:\n",
    "         print('huge')\n",
    "     elif x  5:\n",
    "         return 'big'\n",
    "     elif x  0:\n",
    "         print('small')\n",
    "     else:\n",
    "         print(\"nothin\")\n",
    " how_big(7)\n",
    "\n",
    "\n",
    " how_big(12)\n",
    "\n",
    "\n",
    " how_big(1)\n",
    "\n",
    "\n",
    " how_big(-1)\n",
    "\n",
    " n = 3\n",
    " while n = 0:\n",
    "     n -= 1\n",
    "     print(n)\n",
    "\n",
    " positive = 28\n",
    " while positive:\n",
    "    print(\"positive?\")\n",
    "    positive -= 3\n",
    "\n",
    " positive = -9\n",
    " negative = -12\n",
    " while negative:\n",
    "    if positive:\n",
    "        print(negative)\n",
    "    positive += 3\n",
    "    negative += 3"
   ]
  },
  {
   "cell_type": "code",
   "execution_count": 27,
   "id": "edfce5ff-6e2a-49f1-8f86-bcdd4993e6b7",
   "metadata": {},
   "outputs": [
    {
     "name": "stdout",
     "output_type": "stream",
     "text": [
      "Help on built-in function mul in module _operator:\n",
      "\n",
      "mul(a, b, /)\n",
      "    Same as a * b.\n",
      "\n"
     ]
    }
   ],
   "source": [
    "\n",
    "\n",
    "help(mul)"
   ]
  },
  {
   "cell_type": "code",
   "execution_count": 38,
   "id": "25a6958a-d771-4bdd-a030-ba28bbc19f8c",
   "metadata": {},
   "outputs": [
    {
     "data": {
      "text/plain": [
       "6"
      ]
     },
     "execution_count": 38,
     "metadata": {},
     "output_type": "execute_result"
    }
   ],
   "source": [
    "import math\n",
    "from operator import mul\n",
    "from functools import reduce\n",
    "    \n",
    "# 如何做到第二个数字，逐步递减了呢？\n",
    "# range函数可以做到。\n",
    "\n",
    "\n",
    "\n",
    "# 取决于 参数2.\n",
    "\n",
    "# 与之相关的题目，简化过的题目。\n",
    "# 没有参数2，给定一个自然数，返回从自身到 1的阶层。\n",
    "\n",
    "\n",
    "\n",
    "\n",
    "    \n",
    "# 先不想这个了。\n",
    "    \n",
    "# 下一步，如何让他相乘呢？\n",
    "# 拆解一下，写一个辅助，让他可以相乘一次。\n",
    "\n",
    "    \n",
    "def cf(a, b):    \n",
    "    return a * b\n",
    "\n",
    "def falling(n, k):\n",
    "    \"\"\"Compute the falling factorial of n to depth k.\n",
    "\n",
    "    >>> falling(6, 3)  # 6 * 5 * 4\n",
    "    120\n",
    "    >>> falling(4, 3)  # 4 * 3 * 2\n",
    "    24\n",
    "    >>> falling(4, 1)  # 4\n",
    "    4\n",
    "    >>> falling(4, 0)\n",
    "    1\n",
    "    \"\"\"\n",
    "    \"*** YOUR CODE HERE ***\"\n",
    "    return \n",
    "\n",
    "\n",
    "\n",
    "def falling_easy(n):\n",
    "    return reduce(cf, list(range(1, n + 1)))\n",
    "\n",
    "# 这个问题解决不了，就先解决，简化版本，与之相关的题目是吧。\n",
    "# 这就是与之相关的题目，\n",
    "\n",
    "\n",
    "\n",
    "\n",
    "\n",
    "\n",
    "# 简化，一下。给定一个参数，然后\n",
    "\n",
    "# 这样的程序不灵活。\n",
    "# 这里是不能写死的。我要根据参数来控制。\n",
    "# 所以要写一个更加通用的公式，来进行表达.\n",
    "# 如果自己写不出来，就思考是否有已经写好的模块，可供使用。这一步我没有想到了。所以这是我下次需要改进的地方。\n",
    "# 当你想到了思路时,但你不知道如何用代码把他描述出来,利用互联网的力量看看,是否其他人有思路.\n",
    "\n",
    "\n",
    "\n",
    "# 他的答案，使用了两个辅助函数。也就是把这个程序拆分成了至少两个模块。\n",
    "# 我当时没有想出来。\n",
    "\n",
    "falling(6)\n",
    "falling(5)\n",
    "falling(4)\n",
    "falling(3)"
   ]
  },
  {
   "cell_type": "code",
   "execution_count": 16,
   "id": "4ee89a58-90c8-4dee-a930-157fd1e695c7",
   "metadata": {},
   "outputs": [
    {
     "data": {
      "text/plain": [
       "[1, 2, 3, 4]"
      ]
     },
     "execution_count": 16,
     "metadata": {},
     "output_type": "execute_result"
    }
   ],
   "source": []
  },
  {
   "cell_type": "code",
   "execution_count": 39,
   "id": "109aaa54-dff0-4dbe-b576-54d94741ea30",
   "metadata": {},
   "outputs": [
    {
     "data": {
      "text/plain": [
       "4"
      ]
     },
     "execution_count": 39,
     "metadata": {},
     "output_type": "execute_result"
    }
   ],
   "source": [
    "import math\n",
    "from operator import mul\n",
    "from functools import reduce\n",
    "def falling(n, k):\n",
    "    \"\"\"Compute the falling factorial of n to depth k.\n",
    "    >>> falling(6, 3)  # 6 * 5 * 4\n",
    "    120\n",
    "    >>> falling(4, 3)  # 4 * 3 * 2\n",
    "    24\n",
    "    >>> falling(4, 1)  # 4\n",
    "    4\n",
    "    >>> falling(4, 0)\n",
    "    1\n",
    "    \"\"\"\n",
    "    \"*** YOUR CODE HERE ***\"\n",
    "    if k == 0:\n",
    "        return 1\n",
    "    return reduce(mul, range(n, n-k, -1))\n",
    "\n",
    "\n",
    "# 三个函数\n",
    "# 1. mul函数\n",
    "# 2. range函数\n",
    "# 3. reduce函数\n",
    "\n",
    "falling(4, 1)"
   ]
  },
  {
   "cell_type": "code",
   "execution_count": null,
   "id": "61477945-0d1a-4409-b50c-a6ea63792dfd",
   "metadata": {},
   "outputs": [],
   "source": []
  },
  {
   "cell_type": "code",
   "execution_count": 10,
   "id": "b9348959-cee6-4f86-874b-27440d0d9e7a",
   "metadata": {},
   "outputs": [
    {
     "data": {
      "text/plain": [
       "10"
      ]
     },
     "execution_count": 10,
     "metadata": {},
     "output_type": "execute_result"
    }
   ],
   "source": [
    "reduce(lambda x, y: x+y, [1, 2, 3, 4, 5])\n",
    "reduce(lambda x, y: x+y, range(1, 5))\n",
    "\n",
    "\n",
    "\n",
    "\n",
    "# 一个是函数,一个是参数列表."
   ]
  },
  {
   "cell_type": "code",
   "execution_count": 6,
   "id": "12c3ec0f-0c33-4310-bd37-8d0de1db86a7",
   "metadata": {},
   "outputs": [
    {
     "data": {
      "text/plain": [
       "False"
      ]
     },
     "execution_count": 6,
     "metadata": {},
     "output_type": "execute_result"
    }
   ],
   "source": [
    "import re\n",
    "\n",
    "def double_eights(n):\n",
    "    \"\"\"Return true if n has two eights in a row.\n",
    "    >>> double_eights(8)\n",
    "    False\n",
    "    >>> double_eights(88)\n",
    "    True\n",
    "    >>> double_eights(2882)\n",
    "    True\n",
    "    >>> double_eights(880088)\n",
    "    True\n",
    "    >>> double_eights(12345)\n",
    "    False\n",
    "    >>> double_eights(80808080)\n",
    "    False\n",
    "    \"\"\"\n",
    "    \"*** YOUR CODE HERE ***\"\n",
    "    if re.findall(r'88', str(n)):\n",
    "        return True\n",
    "    return False\n",
    "\n",
    "    \n",
    "# 如果两个八相邻，则返回True。如果没有相邻则返回False。\n",
    "\n",
    "\n",
    "# 这个判断条件怎么写呢？\n",
    "\n",
    "# 是否有类似的函数可以帮忙我做到这件事情。\n",
    "# 我感觉可以用正则表达式写。\n",
    "\n",
    "# 那么这个规则应该怎么写呢？\n",
    "# \n",
    "\n",
    "\n",
    "double_eights(8)\n",
    "double_eights(2882)\n",
    "double_eights(808)\n",
    "\n",
    "\n"
   ]
  },
  {
   "cell_type": "code",
   "execution_count": 15,
   "id": "cbb7712c-2055-4335-ba36-491b44326ee6",
   "metadata": {},
   "outputs": [
    {
     "data": {
      "text/plain": [
       "10"
      ]
     },
     "execution_count": 15,
     "metadata": {},
     "output_type": "execute_result"
    }
   ],
   "source": [
    "def sum_digits(y):\n",
    "    \"\"\"Sum all the digits of y.\n",
    "\n",
    "    >>> sum_digits(10) # 1 + 0 = 1\n",
    "    1\n",
    "    >>> sum_digits(4224) # 4 + 2 + 2 + 4 = 12\n",
    "    12\n",
    "    >>> sum_digits(1234567890)\n",
    "    45\n",
    "    >>> a = sum_digits(123) # make sure that you are using return rather than print\n",
    "    >>> a\n",
    "    6\n",
    "    \"\"\"\n",
    "    \"*** YOUR CODE HERE ***\"\n",
    "    ans = 1\n",
    "    while y:\n",
    "        ans *= y % 10\n",
    "        y //= 10\n",
    "    return ans\n",
    "\n",
    "\n",
    "sum_digits(10)\n",
    "sum_digits(25)\n",
    "\n",
    "\n",
    "\n"
   ]
  },
  {
   "cell_type": "code",
   "execution_count": 28,
   "id": "6ab432b8-5d66-4b56-bf2c-d2f60999c0ac",
   "metadata": {},
   "outputs": [
    {
     "data": {
      "text/plain": [
       "2"
      ]
     },
     "execution_count": 28,
     "metadata": {},
     "output_type": "execute_result"
    }
   ],
   "source": [
    "2882 % 10\n",
    "# //就是取整。只取整数\n",
    "# 1234567890 % 10\n"
   ]
  },
  {
   "cell_type": "code",
   "execution_count": 9,
   "id": "df5cc71b-fca2-4baf-92eb-ab6ff35f08c3",
   "metadata": {},
   "outputs": [
    {
     "name": "stdout",
     "output_type": "stream",
     "text": [
      "[5, 6, 9]\n",
      "20\n"
     ]
    }
   ],
   "source": [
    "def getSum(n):\n",
    "     \n",
    "    strr = str(n)\n",
    "    list_of_number = list(map(int, strr.strip()))\n",
    "    print(list_of_number)\n",
    "    return sum(list_of_number)\n",
    "   \n",
    "n = 569\n",
    "print(getSum(n))\n",
    "\n",
    "\n",
    "\n",
    "# 转换成字符串。因为strip函数的参数必须是字符串\n",
    "# 2. 使用strip函数将其字符串拆分成一个个字符，并使用int转换成数字值，并应map函数\n",
    "# 来进行实现.\n",
    "# 因为map可以使一个函数多次执行,这正好适合.\n",
    "# 3. 一串数字被转换成了单个数字值的列表形式.符合 sum函数的参数规则.\n",
    "\n",
    "\n",
    "\n",
    "# 这个问题如果反过来想。\n",
    "# 假设我只知道 sum函数,但sum函数的参数规则只能是列表形式。\n",
    "# 所以正确的思路肯定会想，怎么把数字转换成列表。\n",
    "# 这里的思路是，把数字先转换成字符串，然后再转换成数字值列表。\n",
    "# 为什么要先转换成字符串，是因为数字值中没有strip这个函数。没有办法把一串数字值，\n",
    "# 转换成 单个数字值。而字符串是可以做到的。"
   ]
  },
  {
   "cell_type": "code",
   "execution_count": null,
   "id": "4b9ca551-27b5-43ee-bc3f-61fd82562d50",
   "metadata": {},
   "outputs": [],
   "source": []
  },
  {
   "cell_type": "code",
   "execution_count": 8,
   "id": "63a09463-6dad-4f4e-8472-3436c1c008ba",
   "metadata": {},
   "outputs": [
    {
     "data": {
      "text/plain": [
       "'569'"
      ]
     },
     "execution_count": 8,
     "metadata": {},
     "output_type": "execute_result"
    }
   ],
   "source": [
    "n = \"569\"\n",
    "n.strip()"
   ]
  }
 ],
 "metadata": {
  "kernelspec": {
   "display_name": "Python 3 (ipykernel)",
   "language": "python",
   "name": "python3"
  },
  "language_info": {
   "codemirror_mode": {
    "name": "ipython",
    "version": 3
   },
   "file_extension": ".py",
   "mimetype": "text/x-python",
   "name": "python",
   "nbconvert_exporter": "python",
   "pygments_lexer": "ipython3",
   "version": "3.12.1"
  },
  "nteract": {
   "version": "0.28.0"
  }
 },
 "nbformat": 4,
 "nbformat_minor": 5
}
