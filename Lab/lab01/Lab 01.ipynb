{
 "cells": [
  {
   "cell_type": "markdown",
   "id": "6450b915-0bec-4e11-aed9-9a716632d35a",
   "metadata": {},
   "source": [
    "# 1. 代码输出？\n",
    "\n",
    "第一题的主要内容为，编写了相关的函数，我们说输出结果。这里相当于就是把自己的大脑当成一个编译器，在脑子里把程序的输出结果描述出来。\n",
    "我当然是要写答案，我自己是在学啊。又不是做产品。只是我想尽量做的可以复用，也对别人有用。"
   ]
  },
  {
   "cell_type": "code",
   "execution_count": 3,
   "id": "f1ca38fe-2bda-4928-a4e3-cfb11f4f2305",
   "metadata": {
    "editable": true,
    "slideshow": {
     "slide_type": ""
    },
    "tags": []
   },
   "outputs": [
    {
     "data": {
      "text/plain": [
       "25"
      ]
     },
     "execution_count": 3,
     "metadata": {},
     "output_type": "execute_result"
    }
   ],
   "source": [
    ">>> def xk(c, d):\n",
    "...     if c == 4:\n",
    "...         return 6\n",
    "...     elif d >= 4:\n",
    "...         return 6 + 7 + c\n",
    "...     else:\n",
    "...         return 25\n",
    "\n",
    ">>> xk(10, 10)\n",
    " # 23\n",
    "\n",
    ">>> xk(10, 6)\n",
    " # 23\n",
    "\n",
    ">>> xk(4, 6)\n",
    " # 4\n",
    "\n",
    ">>> xk(0, 0)\n",
    "# 25\n",
    "\n"
   ]
  },
  {
   "cell_type": "markdown",
   "id": "d4a12aaa-c32c-48b9-8fb6-6787594ac8fc",
   "metadata": {},
   "source": []
  },
  {
   "cell_type": "code",
   "execution_count": 1,
   "id": "03cb1e70-3927-4cdf-b614-056d7e85aa76",
   "metadata": {},
   "outputs": [
    {
     "name": "stdout",
     "output_type": "stream",
     "text": [
      "huge\n",
      "small\n",
      "nothin\n"
     ]
    }
   ],
   "source": [
    ">>> def how_big(x):\n",
    "...     if x > 10:\n",
    "...         print('huge')\n",
    "...     elif x > 5:\n",
    "...         return 'big'\n",
    "...     elif x > 0:\n",
    "...         print('small')\n",
    "...     else:\n",
    "...         print(\"nothin\")\n",
    ">>> how_big(7)\n",
    "# big\n",
    "\n",
    ">>> how_big(12)\n",
    "# huge\n",
    "\n",
    ">>> how_big(1)\n",
    "# small\n",
    "\n",
    ">>> how_big(-1)\n",
    "# nothin\n",
    "\n"
   ]
  },
  {
   "cell_type": "markdown",
   "id": "f6915979-cafa-43ba-82ce-f5c9b4ad1ff3",
   "metadata": {},
   "source": [
    "这里考察的不就是，if 和 else 语句的使用吗？这有什么难的？"
   ]
  },
  {
   "cell_type": "code",
   "execution_count": 2,
   "id": "cc5ef519-7bb8-492a-8ec5-1a5d87336dce",
   "metadata": {},
   "outputs": [
    {
     "name": "stdout",
     "output_type": "stream",
     "text": [
      "2\n",
      "1\n",
      "0\n",
      "-1\n"
     ]
    }
   ],
   "source": [
    ">>> n = 3\n",
    ">>> while n >= 0:\n",
    "...     n -= 1\n",
    "...     print(n)\n",
    "# 2 1 0 -1"
   ]
  },
  {
   "cell_type": "code",
   "execution_count": null,
   "id": "07c97025-68da-4fb5-9b4b-e1ef1ca1cd79",
   "metadata": {},
   "outputs": [],
   "source": [
    ">>> positive = 28\n",
    ">>> while positive != -2:\n",
    "...    print(\"positive?\")\n",
    "...    positive -= 3\n",
    "# ______ 无限循环"
   ]
  },
  {
   "cell_type": "code",
   "execution_count": 3,
   "id": "0ec4bdc3-0416-478e-9dd0-e22e438ca1fc",
   "metadata": {},
   "outputs": [
    {
     "name": "stdout",
     "output_type": "stream",
     "text": [
      "-12\n",
      "-9\n",
      "-6\n"
     ]
    }
   ],
   "source": [
    ">>> positive = -9\n",
    ">>> negative = -12\n",
    ">>> while negative:\n",
    "...    if positive:\n",
    "...        print(negative)\n",
    "...    positive += 3\n",
    "...    negative += 3\n",
    "# ______ 他这个不也是无限循环吗？有啥子区别？搞不懂"
   ]
  },
  {
   "cell_type": "markdown",
   "id": "e2a31397-7ece-4bad-bfe8-a2b7b42eb24d",
   "metadata": {},
   "source": []
  },
  {
   "cell_type": "code",
   "execution_count": 4,
   "id": "a4ea2b68-7f10-48d3-a97c-447a5b292b02",
   "metadata": {},
   "outputs": [
    {
     "data": {
      "text/plain": [
       "False"
      ]
     },
     "execution_count": 4,
     "metadata": {},
     "output_type": "execute_result"
    }
   ],
   "source": [
    "bool(0) \n",
    "# 负数的布尔值也是True。所以这个函数会无限循环。"
   ]
  },
  {
   "cell_type": "code",
   "execution_count": 10,
   "id": "e68ea6bf-8aed-446b-9621-fa71f5c8c980",
   "metadata": {},
   "outputs": [
    {
     "data": {
      "text/plain": [
       "False"
      ]
     },
     "execution_count": 10,
     "metadata": {},
     "output_type": "execute_result"
    }
   ],
   "source": [
    "True and False"
   ]
  },
  {
   "cell_type": "markdown",
   "id": "4a6d7a98-799a-47a2-8f64-a1553527083e",
   "metadata": {},
   "source": [
    "# 2. 输出结果"
   ]
  },
  {
   "cell_type": "markdown",
   "id": "7cbae27f-5e68-4ac4-9560-51977793f3a7",
   "metadata": {},
   "source": [
    "这道题考察的是，各种布尔类型的运算情况: `and` `or` `not` 。\n",
    "\n",
    "and总结归纳：\n",
    "1. 如果两个变量的值都为真，则返回第二个变量的值。\n",
    "2. 如果两个变量值有一个为假，返回false。\n",
    "\n",
    "`or`总结归纳：\n",
    "or只要有一个为真，那么表达式的值就为真，如果都为false，就返回第二变量的值。4. "
   ]
  },
  {
   "cell_type": "code",
   "execution_count": 17,
   "id": "19028b8f-62b9-47e7-bbf0-dd7ca83d5219",
   "metadata": {},
   "outputs": [
    {
     "data": {
      "text/plain": [
       "1"
      ]
     },
     "execution_count": 17,
     "metadata": {},
     "output_type": "execute_result"
    }
   ],
   "source": [
    ">>> True and 13\n",
    "# ______ True\n",
    "\n",
    ">>> not 10\n",
    "# ______ Flase\n",
    "\n",
    ">>> not None\n",
    "# ______ True\n",
    "\n",
    ">>> False or 0\n",
    "# ______ 0\n",
    "\n",
    ">>> 1 or 0\n",
    "#  1\n",
    "\n",
    ">>> False or 1\n",
    "#  1"
   ]
  },
  {
   "cell_type": "code",
   "execution_count": null,
   "id": "1187c34a-5b45-4a6c-af7b-35857355988c",
   "metadata": {},
   "outputs": [],
   "source": [
    ">>> True or 1 / 0 or False\n",
    "# ______ True\n",
    "\n",
    ">>> True and 0\n",
    "# ______ 0\n",
    "\n",
    ">>> False or 1\n",
    "# ______ 1\n",
    "\n",
    ">>> 1 and 3 and 6 and 10 and 15\n",
    "# ______ \n",
    "# 3 and 6 and 10 and 15\n",
    "# 6 and 10 and 15\n",
    "# 10 and 15\n",
    "# 15\n",
    "\n",
    ">>> -1 and 1 > 0\n",
    "# ______"
   ]
  },
  {
   "cell_type": "markdown",
   "id": "781d6b4f-6f78-4fe7-ac55-ac9f39120b2f",
   "metadata": {},
   "source": [
    "`and`运算符有 4 种比较结果。开始举例子。\n",
    "\n",
    "可能出现的情况。不管有多少个and进行比较，始终都是 **1 对 1** 。"
   ]
  },
  {
   "cell_type": "code",
   "execution_count": 18,
   "id": "77bff66c-6505-4825-a1c6-1c80115e6f52",
   "metadata": {},
   "outputs": [
    {
     "ename": "ZeroDivisionError",
     "evalue": "division by zero",
     "output_type": "error",
     "traceback": [
      "\u001b[1;31m---------------------------------------------------------------------------\u001b[0m",
      "\u001b[1;31mZeroDivisionError\u001b[0m                         Traceback (most recent call last)",
      "Cell \u001b[1;32mIn[18], line 1\u001b[0m\n\u001b[1;32m----> 1\u001b[0m \u001b[38;5;28;01mTrue\u001b[39;00m \u001b[38;5;129;01mand\u001b[39;00m \u001b[38;5;241;43m1\u001b[39;49m\u001b[43m \u001b[49m\u001b[38;5;241;43m/\u001b[39;49m\u001b[43m \u001b[49m\u001b[38;5;241;43m0\u001b[39;49m \u001b[38;5;129;01mand\u001b[39;00m \u001b[38;5;28;01mFalse\u001b[39;00m\n\u001b[0;32m      2\u001b[0m \u001b[38;5;66;03m# ______ True\u001b[39;00m\n\u001b[0;32m      4\u001b[0m \u001b[38;5;241m0\u001b[39m \u001b[38;5;129;01mor\u001b[39;00m \u001b[38;5;28;01mFalse\u001b[39;00m \u001b[38;5;129;01mor\u001b[39;00m \u001b[38;5;241m2\u001b[39m \u001b[38;5;129;01mor\u001b[39;00m \u001b[38;5;241m1\u001b[39m \u001b[38;5;241m/\u001b[39m \u001b[38;5;241m0\u001b[39m\n",
      "\u001b[1;31mZeroDivisionError\u001b[0m: division by zero"
     ]
    }
   ],
   "source": [
    ">>> True and 1 / 0 and False\n",
    "# ______ True\n",
    "\n",
    ">>> 0 or False or 2 or 1 / 0\n",
    "# ______ 2\n",
    "\n",
    ">>> not 0\n",
    "# ______ True\n",
    "\n",
    ">>> (1 + 1) and 1\n",
    "# ______ 2\n",
    "\n",
    ">>> 1/0 or True\n",
    "# ______ True\n",
    "\n",
    ">>> (True or False) and False\n",
    "# False\n",
    "\n",
    ">>> -1 and 1 > 0\n",
    "______\n",
    "\n",
    ">>> 0 or False or 2 or 1 / 0\n",
    "______"
   ]
  },
  {
   "cell_type": "code",
   "execution_count": null,
   "id": "c6ce9858-5025-4434-842f-a0dbc8f0e228",
   "metadata": {},
   "outputs": [],
   "source": [
    ">>> not 0\n",
    "# ______ True\n",
    "\n",
    ">>> (1 + 1) and 1\n",
    "# ______ 1\n",
    "\n",
    ">>> 1/0 or True\n",
    "# ______ True\n",
    "\n",
    ">>> (True or False) and False\n",
    "# ______ False"
   ]
  },
  {
   "cell_type": "markdown",
   "id": "872c2d65-97c5-4ca6-9487-36e4d7c99aef",
   "metadata": {},
   "source": [
    "# 4. 阶乘"
   ]
  },
  {
   "cell_type": "code",
   "execution_count": 1,
   "id": "90a8cf72-5d7e-4abd-9aa4-d4087318d27b",
   "metadata": {},
   "outputs": [],
   "source": [
    "def falling(n, k):\n",
    "    \"\"\"Compute the falling factorial of n to depth k.\n",
    "\n",
    "    >>> falling(6, 3)  # 6 * 5 * 4\n",
    "    120\n",
    "    >>> falling(4, 3)  # 4 * 3 * 2\n",
    "    24\n",
    "    >>> falling(4, 1)  # 4\n",
    "    4\n",
    "    >>> falling(4, 0)\n",
    "    1\n",
    "    \"\"\"\n",
    "    \"*** YOUR CODE HERE ***\""
   ]
  },
  {
   "cell_type": "markdown",
   "id": "c4d0464b-073a-489a-866d-0edb75f6fdb8",
   "metadata": {},
   "source": [
    "# 5. Sum Digits"
   ]
  },
  {
   "cell_type": "code",
   "execution_count": null,
   "id": "a46000f4-dead-4130-9e62-cb7f83abc1fe",
   "metadata": {},
   "outputs": [],
   "source": [
    "def sum_digits(y):\n",
    "    \"\"\"Sum all the digits of y.\n",
    "\n",
    "    >>> sum_digits(10) # 1 + 0 = 1\n",
    "    1\n",
    "    >>> sum_digits(4224) # 4 + 2 + 2 + 4 = 12\n",
    "    12\n",
    "    >>> sum_digits(1234567890)\n",
    "    45\n",
    "    >>> a = sum_digits(123) # make sure that you are using return rather than print\n",
    "    >>> a\n",
    "    6\n",
    "    \"\"\"\n",
    "    \"*** YOUR CODE HERE ***\"\n"
   ]
  },
  {
   "cell_type": "markdown",
   "id": "d7637e43-58eb-48b0-8f83-b801e19f2cf5",
   "metadata": {},
   "source": [
    "# 6. 代码输出"
   ]
  },
  {
   "cell_type": "code",
   "execution_count": 2,
   "id": "57584b30-c88a-4f8c-923f-d6614315d330",
   "metadata": {},
   "outputs": [
    {
     "name": "stdout",
     "output_type": "stream",
     "text": [
      "10\n",
      "foo\n"
     ]
    }
   ],
   "source": [
    ">>> def ab(c, d):\n",
    "...     if c > 5:\n",
    "...         print(c)\n",
    "...     elif c > 7:\n",
    "...         print(d)\n",
    "...     print('foo')\n",
    ">>> ab(10, 20)\n"
   ]
  },
  {
   "cell_type": "markdown",
   "id": "7627d50c-44df-42ea-837b-2e1c1b5b1067",
   "metadata": {},
   "source": [
    "这个答案跟我想得不太一样，我以为是输出20和foo。一种可能性就是，程序运行到第一行时，表达式为真所以先输出10，然后跳过了elif语句，直接输出foo。\n"
   ]
  },
  {
   "cell_type": "code",
   "execution_count": 8,
   "id": "f8e9c8c7-a414-40b4-b4d6-6801461c480c",
   "metadata": {},
   "outputs": [
    {
     "name": "stdout",
     "output_type": "stream",
     "text": [
      "1\n",
      "29\n",
      "是否执行\n",
      "mashed potatoes\n"
     ]
    },
    {
     "data": {
      "text/plain": [
       "'mashed potatoes'"
      ]
     },
     "execution_count": 8,
     "metadata": {},
     "output_type": "execute_result"
    }
   ],
   "source": [
    ">>> def bake(cake, make):\n",
    "...     if cake == 0:\n",
    "...         cake = cake + 1\n",
    "...         print(cake)\n",
    "...     elif cake == 1:\n",
    "            print(\"是否执行\")\n",
    "...     if cake == 1:\n",
    "...         print(make)\n",
    "...     else:\n",
    "...         return cake\n",
    "...     return make\n",
    ">>> bake(0, 29)\n",
    ">>> bake(1, \"mashed potatoes\")"
   ]
  },
  {
   "cell_type": "code",
   "execution_count": null,
   "id": "d6379e7d-d6a3-44b1-a4b2-28cbe40255f5",
   "metadata": {},
   "outputs": [],
   "source": [
    "这里考察的是，当第一if语句执行完毕后，是直接跳过所有if语句，还是继续执行。\n"
   ]
  },
  {
   "cell_type": "markdown",
   "id": "a7aeaf67-d2cd-442c-be7a-9a0c784c9420",
   "metadata": {},
   "source": [
    "# 7. Double_"
   ]
  },
  {
   "cell_type": "code",
   "execution_count": 9,
   "id": "15f17b74-ada5-4a88-a93d-8fc3347e4098",
   "metadata": {},
   "outputs": [
    {
     "name": "stdout",
     "output_type": "stream",
     "text": [
      "False\n",
      "True\n",
      "True\n",
      "True\n",
      "False\n",
      "False\n"
     ]
    }
   ],
   "source": [
    "def double_eights(n):\n",
    "    \"\"\"Return true if n has two eights in a row.\n",
    "    >>> double_eights(8)\n",
    "    False\n",
    "    >>> double_eights(88)\n",
    "    True\n",
    "    >>> double_eights(2882)\n",
    "    True\n",
    "    >>> double_eights(880088)\n",
    "    True\n",
    "    >>> double_eights(12345)\n",
    "    False\n",
    "    >>> double_eights(80808080)\n",
    "    False\n",
    "    \"*** YOUR CODE HERE ***\" \"\"\"\n",
    "    sum = str(n)\n",
    "    for i in range(len(sum) - 1):\n",
    "        if sum[i] == '8' and sum[i + 1] == '8':\n",
    "            return True\n",
    "    return False\n",
    "\n",
    "# 测试函数\n",
    "print(double_eights(8))  # 应该返回 False\n",
    "print(double_eights(88))  # 应该返回 True\n",
    "print(double_eights(2882))  # 应该返回 True\n",
    "print(double_eights(880088))  # 应该返回 True\n",
    "print(double_eights(12345))  # 应该返回 False\n",
    "print(double_eights(80808080))  # 应该返回 False        "
   ]
  },
  {
   "cell_type": "markdown",
   "id": "5cbd3c5c-d731-4a50-a729-2a95025a6b30",
   "metadata": {},
   "source": [
    "这个题目又跟数学有关，这个没办法数学"
   ]
  }
 ],
 "metadata": {
  "kernelspec": {
   "display_name": "Python 3 (ipykernel)",
   "language": "python",
   "name": "python3"
  },
  "language_info": {
   "codemirror_mode": {
    "name": "ipython",
    "version": 3
   },
   "file_extension": ".py",
   "mimetype": "text/x-python",
   "name": "python",
   "nbconvert_exporter": "python",
   "pygments_lexer": "ipython3",
   "version": "3.12.1"
  }
 },
 "nbformat": 4,
 "nbformat_minor": 5
}
