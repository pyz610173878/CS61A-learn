{
 "cells": [
  {
   "cell_type": "markdown",
   "id": "6450b915-0bec-4e11-aed9-9a716632d35a",
   "metadata": {},
   "source": [
    "# 1. 输出结果是什么？\n",
    "\n",
    "第一题的主要内容为，编写了相关的函数，我们说输出结果。这里相当于就是把自己的大脑当成一个编译器，在脑子里把程序的输出结果描述出来。\n",
    "\n"
   ]
  },
  {
   "cell_type": "code",
   "execution_count": null,
   "id": "f1ca38fe-2bda-4928-a4e3-cfb11f4f2305",
   "metadata": {
    "editable": true,
    "slideshow": {
     "slide_type": ""
    },
    "tags": []
   },
   "outputs": [],
   "source": []
  }
 ],
 "metadata": {
  "kernelspec": {
   "display_name": "Python 3 (ipykernel)",
   "language": "python",
   "name": "python3"
  },
  "language_info": {
   "codemirror_mode": {
    "name": "ipython",
    "version": 3
   },
   "file_extension": ".py",
   "mimetype": "text/x-python",
   "name": "python",
   "nbconvert_exporter": "python",
   "pygments_lexer": "ipython3",
   "version": "3.12.1"
  }
 },
 "nbformat": 4,
 "nbformat_minor": 5
}
