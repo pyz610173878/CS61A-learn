{
 "cells": [
  {
   "cell_type": "markdown",
   "id": "6450b915-0bec-4e11-aed9-9a716632d35a",
   "metadata": {},
   "source": [
    "# 1. 代码输出？\n",
    "\n",
    "第一题的主要内容为，编写了相关的函数，我们说输出结果。这里相当于就是把自己的大脑当成一个编译器，在脑子里把程序的输出结果描述出来。\n",
    "我当然是要写答案，我自己是在学啊。又不是做产品。只是我想尽量做的可以复用，也对别人有用。"
   ]
  },
  {
   "cell_type": "code",
   "execution_count": 6,
   "id": "f1ca38fe-2bda-4928-a4e3-cfb11f4f2305",
   "metadata": {
    "editable": true,
    "slideshow": {
     "slide_type": ""
    },
    "tags": []
   },
   "outputs": [
    {
     "data": {
      "text/plain": [
       "25"
      ]
     },
     "execution_count": 6,
     "metadata": {},
     "output_type": "execute_result"
    }
   ],
   "source": [
    ">>> def xk(c, d):\n",
    "...     if c == 4:\n",
    "...         return 6\n",
    "...     elif d >= 4:\n",
    "...         return 6 + 7 + c\n",
    "...     else:\n",
    "...         return 25\n",
    "\n",
    ">>> xk(10, 10)\n",
    " # 23\n",
    "\n",
    ">>> xk(10, 6)\n",
    " # 23\n",
    "\n",
    ">>> xk(4, 6)\n",
    " # 4\n",
    "\n",
    ">>> xk(0, 0)\n",
    "# 25\n",
    "\n"
   ]
  },
  {
   "cell_type": "markdown",
   "id": "d4a12aaa-c32c-48b9-8fb6-6787594ac8fc",
   "metadata": {},
   "source": []
  },
  {
   "cell_type": "code",
   "execution_count": 1,
   "id": "03cb1e70-3927-4cdf-b614-056d7e85aa76",
   "metadata": {},
   "outputs": [
    {
     "name": "stdout",
     "output_type": "stream",
     "text": [
      "huge\n",
      "small\n",
      "nothin\n"
     ]
    }
   ],
   "source": [
    ">>> def how_big(x):\n",
    "...     if x > 10:\n",
    "...         print('huge')\n",
    "...     elif x > 5:\n",
    "...         return 'big'\n",
    "...     elif x > 0:\n",
    "...         print('small')\n",
    "...     else:\n",
    "...         print(\"nothin\")\n",
    ">>> how_big(7)\n",
    "# big\n",
    "\n",
    ">>> how_big(12)\n",
    "# huge\n",
    "\n",
    ">>> how_big(1)\n",
    "# small\n",
    "\n",
    ">>> how_big(-1)\n",
    "# nothin\n",
    "\n"
   ]
  },
  {
   "cell_type": "markdown",
   "id": "f6915979-cafa-43ba-82ce-f5c9b4ad1ff3",
   "metadata": {},
   "source": [
    "这里考察的不就是，if 和 else 语句的使用吗？这有什么难的？"
   ]
  },
  {
   "cell_type": "code",
   "execution_count": 2,
   "id": "cc5ef519-7bb8-492a-8ec5-1a5d87336dce",
   "metadata": {},
   "outputs": [
    {
     "name": "stdout",
     "output_type": "stream",
     "text": [
      "2\n",
      "1\n",
      "0\n",
      "-1\n"
     ]
    }
   ],
   "source": [
    ">>> n = 3\n",
    ">>> while n >= 0:\n",
    "...     n -= 1\n",
    "...     print(n)\n",
    "# 2 1 0 -1"
   ]
  },
  {
   "cell_type": "code",
   "execution_count": null,
   "id": "07c97025-68da-4fb5-9b4b-e1ef1ca1cd79",
   "metadata": {},
   "outputs": [],
   "source": [
    ">>> positive = 28\n",
    ">>> while positive != -2:\n",
    "...    print(\"positive?\")\n",
    "...    positive -= 3\n",
    "# ______ 无限循环"
   ]
  },
  {
   "cell_type": "code",
   "execution_count": 3,
   "id": "0ec4bdc3-0416-478e-9dd0-e22e438ca1fc",
   "metadata": {},
   "outputs": [
    {
     "name": "stdout",
     "output_type": "stream",
     "text": [
      "-12\n",
      "-9\n",
      "-6\n"
     ]
    }
   ],
   "source": [
    ">>> positive = -9\n",
    ">>> negative = -12\n",
    ">>> while negative:\n",
    "...    if positive:\n",
    "...        print(negative)\n",
    "...    positive += 3\n",
    "...    negative += 3\n",
    "# ______ 他这个不也是无限循环吗？有啥子区别？搞不懂"
   ]
  },
  {
   "cell_type": "markdown",
   "id": "e2a31397-7ece-4bad-bfe8-a2b7b42eb24d",
   "metadata": {},
   "source": []
  },
  {
   "cell_type": "code",
   "execution_count": 4,
   "id": "a4ea2b68-7f10-48d3-a97c-447a5b292b02",
   "metadata": {},
   "outputs": [
    {
     "data": {
      "text/plain": [
       "False"
      ]
     },
     "execution_count": 4,
     "metadata": {},
     "output_type": "execute_result"
    }
   ],
   "source": [
    "bool(0) \n",
    "# 负数的布尔值也是True。所以这个函数会无限循环。"
   ]
  },
  {
   "cell_type": "code",
   "execution_count": 10,
   "id": "e68ea6bf-8aed-446b-9621-fa71f5c8c980",
   "metadata": {},
   "outputs": [
    {
     "data": {
      "text/plain": [
       "False"
      ]
     },
     "execution_count": 10,
     "metadata": {},
     "output_type": "execute_result"
    }
   ],
   "source": [
    "True and False"
   ]
  },
  {
   "cell_type": "markdown",
   "id": "4a6d7a98-799a-47a2-8f64-a1553527083e",
   "metadata": {},
   "source": [
    "# 2. 输出结果"
   ]
  },
  {
   "cell_type": "markdown",
   "id": "f494734e-94fc-4978-9d25-3be16ea76d48",
   "metadata": {},
   "source": [
    "这道题考察的是，各种布尔类型的运算情况。比如 and，or ，not。and 表达式如果两个变量的值都为真，则返回儿第二个表达式的值。or只要有一个为真，那么表达式的值就为真，如果都为false，就返回第二变量的值。"
   ]
  },
  {
   "cell_type": "code",
   "execution_count": 17,
   "id": "19028b8f-62b9-47e7-bbf0-dd7ca83d5219",
   "metadata": {},
   "outputs": [
    {
     "data": {
      "text/plain": [
       "1"
      ]
     },
     "execution_count": 17,
     "metadata": {},
     "output_type": "execute_result"
    }
   ],
   "source": [
    ">>> True and 13\n",
    "# ______ True\n",
    "\n",
    ">>> not 10\n",
    "# ______ Flase\n",
    "\n",
    ">>> not None\n",
    "# ______ True\n",
    "\n",
    ">>> False or 0\n",
    "# ______ \n",
    "\n",
    ">>> 1 or 0\n",
    "\n",
    ">>> False or 1"
   ]
  },
  {
   "cell_type": "code",
   "execution_count": null,
   "id": "1187c34a-5b45-4a6c-af7b-35857355988c",
   "metadata": {},
   "outputs": [],
   "source": [
    ">>> True or 1 / 0 or False\n",
    "# ______\n",
    "\n",
    ">>> True and 0\n",
    "# ______\n",
    "\n",
    ">>> False or 1\n",
    "# ______\n",
    "\n",
    ">>> 1 and 3 and 6 and 10 and 15\n",
    "# ______\n",
    "\n",
    ">>> -1 and 1 > 0\n",
    "# ______"
   ]
  },
  {
   "cell_type": "markdown",
   "id": "781d6b4f-6f78-4fe7-ac55-ac9f39120b2f",
   "metadata": {},
   "source": [
    "  在Python中，or 是另一个逻辑运算符，用于连接两个布尔表达式。如果其中一个表达式为真，那么整个表达式的结果就为真。与 and 运算符类似，or 运算符也会对操作数进行短路评估，这意味着它只评估必要的操作数以确定结果。\n",
    "  表达式 True or 1 / 0 or False 包含三个操作数：True、1 / 0 和 False。根据短路评估的规则：\n",
    "    True 是一个布尔值，代表真。1 / 0 会导致一个除以零的错误，因为除以零在数学上是没有定义的，在Python中会抛出一个 ZeroDivisionError 异常。False 是一个布尔值，代表假。\n",
    "    由于 or 运算符会从左到右评估操作数，并在找到第一个真值时停止评估，所以在这个表达式中，一旦遇到 True，表达式就会立即返回 True，而不会继续评估后面的 1 / 0 或 False。\n",
    "    因此，表达式 True or 1 / 0 or False 的结果将是 True，而不会执行 1 / 0 这部分代码，也就不会抛出 ZeroDivisionError 异常。"
   ]
  },
  {
   "cell_type": "code",
   "execution_count": null,
   "id": "5ffe4880-61c6-4d47-82e7-ac4a09f37c7c",
   "metadata": {},
   "outputs": [],
   "source": [
    ">>> True and 1 / 0 and False\n",
    "# ______ True\n",
    "\n",
    ">>> 0 or False or 2 or 1 / 0\n",
    "# ______ 2\n",
    "\n",
    ">>> not 0\n",
    "# ______ True\n",
    "\n",
    ">>> (1 + 1) and 1\n",
    "# ______ 2\n",
    "\n",
    ">>> 1/0 or True\n",
    "# ______ True\n",
    "\n",
    ">>> (True or False) and False\n",
    "# False"
   ]
  }
 ],
 "metadata": {
  "kernelspec": {
   "display_name": "Python 3 (ipykernel)",
   "language": "python",
   "name": "python3"
  },
  "language_info": {
   "codemirror_mode": {
    "name": "ipython",
    "version": 3
   },
   "file_extension": ".py",
   "mimetype": "text/x-python",
   "name": "python",
   "nbconvert_exporter": "python",
   "pygments_lexer": "ipython3",
   "version": "3.12.1"
  }
 },
 "nbformat": 4,
 "nbformat_minor": 5
}
