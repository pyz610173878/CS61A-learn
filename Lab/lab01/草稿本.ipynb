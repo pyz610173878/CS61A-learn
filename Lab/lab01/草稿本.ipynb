{
 "cells": [
  {
   "cell_type": "markdown",
   "id": "6450b915-0bec-4e11-aed9-9a716632d35a",
   "metadata": {},
   "source": [
    "# 1. 输出结果是什么？\n",
    "\n",
    "第一题的主要内容为，编写了相关的函数，我们说输出结果。这里相当于就是把自己的大脑当成一个编译器，在脑子里把程序的输出结果描述出来。\n",
    "\n"
   ]
  },
  {
   "cell_type": "code",
   "execution_count": null,
   "id": "f1ca38fe-2bda-4928-a4e3-cfb11f4f2305",
   "metadata": {
    "editable": true,
    "slideshow": {
     "slide_type": ""
    },
    "tags": []
   },
   "outputs": [],
   "source": [
    ">>> def xk(c, d):\n",
    "...     if c == 4:\n",
    "...         return 6\n",
    "...     elif d >= 4:\n",
    "...         return 6 + 7 + c\n",
    "...     else:\n",
    "...         return 25\n",
    ">>> xk(10, 10)\n",
    "______\n",
    "\n",
    ">>> xk(10, 6)\n",
    "______\n",
    "\n",
    ">>> xk(4, 6)\n",
    "______\n",
    "\n",
    ">>> xk(0, 0)\n",
    "______"
   ]
  },
  {
   "cell_type": "code",
   "execution_count": null,
   "id": "03cb1e70-3927-4cdf-b614-056d7e85aa76",
   "metadata": {},
   "outputs": [],
   "source": [
    "zi"
   ]
  }
 ],
 "metadata": {
  "kernelspec": {
   "display_name": "Python 3 (ipykernel)",
   "language": "python",
   "name": "python3"
  },
  "language_info": {
   "codemirror_mode": {
    "name": "ipython",
    "version": 3
   },
   "file_extension": ".py",
   "mimetype": "text/x-python",
   "name": "python",
   "nbconvert_exporter": "python",
   "pygments_lexer": "ipython3",
   "version": "3.12.1"
  }
 },
 "nbformat": 4,
 "nbformat_minor": 5
}
