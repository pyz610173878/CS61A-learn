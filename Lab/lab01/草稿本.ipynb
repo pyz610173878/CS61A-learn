{
 "cells": [
  {
   "cell_type": "markdown",
   "id": "b1548ece-7770-42f8-afde-0384e37c810c",
   "metadata": {},
   "source": [
    "# 2. 解题过程\n",
    "\n",
    "整个表达式出现了两个布尔运算符，第一步应该拆分。"
   ]
  },
  {
   "cell_type": "code",
   "execution_count": 9,
   "id": "549d67aa-3550-43d2-bb2f-261315a308fd",
   "metadata": {},
   "outputs": [
    {
     "data": {
      "text/plain": [
       "False"
      ]
     },
     "execution_count": 9,
     "metadata": {},
     "output_type": "execute_result"
    }
   ],
   "source": [
    ">>> (True or False) and False"
   ]
  },
  {
   "cell_type": "code",
   "execution_count": 12,
   "id": "dded5089-4db9-45b4-8108-787b5dbac4cb",
   "metadata": {},
   "outputs": [
    {
     "data": {
      "text/plain": [
       "2"
      ]
     },
     "execution_count": 12,
     "metadata": {},
     "output_type": "execute_result"
    }
   ],
   "source": [
    "43 % 10\n",
    "43 // 10\n",
    "\n",
    "# 假设已经拿到了，参数为几位数。\n",
    "422 // 100\n",
    "22 % 10\n",
    "2 % 10\n",
    "\n",
    "\n",
    "(422 // 10) % 10"
   ]
  },
  {
   "cell_type": "markdown",
   "id": "841611ec-426b-4cad-8bf3-e3b51913b6a8",
   "metadata": {},
   "source": [
    "什么时候 //10，什么时候// 100，什么时候 // 1000呢。需要判断参数y，是几位数。最低就是为 10.\n"
   ]
  }
 ],
 "metadata": {
  "kernelspec": {
   "display_name": "Python 3 (ipykernel)",
   "language": "python",
   "name": "python3"
  },
  "language_info": {
   "codemirror_mode": {
    "name": "ipython",
    "version": 3
   },
   "file_extension": ".py",
   "mimetype": "text/x-python",
   "name": "python",
   "nbconvert_exporter": "python",
   "pygments_lexer": "ipython3",
   "version": "3.12.1"
  }
 },
 "nbformat": 4,
 "nbformat_minor": 5
}
