{
 "cells": [
  {
   "cell_type": "code",
   "execution_count": 4,
   "id": "36742d7e-58e4-4c82-b711-42dbf78e083b",
   "metadata": {},
   "outputs": [
    {
     "name": "stdout",
     "output_type": "stream",
     "text": [
      "4 20 56\n"
     ]
    }
   ],
   "source": [
    "def summation(n, term, next):\n",
    "    total, k = 0, 0\n",
    "    while k <= n:\n",
    "        total, k = total + term(k), next(k)\n",
    "    return total\n",
    "\n",
    "\n",
    "\n",
    "# 根据三个想类似的函数，找出他们之间的共性进行抽象，所得出这个函数。\n",
    "# 他们之间的共性，变量k值的变化所在。\n",
    "# 1. \n",
    "# 这个抽象出来的函数，可以解决任何求和方面的问题。\n",
    "# 而不是某一个特定的求和，比如自然数，比如平方数，比如立方。\n",
    "\n",
    "\n",
    "\n",
    "def pow_oushu(k):\n",
    "    return pow(k, 2)\n",
    "\n",
    "def k(k):\n",
    "    return k + 2\n",
    "\n",
    "\n",
    "def oushu_sum(n):\n",
    "    return summation(n, pow_oushu, k)\n",
    "\n",
    "\n",
    "# 为什么需要一个参数n，是因为增加灵活性。他是一个工具，你都没有一个开关，你要别人如何使用这个工具呢?\n",
    "# \n",
    "\n",
    "\n",
    "\n",
    "\n",
    "\n",
    "\n",
    "print(oushu_sum(2),oushu_sum(4),oushu_sum(6))\n",
    "\n",
    "\n",
    "\n",
    "\n",
    "\n",
    "\n",
    "\n",
    "\n",
    "# 第一步是抽象成函数。\n",
    "# 找出抽象出来的多个函数之间的共性，在进行抽象。这个函数的参数能够接受另外的函数。这是第二层抽象。"
   ]
  },
  {
   "cell_type": "code",
   "execution_count": null,
   "id": "d2d4d39e-5b72-4a19-b49e-d1ca31351889",
   "metadata": {},
   "outputs": [],
   "source": [
    "# 作为一般方法的函数\n",
    "\n",
    "\n",
    "\n",
    "\n",
    "def iter_improve(update, test, guess=1):\n",
    "    while not test(guess):\n",
    "        guess = update(guess)\n",
    "    return guess\n",
    "\n",
    "\n",
    "# 1. guess是推测黄金分割比的值\n",
    "# 2. update是一个函数，他的作用是改进 这个推测值\n",
    "# 3. test 是验证"
   ]
  }
 ],
 "metadata": {
  "kernelspec": {
   "display_name": "Python 3 (ipykernel)",
   "language": "python",
   "name": "python3"
  },
  "language_info": {
   "codemirror_mode": {
    "name": "ipython",
    "version": 3
   },
   "file_extension": ".py",
   "mimetype": "text/x-python",
   "name": "python",
   "nbconvert_exporter": "python",
   "pygments_lexer": "ipython3",
   "version": "3.7.4"
  }
 },
 "nbformat": 4,
 "nbformat_minor": 5
}
