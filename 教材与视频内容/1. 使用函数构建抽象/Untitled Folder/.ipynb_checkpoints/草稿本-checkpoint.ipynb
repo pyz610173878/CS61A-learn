{
 "cells": [
  {
   "cell_type": "code",
   "execution_count": null,
   "id": "36742d7e-58e4-4c82-b711-42dbf78e083b",
   "metadata": {},
   "outputs": [],
   "source": [
    "def summation(n, term, next):\n",
    "    total, k = 0, 0\n",
    "    while k <= n:\n",
    "        total, k = total + term(k), next(k)\n",
    "    return total\n",
    "\n",
    "\n",
    "\n",
    "# 根据三个想类似的函数，找出他们之间的共性进行抽象，所得出这个函数。\n",
    "# 他们之间的共性，变量k值的变化所在。\n",
    "# 1. \n",
    "\n",
    "\n",
    "\n",
    "# 计算偶数的平方值。\n",
    "\n",
    "\n",
    "def pow_oushu(k):\n",
    "    return pow(k, 2)\n",
    "\n",
    "def k(k):\n",
    "    return k + 2"
   ]
  }
 ],
 "metadata": {
  "kernelspec": {
   "display_name": "Python 3 (ipykernel)",
   "language": "python",
   "name": "python3"
  },
  "language_info": {
   "codemirror_mode": {
    "name": "ipython",
    "version": 3
   },
   "file_extension": ".py",
   "mimetype": "text/x-python",
   "name": "python",
   "nbconvert_exporter": "python",
   "pygments_lexer": "ipython3",
   "version": "3.7.4"
  }
 },
 "nbformat": 4,
 "nbformat_minor": 5
}
