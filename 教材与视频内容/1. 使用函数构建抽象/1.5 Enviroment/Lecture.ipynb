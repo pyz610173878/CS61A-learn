{
 "cells": [
  {
   "cell_type": "markdown",
   "metadata": {},
   "source": [
    "# 高阶函数\n",
    "\n",
    "1. 接受函数作为参数的函数\n",
    "2. 返回值为另外一个函数或者自身的函数。\n"
   ]
  },
  {
   "cell_type": "code",
   "execution_count": 1,
   "metadata": {},
   "outputs": [
    {
     "data": {
      "text/plain": [
       "8"
      ]
     },
     "execution_count": 1,
     "metadata": {},
     "output_type": "execute_result"
    }
   ],
   "source": [
    "# 函数参数\n",
    "\n",
    "\n",
    "def applay_three(f,x):\n",
    "    \"\"\"Return 连续调用三次的函数返回值\n",
    "    \n",
    "    >>> applay_three(square,1)\n",
    "    8\n",
    "    >>> apply_three(add,8)\n",
    "    8+1+1+1\n",
    "    11\n",
    "    \"\"\" \n",
    "    return f(f(f(x)))\n",
    "\n",
    "\n",
    "def square(x):\n",
    "    return x * 2\n",
    "\n",
    "def add(x):\n",
    "    return x + 1\n",
    "\n",
    "result = applay_three(square,1)\n",
    "\n",
    "result\n"
   ]
  },
  {
   "cell_type": "code",
   "execution_count": 4,
   "metadata": {},
   "outputs": [
    {
     "data": {
      "text/plain": [
       "13"
      ]
     },
     "execution_count": 4,
     "metadata": {},
     "output_type": "execute_result"
    }
   ],
   "source": [
    "# 函数返回值为一个函数\n",
    "\n",
    "\n",
    "def make_adder(n):\n",
    "    def adder(k):\n",
    "        return k + n\n",
    "    return adder\n",
    "\n",
    "results = make_adder(8)\n",
    "\n",
    "type(results)\n",
    "\n",
    "results(5) # 我在调用 adder函数"
   ]
  },
  {
   "cell_type": "markdown",
   "metadata": {},
   "source": [
    "嵌套的子函数能够获取并保存外层函数作用域中的值。这个子函数也叫做闭包函数。闭包能够使我们创建返回函数的高阶函数。"
   ]
  },
  {
   "cell_type": "markdown",
   "metadata": {},
   "source": [
    "## 高阶函数例子\n"
   ]
  },
  {
   "cell_type": "code",
   "execution_count": 7,
   "metadata": {},
   "outputs": [
    {
     "data": {
      "text/plain": [
       "NoneType"
      ]
     },
     "execution_count": 7,
     "metadata": {},
     "output_type": "execute_result"
    }
   ],
   "source": [
    "# 还未理解\n",
    "def repeat(f,x):\n",
    "    while f(x) != x:\n",
    "        x = f(x)\n",
    "    return\n",
    "\n",
    "def g(y):\n",
    "    return (y + 5) // 3\n",
    "\n",
    "\n",
    "result = repeat(g,5)\n",
    "\n",
    "# 没精神了，真的要睡觉了，暂时不看了。"
   ]
  }
 ],
 "metadata": {
  "kernelspec": {
   "display_name": "Python 3",
   "language": "python",
   "name": "python3"
  },
  "language_info": {
   "codemirror_mode": {
    "name": "ipython",
    "version": 3
   },
   "file_extension": ".py",
   "mimetype": "text/x-python",
   "name": "python",
   "nbconvert_exporter": "python",
   "pygments_lexer": "ipython3",
   "version": "3.12.1"
  }
 },
 "nbformat": 4,
 "nbformat_minor": 2
}
