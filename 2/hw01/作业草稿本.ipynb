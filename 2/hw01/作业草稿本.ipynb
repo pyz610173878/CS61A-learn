{
 "cells": [
  {
   "cell_type": "code",
   "execution_count": 8,
   "id": "57cd9ef4-ba66-411f-b103-46a169cd731b",
   "metadata": {},
   "outputs": [
    {
     "data": {
      "text/plain": [
       "2"
      ]
     },
     "execution_count": 8,
     "metadata": {},
     "output_type": "execute_result"
    }
   ],
   "source": [
    "from operator import add, sub\n",
    "\n",
    "def a_plus_abs_b(a, b):\n",
    "    \"\"\"Return a+abs(b), but without calling abs.\n",
    "\n",
    "    >>> a_plus_abs_b(2, 3)\n",
    "    5\n",
    "    >>> a_plus_abs_b(2, -3)\n",
    "    5\n",
    "    >>> # a check that you didn't change the return statement!\n",
    "    >>> import inspect, re\n",
    "    >>> re.findall(r'^\\s*(return .*)', inspect.getsource(a_plus_abs_b), re.M)\n",
    "    ['return f(a, b)']\n",
    "    \"\"\"\n",
    "    if b < 0:\n",
    "        f = sub\n",
    "    else:\n",
    "        f = add\n",
    "    return f(a, b)\n",
    "\n",
    "\n",
    "\n",
    "\n",
    "a_plus_abs_b(2, 3)\n",
    "a_plus_abs_b(2, -3)\n",
    "a_plus_abs_b(2, 0)\n",
    "\n",
    "\n",
    "# 首先这个函数的作用\n",
    "# Return a+abs(b), but without calling abs\n",
    "\n",
    "\n",
    "# 但这里f是以一个函数的形式返回\n",
    "# 但题目给我们的"
   ]
  },
  {
   "cell_type": "code",
   "execution_count": 3,
   "id": "a04150cc-e3d2-4eb1-be13-727939a9186e",
   "metadata": {},
   "outputs": [
    {
     "name": "stdout",
     "output_type": "stream",
     "text": [
      "Help on built-in function sub in module _operator:\n",
      "\n",
      "sub(a, b, /)\n",
      "    Same as a - b.\n",
      "\n"
     ]
    }
   ],
   "source": [
    "# from operator import add, sub\n",
    "\n",
    "# help(sub)"
   ]
  },
  {
   "cell_type": "code",
   "execution_count": 21,
   "id": "f52944f8-c525-4b7f-b9b8-10acd92b5782",
   "metadata": {},
   "outputs": [
    {
     "data": {
      "text/plain": [
       "2"
      ]
     },
     "execution_count": 21,
     "metadata": {},
     "output_type": "execute_result"
    }
   ],
   "source": [
    "# 三个中的两个\n",
    "# 编写一个函数，将三个正数作为参数并返回两个最小数的平方和。函数主体仅使用一行\n",
    "\n",
    "\n",
    "def two_of_three(x, y, z):\n",
    "    \"\"\"Return a*a + b*b, where a and b are the two smallest members of the\n",
    "    positive numbers x, y, and z.\n",
    "\n",
    "    >>> two_of_three(1, 2, 3)\n",
    "    5\n",
    "    >>> two_of_three(5, 3, 1)\n",
    "    10\n",
    "    >>> two_of_three(10, 2, 8)\n",
    "    68\n",
    "    >>> two_of_three(5, 5, 5)\n",
    "    50\n",
    "    >>> # check that your code consists of nothing but an expression (this docstring)\n",
    "    >>> # a return statement\n",
    "    >>> import inspect, ast\n",
    "    >>> [type(x).__name__ for x in ast.parse(inspect.getsource(two_of_three)).body[0].body]\n",
    "    ['Expr', 'Return']\n",
    "    \"\"\"\n",
    "    \n",
    "    \n",
    "    return \n",
    "\n",
    "# min(x,y, z)**2 + min(x, z)**2\n",
    "# x**2 + y**2 + z**2 - max(x, y, z)**2\n",
    "            \n",
    "\n",
    "two_of_three(1, 2, 3)\n",
    "two_of_three(5, 3, 1)\n",
    "# two_of_three(10, 2, 8)\n",
    "# two_of_three(5, 5, 5)\n",
    "# 1 + 2 + 3 - 3\n",
    "# pow可以算出平方数.\n",
    "# max\n",
    "    \n",
    "\n",
    "    \n",
    "\n",
    "# 从三个数中返回两个最小的数.\n",
    "# 首先把最大的数提取出来."
   ]
  },
  {
   "cell_type": "code",
   "execution_count": 13,
   "id": "fc00fed4-53ac-4777-95cd-c372d8e9db0c",
   "metadata": {},
   "outputs": [
    {
     "data": {
      "text/plain": [
       "4"
      ]
     },
     "execution_count": 13,
     "metadata": {},
     "output_type": "execute_result"
    }
   ],
   "source": [
    "pow(2, 2)"
   ]
  }
 ],
 "metadata": {
  "kernelspec": {
   "display_name": "Python 3 (ipykernel)",
   "language": "python",
   "name": "python3"
  },
  "language_info": {
   "codemirror_mode": {
    "name": "ipython",
    "version": 3
   },
   "file_extension": ".py",
   "mimetype": "text/x-python",
   "name": "python",
   "nbconvert_exporter": "python",
   "pygments_lexer": "ipython3",
   "version": "3.7.4"
  }
 },
 "nbformat": 4,
 "nbformat_minor": 5
}
