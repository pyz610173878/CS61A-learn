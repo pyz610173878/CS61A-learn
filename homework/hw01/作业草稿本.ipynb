{
 "cells": [
  {
   "cell_type": "code",
   "execution_count": 8,
   "id": "57cd9ef4-ba66-411f-b103-46a169cd731b",
   "metadata": {},
   "outputs": [
    {
     "data": {
      "text/plain": [
       "2"
      ]
     },
     "execution_count": 8,
     "metadata": {},
     "output_type": "execute_result"
    }
   ],
   "source": [
    "from operator import add, sub\n",
    "\n",
    "def a_plus_abs_b(a, b):\n",
    "    \"\"\"Return a+abs(b), but without calling abs.\n",
    "\n",
    "    >>> a_plus_abs_b(2, 3)\n",
    "    5\n",
    "    >>> a_plus_abs_b(2, -3)\n",
    "    5\n",
    "    >>> # a check that you didn't change the return statement!\n",
    "    >>> import inspect, re\n",
    "    >>> re.findall(r'^\\s*(return .*)', inspect.getsource(a_plus_abs_b), re.M)\n",
    "    ['return f(a, b)']\n",
    "    \"\"\"\n",
    "    if b < 0:\n",
    "        f = sub\n",
    "    else:\n",
    "        f = add\n",
    "    return f(a, b)\n",
    "\n",
    "\n",
    "\n",
    "\n",
    "a_plus_abs_b(2, 3)\n",
    "a_plus_abs_b(2, -3)\n",
    "a_plus_abs_b(2, 0)\n",
    "\n",
    "\n",
    "# 首先这个函数的作用\n",
    "# Return a+abs(b), but without calling abs\n",
    "\n",
    "\n",
    "# 但这里f是以一个函数的形式返回\n",
    "# 但题目给我们的"
   ]
  },
  {
   "cell_type": "code",
   "execution_count": 3,
   "id": "a04150cc-e3d2-4eb1-be13-727939a9186e",
   "metadata": {},
   "outputs": [
    {
     "name": "stdout",
     "output_type": "stream",
     "text": [
      "Help on built-in function sub in module _operator:\n",
      "\n",
      "sub(a, b, /)\n",
      "    Same as a - b.\n",
      "\n"
     ]
    }
   ],
   "source": [
    "# from operator import add, sub\n",
    "\n",
    "# help(sub)"
   ]
  },
  {
   "cell_type": "code",
   "execution_count": 21,
   "id": "f52944f8-c525-4b7f-b9b8-10acd92b5782",
   "metadata": {},
   "outputs": [
    {
     "data": {
      "text/plain": [
       "2"
      ]
     },
     "execution_count": 21,
     "metadata": {},
     "output_type": "execute_result"
    }
   ],
   "source": [
    "# 三个中的两个\n",
    "# 编写一个函数，将三个正数作为参数并返回两个最小数的平方和。函数主体仅使用一行\n",
    "\n",
    "\n",
    "def two_of_three(x, y, z):\n",
    "    \"\"\"Return a*a + b*b, where a and b are the two smallest members of the\n",
    "    positive numbers x, y, and z.\n",
    "\n",
    "    >>> two_of_three(1, 2, 3)\n",
    "    5\n",
    "    >>> two_of_three(5, 3, 1)\n",
    "    10\n",
    "    >>> two_of_three(10, 2, 8)\n",
    "    68\n",
    "    >>> two_of_three(5, 5, 5)\n",
    "    50\n",
    "    >>> # check that your code consists of nothing but an expression (this docstring)\n",
    "    >>> # a return statement\n",
    "    >>> import inspect, ast\n",
    "    >>> [type(x).__name__ for x in ast.parse(inspect.getsource(two_of_three)).body[0].body]\n",
    "    ['Expr', 'Return']\n",
    "    \"\"\"\n",
    "    \n",
    "    \n",
    "    return \n",
    "\n",
    "# min(x,y, z)**2 + min(x, z)**2\n",
    "# x**2 + y**2 + z**2 - max(x, y, z)**2\n",
    "            \n",
    "\n",
    "two_of_three(1, 2, 3)\n",
    "two_of_three(5, 3, 1)\n",
    "# two_of_three(10, 2, 8)\n",
    "# two_of_three(5, 5, 5)\n",
    "# 1 + 2 + 3 - 3\n",
    "# pow可以算出平方数.\n",
    "# max\n",
    "    \n",
    "\n",
    "    \n",
    "\n",
    "# 从三个数中返回两个最小的数.\n",
    "# 首先把最大的数提取出来."
   ]
  },
  {
   "cell_type": "code",
   "execution_count": 13,
   "id": "fc00fed4-53ac-4777-95cd-c372d8e9db0c",
   "metadata": {},
   "outputs": [
    {
     "data": {
      "text/plain": [
       "4"
      ]
     },
     "execution_count": 13,
     "metadata": {},
     "output_type": "execute_result"
    }
   ],
   "source": [
    "# 题目已经懂了。\n",
    "\n",
    "\n",
    "\n",
    "# 返回他的公约数。我不记得如何计算最大公约数了。\n"
   ]
  },
  {
   "cell_type": "code",
   "execution_count": 1,
   "id": "bfcb3d71-3648-473f-9a7f-312438325ff2",
   "metadata": {},
   "outputs": [
    {
     "data": {
      "text/plain": [
       "'小于'"
      ]
     },
     "execution_count": 1,
     "metadata": {},
     "output_type": "execute_result"
    }
   ],
   "source": [
    "\n",
    "\n",
    "def if_function(condition, true_result, false_result):\n",
    "    \"\"\"根据condition表达式的值返回对应的值结果。.\n",
    "\n",
    "    >>> if_function(True, 2, 3)\n",
    "    2\n",
    "    >>> if_function(False, 2, 3)\n",
    "    3\n",
    "    >>> if_function(3==2, 3+2, 3-2)\n",
    "    1\n",
    "    >>> if_function(3>2, 3+2, 3-2)\n",
    "    5\n",
    "    \"\"\"\n",
    "    if condition:\n",
    "        return true_result\n",
    "    else:\n",
    "        return false_result\n",
    "\n",
    "\n",
    "\n",
    "# 怎么函数怎么用呢？他可以替代if else。为什么说可以替代if else。因为if else。也是根据表达式的值来确定的。如果为真返回什么，否则的情况肯定就是假嘛。\n",
    "\n",
    "\n",
    "\n",
    "# 如果A大于三返回大于，否则返回小于。\n",
    "\n",
    "\n",
    "a = 3\n",
    "\n",
    "if_function(a>3,\"大于\",\"小于\")\n",
    "\n",
    "# 表达式，真与假的返回结果。"
   ]
  },
  {
   "cell_type": "code",
   "execution_count": 1,
   "id": "6bc25241-84e9-499a-a911-8ad2d3d22176",
   "metadata": {},
   "outputs": [],
   "source": [
    "# 用函数写一个 if语句相同作用的函数\n",
    "\n",
    "\n",
    "def with_if_statement():\n",
    "    \"\"\"\n",
    "    >>> result = with_if_statement()\n",
    "    47\n",
    "    >>> print(result)\n",
    "    None\n",
    "    \"\"\"\n",
    "    if cond():\n",
    "        return true_func()\n",
    "    else:\n",
    "        return false_func()\n",
    "\n",
    "    \n",
    "    \n",
    "# 我第一个要解决的函数是，cond函数。    \n",
    "# 这个函数的结果要等于 47.这不是很简单嘛？\n",
    "    \n",
    "    \n",
    "\n",
    "def with_if_function():\n",
    "    \"\"\"\n",
    "    >>> result = with_if_function()\n",
    "    42\n",
    "    47\n",
    "    >>> print(result)\n",
    "    None\n",
    "    \"\"\"\n",
    "    return if_function(cond(), true_func(), false_func())\n",
    "\n",
    "def cond():\n",
    "    \n",
    "\n",
    "def true_func():\n",
    "    \"*** YOUR CODE HERE ***\"\n",
    "\n",
    "def false_func():\n",
    "    \"*** YOUR CODE HERE ***\""
   ]
  }
 ],
 "metadata": {
  "kernelspec": {
   "display_name": "Python 3 (ipykernel)",
   "language": "python",
   "name": "python3"
  },
  "language_info": {
   "codemirror_mode": {
    "name": "ipython",
    "version": 3
   },
   "file_extension": ".py",
   "mimetype": "text/x-python",
   "name": "python",
   "nbconvert_exporter": "python",
   "pygments_lexer": "ipython3",
   "version": "3.12.1"
  }
 },
 "nbformat": 4,
 "nbformat_minor": 5
}
